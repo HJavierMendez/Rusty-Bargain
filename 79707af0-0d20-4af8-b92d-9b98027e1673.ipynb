{
 "cells": [
  {
   "cell_type": "markdown",
   "metadata": {},
   "source": [
    "# Descripción del proyecto\n",
    "\n",
    "El servicio de venta de autos usados Rusty Bargain está desarrollando una aplicación para atraer nuevos clientes. Gracias a esa app, puedes averiguar rápidamente el valor de mercado de tu coche. Tienes acceso al historial: especificaciones técnicas, versiones de equipamiento y precios. Tienes que crear un modelo que determine el valor de mercado.\n",
    "A Rusty Bargain le interesa:\n",
    "- la calidad de la predicción;\n",
    "- la velocidad de la predicción;\n",
    "- el tiempo requerido para el entrenamiento"
   ]
  },
  {
   "cell_type": "markdown",
   "metadata": {},
   "source": [
    "# Instrucciones del proyecto\n",
    "1. Descarga y examina los datos.\n",
    "2. Entrena diferentes modelos con varios hiperparámetros (debes hacer al menos dos modelos diferentes, pero más es mejor. Recuerda, varias implementaciones de potenciación del gradiente no cuentan como modelos diferentes). El punto principal de este paso es comparar métodos de potenciación del gradiente con bosque aleatorio, árbol de decisión y regresión lineal.\n",
    "3. Analiza la velocidad y la calidad de los modelos.\n",
    "\n",
    "**Observaciones:**\n",
    "\n",
    "* Utiliza la métrica RECM para evaluar los modelos.\n",
    "* La regresión lineal no es muy buena para el ajuste de hiperparámetros, pero es perfecta para hacer una prueba de cordura de otros métodos. Si la potenciación del gradiente funciona peor que la regresión lineal, definitivamente algo salió mal.\n",
    "* Aprende por tu propia cuenta sobre la librería LightGBM y sus herramientas para crear modelos de potenciación del gradiente (gradient boosting).\n",
    "* Idealmente, tu proyecto debe tener regresión lineal para una prueba de cordura, un algoritmo basado en árbol con ajuste de hiperparámetros (preferiblemente, bosque aleatorio), LightGBM con ajuste de hiperparámetros (prueba un par de conjuntos), y CatBoost y XGBoost con ajuste de hiperparámetros (opcional).\n",
    "* Toma nota de la codificación de características categóricas para algoritmos simples. LightGBM y CatBoost tienen su implementación, pero XGBoost requiere OHE.\n",
    "* Puedes usar un comando especial para encontrar el tiempo de ejecución del código de celda en Jupyter Notebook. Encuentra ese comando.\n",
    "* Dado que el entrenamiento de un modelo de potenciación del gradiente puede llevar mucho tiempo, cambia solo algunos parámetros del modelo.\n",
    "* Si Jupyter Notebook deja de funcionar, elimina las variables excesivas por medio del operador del:\n",
    "<div class=\"alert alert-block alert-info\">\n",
    "    <b>del features_train</b>\n",
    "</div>  \n",
    "\n",
    "# Descripción de los datos\n",
    "El dataset está almacenado en el archivo /datasets/car_data.csv. descargar dataset.\n",
    "\n",
    "**Características**\n",
    "\n",
    "* **DateCrawled** — fecha en la que se descargó el perfil de la base de datos\n",
    "* **VehicleType** — tipo de carrocería del vehículo\n",
    "* **RegistrationYear** — año de matriculación del vehículo\n",
    "* **Gearbox** — tipo de caja de cambios\n",
    "* **Power** — potencia (CV)\n",
    "* **Model** — modelo del vehículo\n",
    "* **Mileage** — kilometraje (medido en km de acuerdo con las especificidades regionales del conjunto de datos)\n",
    "* **RegistrationMonth** — mes de matriculación del vehículo\n",
    "* **FuelType** — tipo de combustible\n",
    "* **Brand** — marca del vehículo\n",
    "* **NotRepaired** — vehículo con o sin reparación\n",
    "* **DateCreated** — fecha de creación del perfil\n",
    "* **NumberOfPictures** — número de fotos del vehículo\n",
    "* **PostalCode** — código postal del propietario del perfil (usuario)\n",
    "* **LastSeen** — fecha de la última vez que el usuario estuvo activo\n",
    "* **Objetivo**\n",
    "  * Price — precio (en euros)"
   ]
  },
  {
   "cell_type": "markdown",
   "metadata": {},
   "source": [
    "## Preparación de datos"
   ]
  },
  {
   "cell_type": "code",
   "execution_count": 1,
   "metadata": {},
   "outputs": [],
   "source": [
    "import pandas as pd\n",
    "import math\n",
    "import numpy as np\n",
    "import matplotlib.pyplot as plt\n",
    "import seaborn as sns\n",
    "import time\n",
    "from sklearn.model_selection import train_test_split\n",
    "from sklearn.tree import DecisionTreeRegressor\n",
    "from sklearn.ensemble import RandomForestClassifier\n",
    "from sklearn.linear_model import LinearRegression\n",
    "from sklearn.preprocessing import MaxAbsScaler\n",
    "from sklearn.neighbors import NearestNeighbors\n",
    "\n",
    "\n",
    "from sklearn.metrics import f1_score\n",
    "from sklearn.metrics import mean_squared_error\n",
    "from sklearn.metrics import accuracy_score\n",
    "\n",
    "import lightgbm as lgb\n",
    "from catboost import CatBoostClassifier\n",
    "from xgboost import XGBClassifier\n",
    "\n"
   ]
  },
  {
   "cell_type": "code",
   "execution_count": 2,
   "metadata": {},
   "outputs": [],
   "source": [
    "df = pd.read_csv('/datasets/car_data.csv')"
   ]
  },
  {
   "cell_type": "code",
   "execution_count": 3,
   "metadata": {},
   "outputs": [
    {
     "data": {
      "text/html": [
       "<div>\n",
       "<style scoped>\n",
       "    .dataframe tbody tr th:only-of-type {\n",
       "        vertical-align: middle;\n",
       "    }\n",
       "\n",
       "    .dataframe tbody tr th {\n",
       "        vertical-align: top;\n",
       "    }\n",
       "\n",
       "    .dataframe thead th {\n",
       "        text-align: right;\n",
       "    }\n",
       "</style>\n",
       "<table border=\"1\" class=\"dataframe\">\n",
       "  <thead>\n",
       "    <tr style=\"text-align: right;\">\n",
       "      <th></th>\n",
       "      <th>DateCrawled</th>\n",
       "      <th>Price</th>\n",
       "      <th>VehicleType</th>\n",
       "      <th>RegistrationYear</th>\n",
       "      <th>Gearbox</th>\n",
       "      <th>Power</th>\n",
       "      <th>Model</th>\n",
       "      <th>Mileage</th>\n",
       "      <th>RegistrationMonth</th>\n",
       "      <th>FuelType</th>\n",
       "      <th>Brand</th>\n",
       "      <th>NotRepaired</th>\n",
       "      <th>DateCreated</th>\n",
       "      <th>NumberOfPictures</th>\n",
       "      <th>PostalCode</th>\n",
       "      <th>LastSeen</th>\n",
       "    </tr>\n",
       "  </thead>\n",
       "  <tbody>\n",
       "    <tr>\n",
       "      <th>0</th>\n",
       "      <td>24/03/2016 11:52</td>\n",
       "      <td>480</td>\n",
       "      <td>NaN</td>\n",
       "      <td>1993</td>\n",
       "      <td>manual</td>\n",
       "      <td>0</td>\n",
       "      <td>golf</td>\n",
       "      <td>150000</td>\n",
       "      <td>0</td>\n",
       "      <td>petrol</td>\n",
       "      <td>volkswagen</td>\n",
       "      <td>NaN</td>\n",
       "      <td>24/03/2016 00:00</td>\n",
       "      <td>0</td>\n",
       "      <td>70435</td>\n",
       "      <td>07/04/2016 03:16</td>\n",
       "    </tr>\n",
       "    <tr>\n",
       "      <th>1</th>\n",
       "      <td>24/03/2016 10:58</td>\n",
       "      <td>18300</td>\n",
       "      <td>coupe</td>\n",
       "      <td>2011</td>\n",
       "      <td>manual</td>\n",
       "      <td>190</td>\n",
       "      <td>NaN</td>\n",
       "      <td>125000</td>\n",
       "      <td>5</td>\n",
       "      <td>gasoline</td>\n",
       "      <td>audi</td>\n",
       "      <td>yes</td>\n",
       "      <td>24/03/2016 00:00</td>\n",
       "      <td>0</td>\n",
       "      <td>66954</td>\n",
       "      <td>07/04/2016 01:46</td>\n",
       "    </tr>\n",
       "    <tr>\n",
       "      <th>2</th>\n",
       "      <td>14/03/2016 12:52</td>\n",
       "      <td>9800</td>\n",
       "      <td>suv</td>\n",
       "      <td>2004</td>\n",
       "      <td>auto</td>\n",
       "      <td>163</td>\n",
       "      <td>grand</td>\n",
       "      <td>125000</td>\n",
       "      <td>8</td>\n",
       "      <td>gasoline</td>\n",
       "      <td>jeep</td>\n",
       "      <td>NaN</td>\n",
       "      <td>14/03/2016 00:00</td>\n",
       "      <td>0</td>\n",
       "      <td>90480</td>\n",
       "      <td>05/04/2016 12:47</td>\n",
       "    </tr>\n",
       "    <tr>\n",
       "      <th>3</th>\n",
       "      <td>17/03/2016 16:54</td>\n",
       "      <td>1500</td>\n",
       "      <td>small</td>\n",
       "      <td>2001</td>\n",
       "      <td>manual</td>\n",
       "      <td>75</td>\n",
       "      <td>golf</td>\n",
       "      <td>150000</td>\n",
       "      <td>6</td>\n",
       "      <td>petrol</td>\n",
       "      <td>volkswagen</td>\n",
       "      <td>no</td>\n",
       "      <td>17/03/2016 00:00</td>\n",
       "      <td>0</td>\n",
       "      <td>91074</td>\n",
       "      <td>17/03/2016 17:40</td>\n",
       "    </tr>\n",
       "    <tr>\n",
       "      <th>4</th>\n",
       "      <td>31/03/2016 17:25</td>\n",
       "      <td>3600</td>\n",
       "      <td>small</td>\n",
       "      <td>2008</td>\n",
       "      <td>manual</td>\n",
       "      <td>69</td>\n",
       "      <td>fabia</td>\n",
       "      <td>90000</td>\n",
       "      <td>7</td>\n",
       "      <td>gasoline</td>\n",
       "      <td>skoda</td>\n",
       "      <td>no</td>\n",
       "      <td>31/03/2016 00:00</td>\n",
       "      <td>0</td>\n",
       "      <td>60437</td>\n",
       "      <td>06/04/2016 10:17</td>\n",
       "    </tr>\n",
       "  </tbody>\n",
       "</table>\n",
       "</div>"
      ],
      "text/plain": [
       "        DateCrawled  Price VehicleType  RegistrationYear Gearbox  Power  \\\n",
       "0  24/03/2016 11:52    480         NaN              1993  manual      0   \n",
       "1  24/03/2016 10:58  18300       coupe              2011  manual    190   \n",
       "2  14/03/2016 12:52   9800         suv              2004    auto    163   \n",
       "3  17/03/2016 16:54   1500       small              2001  manual     75   \n",
       "4  31/03/2016 17:25   3600       small              2008  manual     69   \n",
       "\n",
       "   Model  Mileage  RegistrationMonth  FuelType       Brand NotRepaired  \\\n",
       "0   golf   150000                  0    petrol  volkswagen         NaN   \n",
       "1    NaN   125000                  5  gasoline        audi         yes   \n",
       "2  grand   125000                  8  gasoline        jeep         NaN   \n",
       "3   golf   150000                  6    petrol  volkswagen          no   \n",
       "4  fabia    90000                  7  gasoline       skoda          no   \n",
       "\n",
       "        DateCreated  NumberOfPictures  PostalCode          LastSeen  \n",
       "0  24/03/2016 00:00                 0       70435  07/04/2016 03:16  \n",
       "1  24/03/2016 00:00                 0       66954  07/04/2016 01:46  \n",
       "2  14/03/2016 00:00                 0       90480  05/04/2016 12:47  \n",
       "3  17/03/2016 00:00                 0       91074  17/03/2016 17:40  \n",
       "4  31/03/2016 00:00                 0       60437  06/04/2016 10:17  "
      ]
     },
     "execution_count": 3,
     "metadata": {},
     "output_type": "execute_result"
    }
   ],
   "source": [
    "# Revisando los datos \n",
    "df.head()"
   ]
  },
  {
   "cell_type": "code",
   "execution_count": 4,
   "metadata": {},
   "outputs": [
    {
     "data": {
      "text/html": [
       "<div>\n",
       "<style scoped>\n",
       "    .dataframe tbody tr th:only-of-type {\n",
       "        vertical-align: middle;\n",
       "    }\n",
       "\n",
       "    .dataframe tbody tr th {\n",
       "        vertical-align: top;\n",
       "    }\n",
       "\n",
       "    .dataframe thead th {\n",
       "        text-align: right;\n",
       "    }\n",
       "</style>\n",
       "<table border=\"1\" class=\"dataframe\">\n",
       "  <thead>\n",
       "    <tr style=\"text-align: right;\">\n",
       "      <th></th>\n",
       "      <th>date_crawled</th>\n",
       "      <th>price</th>\n",
       "      <th>vehicle_type</th>\n",
       "      <th>registration_year</th>\n",
       "      <th>gearbox</th>\n",
       "      <th>power</th>\n",
       "      <th>model</th>\n",
       "      <th>mileage</th>\n",
       "      <th>registration_month</th>\n",
       "      <th>fuel_type</th>\n",
       "      <th>brand</th>\n",
       "      <th>not_repaired</th>\n",
       "      <th>date_created</th>\n",
       "      <th>number_of_pictures</th>\n",
       "      <th>postal_code</th>\n",
       "      <th>last_seen</th>\n",
       "    </tr>\n",
       "  </thead>\n",
       "  <tbody>\n",
       "    <tr>\n",
       "      <th>0</th>\n",
       "      <td>24/03/2016 11:52</td>\n",
       "      <td>480</td>\n",
       "      <td>NaN</td>\n",
       "      <td>1993</td>\n",
       "      <td>manual</td>\n",
       "      <td>0</td>\n",
       "      <td>golf</td>\n",
       "      <td>150000</td>\n",
       "      <td>0</td>\n",
       "      <td>petrol</td>\n",
       "      <td>volkswagen</td>\n",
       "      <td>NaN</td>\n",
       "      <td>24/03/2016 00:00</td>\n",
       "      <td>0</td>\n",
       "      <td>70435</td>\n",
       "      <td>07/04/2016 03:16</td>\n",
       "    </tr>\n",
       "    <tr>\n",
       "      <th>1</th>\n",
       "      <td>24/03/2016 10:58</td>\n",
       "      <td>18300</td>\n",
       "      <td>coupe</td>\n",
       "      <td>2011</td>\n",
       "      <td>manual</td>\n",
       "      <td>190</td>\n",
       "      <td>NaN</td>\n",
       "      <td>125000</td>\n",
       "      <td>5</td>\n",
       "      <td>gasoline</td>\n",
       "      <td>audi</td>\n",
       "      <td>yes</td>\n",
       "      <td>24/03/2016 00:00</td>\n",
       "      <td>0</td>\n",
       "      <td>66954</td>\n",
       "      <td>07/04/2016 01:46</td>\n",
       "    </tr>\n",
       "    <tr>\n",
       "      <th>2</th>\n",
       "      <td>14/03/2016 12:52</td>\n",
       "      <td>9800</td>\n",
       "      <td>suv</td>\n",
       "      <td>2004</td>\n",
       "      <td>auto</td>\n",
       "      <td>163</td>\n",
       "      <td>grand</td>\n",
       "      <td>125000</td>\n",
       "      <td>8</td>\n",
       "      <td>gasoline</td>\n",
       "      <td>jeep</td>\n",
       "      <td>NaN</td>\n",
       "      <td>14/03/2016 00:00</td>\n",
       "      <td>0</td>\n",
       "      <td>90480</td>\n",
       "      <td>05/04/2016 12:47</td>\n",
       "    </tr>\n",
       "  </tbody>\n",
       "</table>\n",
       "</div>"
      ],
      "text/plain": [
       "       date_crawled  price vehicle_type  registration_year gearbox  power  \\\n",
       "0  24/03/2016 11:52    480          NaN               1993  manual      0   \n",
       "1  24/03/2016 10:58  18300        coupe               2011  manual    190   \n",
       "2  14/03/2016 12:52   9800          suv               2004    auto    163   \n",
       "\n",
       "   model  mileage  registration_month fuel_type       brand not_repaired  \\\n",
       "0   golf   150000                   0    petrol  volkswagen          NaN   \n",
       "1    NaN   125000                   5  gasoline        audi          yes   \n",
       "2  grand   125000                   8  gasoline        jeep          NaN   \n",
       "\n",
       "       date_created  number_of_pictures  postal_code         last_seen  \n",
       "0  24/03/2016 00:00                   0        70435  07/04/2016 03:16  \n",
       "1  24/03/2016 00:00                   0        66954  07/04/2016 01:46  \n",
       "2  14/03/2016 00:00                   0        90480  05/04/2016 12:47  "
      ]
     },
     "execution_count": 4,
     "metadata": {},
     "output_type": "execute_result"
    }
   ],
   "source": [
    "#Aplicado snake_case a las columnas  \n",
    "df.columns = (df.columns.str.replace('(?<=[a-z])(?=[A-Z])', '_', regex=True).str.lower())\n",
    "df.head(3)"
   ]
  },
  {
   "cell_type": "code",
   "execution_count": 5,
   "metadata": {},
   "outputs": [],
   "source": [
    "#  eliminacios de columnas irrelevantes para las predicciones \n",
    "df = df.drop(['date_crawled', 'registration_year','registration_month','date_created','number_of_pictures','postal_code','last_seen'], axis=1)"
   ]
  },
  {
   "cell_type": "code",
   "execution_count": 6,
   "metadata": {},
   "outputs": [
    {
     "name": "stdout",
     "output_type": "stream",
     "text": [
      "Se encontraron un total de valores duplicados: 73748\n"
     ]
    }
   ],
   "source": [
    "# revision de valores duplicados \n",
    "print('Se encontraron un total de valores duplicados:',df.duplicated().sum())\n"
   ]
  },
  {
   "cell_type": "code",
   "execution_count": 7,
   "metadata": {},
   "outputs": [
    {
     "name": "stdout",
     "output_type": "stream",
     "text": [
      "Se encontraron un total de valores duplicados: 0\n"
     ]
    }
   ],
   "source": [
    "#Eliminacion de valores duplicados \n",
    "df = df.drop_duplicates().reset_index(drop=True)\n",
    "print('Se encontraron un total de valores duplicados:',df.duplicated().sum())"
   ]
  },
  {
   "cell_type": "code",
   "execution_count": 8,
   "metadata": {},
   "outputs": [
    {
     "name": "stdout",
     "output_type": "stream",
     "text": [
      "<class 'pandas.core.frame.DataFrame'>\n",
      "RangeIndex: 280621 entries, 0 to 280620\n",
      "Data columns (total 9 columns):\n",
      " #   Column        Non-Null Count   Dtype \n",
      "---  ------        --------------   ----- \n",
      " 0   price         280621 non-null  int64 \n",
      " 1   vehicle_type  247978 non-null  object\n",
      " 2   gearbox       264547 non-null  object\n",
      " 3   power         280621 non-null  int64 \n",
      " 4   model         263002 non-null  object\n",
      " 5   mileage       280621 non-null  int64 \n",
      " 6   fuel_type     251307 non-null  object\n",
      " 7   brand         280621 non-null  object\n",
      " 8   not_repaired  220575 non-null  object\n",
      "dtypes: int64(3), object(6)\n",
      "memory usage: 19.3+ MB\n"
     ]
    }
   ],
   "source": [
    "df.info()"
   ]
  },
  {
   "cell_type": "code",
   "execution_count": 9,
   "metadata": {},
   "outputs": [
    {
     "name": "stdout",
     "output_type": "stream",
     "text": [
      "se muestran los valores ausentes en df\n"
     ]
    },
    {
     "data": {
      "text/plain": [
       "price            0.000000\n",
       "vehicle_type    11.632415\n",
       "gearbox          5.728010\n",
       "power            0.000000\n",
       "model            6.278575\n",
       "mileage          0.000000\n",
       "fuel_type       10.446118\n",
       "brand            0.000000\n",
       "not_repaired    21.397543\n",
       "dtype: float64"
      ]
     },
     "execution_count": 9,
     "metadata": {},
     "output_type": "execute_result"
    }
   ],
   "source": [
    "# revisando los valores ausentes\n",
    "\n",
    "print('se muestran los valores ausentes en df')\n",
    "100*df.isna().sum()/df.shape[0]"
   ]
  },
  {
   "cell_type": "code",
   "execution_count": 10,
   "metadata": {},
   "outputs": [],
   "source": [
    "#df['not_repaired'].fillna('unknown',inplace=True)\n",
    "df['not_repaired'].fillna('unknown',inplace=True)"
   ]
  },
  {
   "cell_type": "code",
   "execution_count": 11,
   "metadata": {},
   "outputs": [
    {
     "data": {
      "text/plain": [
       "price           0\n",
       "vehicle_type    0\n",
       "gearbox         0\n",
       "power           0\n",
       "model           0\n",
       "mileage         0\n",
       "fuel_type       0\n",
       "brand           0\n",
       "not_repaired    0\n",
       "dtype: int64"
      ]
     },
     "execution_count": 11,
     "metadata": {},
     "output_type": "execute_result"
    }
   ],
   "source": [
    "# eliminar los valores ausentes \n",
    "df = df.dropna().reset_index(drop=True)\n",
    "df.isna().sum()"
   ]
  },
  {
   "cell_type": "code",
   "execution_count": 12,
   "metadata": {},
   "outputs": [
    {
     "name": "stdout",
     "output_type": "stream",
     "text": [
      "<class 'pandas.core.frame.DataFrame'>\n",
      "RangeIndex: 218162 entries, 0 to 218161\n",
      "Data columns (total 9 columns):\n",
      " #   Column        Non-Null Count   Dtype \n",
      "---  ------        --------------   ----- \n",
      " 0   price         218162 non-null  int64 \n",
      " 1   vehicle_type  218162 non-null  object\n",
      " 2   gearbox       218162 non-null  object\n",
      " 3   power         218162 non-null  int64 \n",
      " 4   model         218162 non-null  object\n",
      " 5   mileage       218162 non-null  int64 \n",
      " 6   fuel_type     218162 non-null  object\n",
      " 7   brand         218162 non-null  object\n",
      " 8   not_repaired  218162 non-null  object\n",
      "dtypes: int64(3), object(6)\n",
      "memory usage: 15.0+ MB\n"
     ]
    }
   ],
   "source": [
    "#Revision de tipos de datos\n",
    "df.info()"
   ]
  },
  {
   "cell_type": "code",
   "execution_count": 13,
   "metadata": {},
   "outputs": [
    {
     "data": {
      "text/html": [
       "<div>\n",
       "<style scoped>\n",
       "    .dataframe tbody tr th:only-of-type {\n",
       "        vertical-align: middle;\n",
       "    }\n",
       "\n",
       "    .dataframe tbody tr th {\n",
       "        vertical-align: top;\n",
       "    }\n",
       "\n",
       "    .dataframe thead th {\n",
       "        text-align: right;\n",
       "    }\n",
       "</style>\n",
       "<table border=\"1\" class=\"dataframe\">\n",
       "  <thead>\n",
       "    <tr style=\"text-align: right;\">\n",
       "      <th></th>\n",
       "      <th>price</th>\n",
       "      <th>vehicle_type</th>\n",
       "      <th>gearbox</th>\n",
       "      <th>power</th>\n",
       "      <th>model</th>\n",
       "      <th>mileage</th>\n",
       "      <th>fuel_type</th>\n",
       "      <th>brand</th>\n",
       "      <th>not_repaired</th>\n",
       "    </tr>\n",
       "  </thead>\n",
       "  <tbody>\n",
       "    <tr>\n",
       "      <th>0</th>\n",
       "      <td>9800</td>\n",
       "      <td>suv</td>\n",
       "      <td>auto</td>\n",
       "      <td>163</td>\n",
       "      <td>grand</td>\n",
       "      <td>125000</td>\n",
       "      <td>gasoline</td>\n",
       "      <td>jeep</td>\n",
       "      <td>unknown</td>\n",
       "    </tr>\n",
       "    <tr>\n",
       "      <th>1</th>\n",
       "      <td>1500</td>\n",
       "      <td>small</td>\n",
       "      <td>manual</td>\n",
       "      <td>75</td>\n",
       "      <td>golf</td>\n",
       "      <td>150000</td>\n",
       "      <td>petrol</td>\n",
       "      <td>volkswagen</td>\n",
       "      <td>no</td>\n",
       "    </tr>\n",
       "    <tr>\n",
       "      <th>2</th>\n",
       "      <td>3600</td>\n",
       "      <td>small</td>\n",
       "      <td>manual</td>\n",
       "      <td>69</td>\n",
       "      <td>fabia</td>\n",
       "      <td>90000</td>\n",
       "      <td>gasoline</td>\n",
       "      <td>skoda</td>\n",
       "      <td>no</td>\n",
       "    </tr>\n",
       "    <tr>\n",
       "      <th>3</th>\n",
       "      <td>650</td>\n",
       "      <td>sedan</td>\n",
       "      <td>manual</td>\n",
       "      <td>102</td>\n",
       "      <td>3er</td>\n",
       "      <td>150000</td>\n",
       "      <td>petrol</td>\n",
       "      <td>bmw</td>\n",
       "      <td>yes</td>\n",
       "    </tr>\n",
       "    <tr>\n",
       "      <th>4</th>\n",
       "      <td>2200</td>\n",
       "      <td>convertible</td>\n",
       "      <td>manual</td>\n",
       "      <td>109</td>\n",
       "      <td>2_reihe</td>\n",
       "      <td>150000</td>\n",
       "      <td>petrol</td>\n",
       "      <td>peugeot</td>\n",
       "      <td>no</td>\n",
       "    </tr>\n",
       "  </tbody>\n",
       "</table>\n",
       "</div>"
      ],
      "text/plain": [
       "   price vehicle_type gearbox  power    model  mileage fuel_type       brand  \\\n",
       "0   9800          suv    auto    163    grand   125000  gasoline        jeep   \n",
       "1   1500        small  manual     75     golf   150000    petrol  volkswagen   \n",
       "2   3600        small  manual     69    fabia    90000  gasoline       skoda   \n",
       "3    650        sedan  manual    102      3er   150000    petrol         bmw   \n",
       "4   2200  convertible  manual    109  2_reihe   150000    petrol     peugeot   \n",
       "\n",
       "  not_repaired  \n",
       "0      unknown  \n",
       "1           no  \n",
       "2           no  \n",
       "3          yes  \n",
       "4           no  "
      ]
     },
     "execution_count": 13,
     "metadata": {},
     "output_type": "execute_result"
    }
   ],
   "source": [
    "df.head(5)"
   ]
  },
  {
   "cell_type": "markdown",
   "metadata": {},
   "source": [
    "\n"
   ]
  },
  {
   "cell_type": "code",
   "execution_count": 14,
   "metadata": {
    "scrolled": true
   },
   "outputs": [],
   "source": [
    "#Cambiando el tipo de dato para mejorar la manipulacion de los datos \n",
    "type = ['vehicle_type','gearbox','model','fuel_type','brand','not_repaired']\n",
    "\n",
    "for x in type:\n",
    "    df[x] = df[x].astype('category')\n"
   ]
  },
  {
   "cell_type": "code",
   "execution_count": 15,
   "metadata": {},
   "outputs": [
    {
     "name": "stdout",
     "output_type": "stream",
     "text": [
      "<class 'pandas.core.frame.DataFrame'>\n",
      "RangeIndex: 218162 entries, 0 to 218161\n",
      "Data columns (total 9 columns):\n",
      " #   Column        Non-Null Count   Dtype   \n",
      "---  ------        --------------   -----   \n",
      " 0   price         218162 non-null  int64   \n",
      " 1   vehicle_type  218162 non-null  category\n",
      " 2   gearbox       218162 non-null  category\n",
      " 3   power         218162 non-null  int64   \n",
      " 4   model         218162 non-null  category\n",
      " 5   mileage       218162 non-null  int64   \n",
      " 6   fuel_type     218162 non-null  category\n",
      " 7   brand         218162 non-null  category\n",
      " 8   not_repaired  218162 non-null  category\n",
      "dtypes: category(6), int64(3)\n",
      "memory usage: 6.5 MB\n"
     ]
    }
   ],
   "source": [
    "#Revisando los cambios efectuados \n",
    "df.info()"
   ]
  },
  {
   "cell_type": "code",
   "execution_count": 16,
   "metadata": {},
   "outputs": [
    {
     "data": {
      "text/html": [
       "<div>\n",
       "<style scoped>\n",
       "    .dataframe tbody tr th:only-of-type {\n",
       "        vertical-align: middle;\n",
       "    }\n",
       "\n",
       "    .dataframe tbody tr th {\n",
       "        vertical-align: top;\n",
       "    }\n",
       "\n",
       "    .dataframe thead th {\n",
       "        text-align: right;\n",
       "    }\n",
       "</style>\n",
       "<table border=\"1\" class=\"dataframe\">\n",
       "  <thead>\n",
       "    <tr style=\"text-align: right;\">\n",
       "      <th></th>\n",
       "      <th>price</th>\n",
       "      <th>power</th>\n",
       "      <th>mileage</th>\n",
       "    </tr>\n",
       "  </thead>\n",
       "  <tbody>\n",
       "    <tr>\n",
       "      <th>count</th>\n",
       "      <td>218162.000000</td>\n",
       "      <td>218162.000000</td>\n",
       "      <td>218162.000000</td>\n",
       "    </tr>\n",
       "    <tr>\n",
       "      <th>mean</th>\n",
       "      <td>5195.876940</td>\n",
       "      <td>121.085890</td>\n",
       "      <td>125008.365343</td>\n",
       "    </tr>\n",
       "    <tr>\n",
       "      <th>std</th>\n",
       "      <td>4780.188855</td>\n",
       "      <td>189.319423</td>\n",
       "      <td>38629.723463</td>\n",
       "    </tr>\n",
       "    <tr>\n",
       "      <th>min</th>\n",
       "      <td>0.000000</td>\n",
       "      <td>0.000000</td>\n",
       "      <td>5000.000000</td>\n",
       "    </tr>\n",
       "    <tr>\n",
       "      <th>25%</th>\n",
       "      <td>1499.000000</td>\n",
       "      <td>75.000000</td>\n",
       "      <td>100000.000000</td>\n",
       "    </tr>\n",
       "    <tr>\n",
       "      <th>50%</th>\n",
       "      <td>3500.000000</td>\n",
       "      <td>113.000000</td>\n",
       "      <td>150000.000000</td>\n",
       "    </tr>\n",
       "    <tr>\n",
       "      <th>75%</th>\n",
       "      <td>7600.000000</td>\n",
       "      <td>150.000000</td>\n",
       "      <td>150000.000000</td>\n",
       "    </tr>\n",
       "    <tr>\n",
       "      <th>max</th>\n",
       "      <td>20000.000000</td>\n",
       "      <td>20000.000000</td>\n",
       "      <td>150000.000000</td>\n",
       "    </tr>\n",
       "  </tbody>\n",
       "</table>\n",
       "</div>"
      ],
      "text/plain": [
       "               price          power        mileage\n",
       "count  218162.000000  218162.000000  218162.000000\n",
       "mean     5195.876940     121.085890  125008.365343\n",
       "std      4780.188855     189.319423   38629.723463\n",
       "min         0.000000       0.000000    5000.000000\n",
       "25%      1499.000000      75.000000  100000.000000\n",
       "50%      3500.000000     113.000000  150000.000000\n",
       "75%      7600.000000     150.000000  150000.000000\n",
       "max     20000.000000   20000.000000  150000.000000"
      ]
     },
     "execution_count": 16,
     "metadata": {},
     "output_type": "execute_result"
    }
   ],
   "source": [
    "df.describe()"
   ]
  },
  {
   "cell_type": "code",
   "execution_count": 17,
   "metadata": {},
   "outputs": [
    {
     "data": {
      "text/plain": [
       "3500.0"
      ]
     },
     "execution_count": 17,
     "metadata": {},
     "output_type": "execute_result"
    }
   ],
   "source": [
    "df.price.median()"
   ]
  },
  {
   "cell_type": "code",
   "execution_count": 18,
   "metadata": {},
   "outputs": [],
   "source": [
    "df.loc[df['price'] > 3500, 'select_price'] = 1\n",
    "df.loc[df['price'] <= 13500, 'select_price'] = 0"
   ]
  },
  {
   "cell_type": "code",
   "execution_count": 20,
   "metadata": {},
   "outputs": [
    {
     "data": {
      "text/html": [
       "<div>\n",
       "<style scoped>\n",
       "    .dataframe tbody tr th:only-of-type {\n",
       "        vertical-align: middle;\n",
       "    }\n",
       "\n",
       "    .dataframe tbody tr th {\n",
       "        vertical-align: top;\n",
       "    }\n",
       "\n",
       "    .dataframe thead th {\n",
       "        text-align: right;\n",
       "    }\n",
       "</style>\n",
       "<table border=\"1\" class=\"dataframe\">\n",
       "  <thead>\n",
       "    <tr style=\"text-align: right;\">\n",
       "      <th></th>\n",
       "      <th>price</th>\n",
       "      <th>vehicle_type</th>\n",
       "      <th>gearbox</th>\n",
       "      <th>power</th>\n",
       "      <th>model</th>\n",
       "      <th>mileage</th>\n",
       "      <th>fuel_type</th>\n",
       "      <th>brand</th>\n",
       "      <th>not_repaired</th>\n",
       "      <th>select_price</th>\n",
       "    </tr>\n",
       "  </thead>\n",
       "  <tbody>\n",
       "    <tr>\n",
       "      <th>0</th>\n",
       "      <td>9800</td>\n",
       "      <td>suv</td>\n",
       "      <td>auto</td>\n",
       "      <td>163</td>\n",
       "      <td>grand</td>\n",
       "      <td>125000</td>\n",
       "      <td>gasoline</td>\n",
       "      <td>jeep</td>\n",
       "      <td>unknown</td>\n",
       "      <td>0.0</td>\n",
       "    </tr>\n",
       "    <tr>\n",
       "      <th>1</th>\n",
       "      <td>1500</td>\n",
       "      <td>small</td>\n",
       "      <td>manual</td>\n",
       "      <td>75</td>\n",
       "      <td>golf</td>\n",
       "      <td>150000</td>\n",
       "      <td>petrol</td>\n",
       "      <td>volkswagen</td>\n",
       "      <td>no</td>\n",
       "      <td>0.0</td>\n",
       "    </tr>\n",
       "    <tr>\n",
       "      <th>2</th>\n",
       "      <td>3600</td>\n",
       "      <td>small</td>\n",
       "      <td>manual</td>\n",
       "      <td>69</td>\n",
       "      <td>fabia</td>\n",
       "      <td>90000</td>\n",
       "      <td>gasoline</td>\n",
       "      <td>skoda</td>\n",
       "      <td>no</td>\n",
       "      <td>0.0</td>\n",
       "    </tr>\n",
       "    <tr>\n",
       "      <th>3</th>\n",
       "      <td>650</td>\n",
       "      <td>sedan</td>\n",
       "      <td>manual</td>\n",
       "      <td>102</td>\n",
       "      <td>3er</td>\n",
       "      <td>150000</td>\n",
       "      <td>petrol</td>\n",
       "      <td>bmw</td>\n",
       "      <td>yes</td>\n",
       "      <td>0.0</td>\n",
       "    </tr>\n",
       "    <tr>\n",
       "      <th>4</th>\n",
       "      <td>2200</td>\n",
       "      <td>convertible</td>\n",
       "      <td>manual</td>\n",
       "      <td>109</td>\n",
       "      <td>2_reihe</td>\n",
       "      <td>150000</td>\n",
       "      <td>petrol</td>\n",
       "      <td>peugeot</td>\n",
       "      <td>no</td>\n",
       "      <td>0.0</td>\n",
       "    </tr>\n",
       "    <tr>\n",
       "      <th>...</th>\n",
       "      <td>...</td>\n",
       "      <td>...</td>\n",
       "      <td>...</td>\n",
       "      <td>...</td>\n",
       "      <td>...</td>\n",
       "      <td>...</td>\n",
       "      <td>...</td>\n",
       "      <td>...</td>\n",
       "      <td>...</td>\n",
       "      <td>...</td>\n",
       "    </tr>\n",
       "    <tr>\n",
       "      <th>218157</th>\n",
       "      <td>3999</td>\n",
       "      <td>wagon</td>\n",
       "      <td>manual</td>\n",
       "      <td>3</td>\n",
       "      <td>3er</td>\n",
       "      <td>150000</td>\n",
       "      <td>gasoline</td>\n",
       "      <td>bmw</td>\n",
       "      <td>no</td>\n",
       "      <td>0.0</td>\n",
       "    </tr>\n",
       "    <tr>\n",
       "      <th>218158</th>\n",
       "      <td>3200</td>\n",
       "      <td>sedan</td>\n",
       "      <td>manual</td>\n",
       "      <td>225</td>\n",
       "      <td>leon</td>\n",
       "      <td>150000</td>\n",
       "      <td>petrol</td>\n",
       "      <td>seat</td>\n",
       "      <td>yes</td>\n",
       "      <td>0.0</td>\n",
       "    </tr>\n",
       "    <tr>\n",
       "      <th>218159</th>\n",
       "      <td>1199</td>\n",
       "      <td>convertible</td>\n",
       "      <td>auto</td>\n",
       "      <td>101</td>\n",
       "      <td>fortwo</td>\n",
       "      <td>125000</td>\n",
       "      <td>petrol</td>\n",
       "      <td>smart</td>\n",
       "      <td>no</td>\n",
       "      <td>0.0</td>\n",
       "    </tr>\n",
       "    <tr>\n",
       "      <th>218160</th>\n",
       "      <td>9200</td>\n",
       "      <td>bus</td>\n",
       "      <td>manual</td>\n",
       "      <td>102</td>\n",
       "      <td>transporter</td>\n",
       "      <td>150000</td>\n",
       "      <td>gasoline</td>\n",
       "      <td>volkswagen</td>\n",
       "      <td>no</td>\n",
       "      <td>0.0</td>\n",
       "    </tr>\n",
       "    <tr>\n",
       "      <th>218161</th>\n",
       "      <td>3400</td>\n",
       "      <td>wagon</td>\n",
       "      <td>manual</td>\n",
       "      <td>100</td>\n",
       "      <td>golf</td>\n",
       "      <td>150000</td>\n",
       "      <td>gasoline</td>\n",
       "      <td>volkswagen</td>\n",
       "      <td>unknown</td>\n",
       "      <td>0.0</td>\n",
       "    </tr>\n",
       "  </tbody>\n",
       "</table>\n",
       "<p>218162 rows × 10 columns</p>\n",
       "</div>"
      ],
      "text/plain": [
       "        price vehicle_type gearbox  power        model  mileage fuel_type  \\\n",
       "0        9800          suv    auto    163        grand   125000  gasoline   \n",
       "1        1500        small  manual     75         golf   150000    petrol   \n",
       "2        3600        small  manual     69        fabia    90000  gasoline   \n",
       "3         650        sedan  manual    102          3er   150000    petrol   \n",
       "4        2200  convertible  manual    109      2_reihe   150000    petrol   \n",
       "...       ...          ...     ...    ...          ...      ...       ...   \n",
       "218157   3999        wagon  manual      3          3er   150000  gasoline   \n",
       "218158   3200        sedan  manual    225         leon   150000    petrol   \n",
       "218159   1199  convertible    auto    101       fortwo   125000    petrol   \n",
       "218160   9200          bus  manual    102  transporter   150000  gasoline   \n",
       "218161   3400        wagon  manual    100         golf   150000  gasoline   \n",
       "\n",
       "             brand not_repaired  select_price  \n",
       "0             jeep      unknown           0.0  \n",
       "1       volkswagen           no           0.0  \n",
       "2            skoda           no           0.0  \n",
       "3              bmw          yes           0.0  \n",
       "4          peugeot           no           0.0  \n",
       "...            ...          ...           ...  \n",
       "218157         bmw           no           0.0  \n",
       "218158        seat          yes           0.0  \n",
       "218159       smart           no           0.0  \n",
       "218160  volkswagen           no           0.0  \n",
       "218161  volkswagen      unknown           0.0  \n",
       "\n",
       "[218162 rows x 10 columns]"
      ]
     },
     "execution_count": 20,
     "metadata": {},
     "output_type": "execute_result"
    }
   ],
   "source": [
    "df"
   ]
  },
  {
   "cell_type": "markdown",
   "metadata": {},
   "source": [
    "## Entrenamiento del modelo "
   ]
  },
  {
   "cell_type": "code",
   "execution_count": 22,
   "metadata": {},
   "outputs": [
    {
     "name": "stdout",
     "output_type": "stream",
     "text": [
      "        price vehicle_type gearbox    power        model   mileage fuel_type  \\\n",
      "0        9800          suv    auto  0.00815        grand  0.833333  gasoline   \n",
      "1        1500        small  manual  0.00375         golf  1.000000    petrol   \n",
      "2        3600        small  manual  0.00345        fabia  0.600000  gasoline   \n",
      "3         650        sedan  manual  0.00510          3er  1.000000    petrol   \n",
      "4        2200  convertible  manual  0.00545      2_reihe  1.000000    petrol   \n",
      "...       ...          ...     ...      ...          ...       ...       ...   \n",
      "218157   3999        wagon  manual  0.00015          3er  1.000000  gasoline   \n",
      "218158   3200        sedan  manual  0.01125         leon  1.000000    petrol   \n",
      "218159   1199  convertible    auto  0.00505       fortwo  0.833333    petrol   \n",
      "218160   9200          bus  manual  0.00510  transporter  1.000000  gasoline   \n",
      "218161   3400        wagon  manual  0.00500         golf  1.000000  gasoline   \n",
      "\n",
      "             brand not_repaired  select_price  \n",
      "0             jeep      unknown           0.0  \n",
      "1       volkswagen           no           0.0  \n",
      "2            skoda           no           0.0  \n",
      "3              bmw          yes           0.0  \n",
      "4          peugeot           no           0.0  \n",
      "...            ...          ...           ...  \n",
      "218157         bmw           no           0.0  \n",
      "218158        seat          yes           0.0  \n",
      "218159       smart           no           0.0  \n",
      "218160  volkswagen           no           0.0  \n",
      "218161  volkswagen      unknown           0.0  \n",
      "\n",
      "[218162 rows x 10 columns]\n"
     ]
    }
   ],
   "source": [
    "# transformando \n",
    "feature_names = ['power','mileage']\n",
    "\n",
    "transformer_mas = MaxAbsScaler()\n",
    "\n",
    "df_scaled = df.copy()\n",
    "df_scaled[feature_names] = transformer_mas.fit_transform(df[feature_names].to_numpy())\n",
    "print(df_scaled)"
   ]
  },
  {
   "cell_type": "markdown",
   "metadata": {},
   "source": [
    "#divicion de los datos \n",
    "features = df_scaled.drop(['price'])"
   ]
  },
  {
   "cell_type": "code",
   "execution_count": 23,
   "metadata": {},
   "outputs": [],
   "source": [
    "df_ohe = pd.get_dummies(df_scaled, drop_first=True)"
   ]
  },
  {
   "cell_type": "code",
   "execution_count": 25,
   "metadata": {},
   "outputs": [
    {
     "data": {
      "text/plain": [
       "(218162, 307)"
      ]
     },
     "execution_count": 25,
     "metadata": {},
     "output_type": "execute_result"
    }
   ],
   "source": [
    "df_ohe.shape"
   ]
  },
  {
   "cell_type": "code",
   "execution_count": 26,
   "metadata": {},
   "outputs": [],
   "source": [
    "features = df_ohe.drop(['price','select_price'], axis=1)\n",
    "target = df_ohe['select_price']"
   ]
  },
  {
   "cell_type": "code",
   "execution_count": 27,
   "metadata": {},
   "outputs": [
    {
     "name": "stdout",
     "output_type": "stream",
     "text": [
      "(163621, 305)\n",
      "(54541, 305)\n",
      "(163621,)\n",
      "(54541,)\n"
     ]
    }
   ],
   "source": [
    "features_train, features_valid, target_train, target_valid = train_test_split(features, target, test_size= .25, random_state=12345 )\n",
    "print(features_train.shape)\n",
    "print(features_valid.shape)\n",
    "print(target_train.shape)\n",
    "print(target_valid.shape)\n",
    "\n",
    "\n"
   ]
  },
  {
   "cell_type": "markdown",
   "metadata": {},
   "source": [
    "### Modelos sin  potenciación del gradiente"
   ]
  },
  {
   "cell_type": "markdown",
   "metadata": {},
   "source": [
    "#### regresion lineal "
   ]
  },
  {
   "cell_type": "code",
   "execution_count": 30,
   "metadata": {},
   "outputs": [
    {
     "name": "stdout",
     "output_type": "stream",
     "text": [
      "Linear Regression\n",
      "La calidad de la prediccion es RECM es de 0.2417\n",
      "Tiempo de ejecución del entrenamiento : 5.3412 segundos\n",
      "Tiempo de ejecución de la prediccion: 0.1015 segundos\n"
     ]
    }
   ],
   "source": [
    "# inicio de tiempo de entrenamiento\n",
    "start_time_train = time.time()\n",
    "\n",
    "model = LinearRegression()\n",
    "model.fit(features_train, target_train)\n",
    "\n",
    "#tiempo de entrenamiento\n",
    "time_train = time.time() -start_time_train\n",
    "\n",
    "# inicio de tiempo de prediccion \n",
    "start_time_predic= time.time()\n",
    "\n",
    "predicted_valid = model.predict(features_valid)\n",
    "\n",
    "#tiempo de prediccion\n",
    "time_predic = time.time() -start_time_predic\n",
    "\n",
    "# resultados obtenidos \n",
    "recm = mean_squared_error(target_valid, predicted_valid)**0.5\n",
    "\n",
    "print('Linear Regression')\n",
    "print(f'La calidad de la prediccion es RECM es de {recm:.4f}')\n",
    "\n",
    "# Calcular el tiempo de ejecución\n",
    "\n",
    "print(f'Tiempo de ejecución del entrenamiento : {time_train:.4f} segundos')\n",
    "print(f'Tiempo de ejecución de la prediccion: {time_predic:.4f} segundos')\n"
   ]
  },
  {
   "cell_type": "markdown",
   "metadata": {},
   "source": [
    "#### bosque aleatorio, "
   ]
  },
  {
   "cell_type": "code",
   "execution_count": 26,
   "metadata": {},
   "outputs": [
    {
     "name": "stdout",
     "output_type": "stream",
     "text": [
      "Modelo RandomForestClassifier\n",
      "La calidad de la prediccion de  RECM: (n_estimators = 17): 0.4661\n",
      "Tiempo de ejecución del entrenamiento : 0.8174 segundos\n",
      "Tiempo de ejecución de la prediccion: 0.0990 segundos\n"
     ]
    }
   ],
   "source": [
    "\n",
    "best_result = 10000\n",
    "best_est = 0\n",
    "# selecciona el rango del hiperparámetro\n",
    "for est in range(1, 20):\n",
    "    \n",
    "    # inicio de tiempo de entrenamiento\n",
    "    start_time_train = time.time()\n",
    "    model = RandomForestClassifier(min_samples_split=5, min_samples_leaf =1,class_weight='balanced',\n",
    "                                   random_state=12345, n_estimators=est,max_depth=4, criterion='gini')  \n",
    "    model.fit(features_train, target_train ) \n",
    "    # #tiempo de entrenamiento\n",
    "    time_train = time.time() -start_time_train\n",
    "\n",
    "\n",
    "    # inicio de tiempo de prediccion \n",
    "    start_time_predic = time.time()\n",
    "    \n",
    "    \n",
    "    predicted_valid = model.predict(features_valid)\n",
    "    # #tiempo de prediccion\n",
    "    # time_predic = time.time() -start_time_predic\n",
    "    \n",
    "    \n",
    "    result = mean_squared_error(target_valid, predicted_valid)**0.5# calcula la RECM en el conjunto de validación\n",
    "    if result < best_result:\n",
    "        best_result = result\n",
    "        best_est = est\n",
    "\n",
    "\n",
    "# resultados obtenidos \n",
    "\n",
    "print('Modelo RandomForestClassifier')\n",
    "print(f'La calidad de la prediccion de  RECM: (n_estimators = {best_est}): {best_result:.4f}')\n",
    "\n",
    "# Calcular el tiempo de ejecución\n",
    "\n",
    "print(f'Tiempo de ejecución del entrenamiento : {time_train:.4f} segundos')\n",
    "print(f'Tiempo de ejecución de la prediccion: {time_predic:.4f} segundos')"
   ]
  },
  {
   "cell_type": "markdown",
   "metadata": {},
   "source": [
    "#### árbol de decisión"
   ]
  },
  {
   "cell_type": "code",
   "execution_count": 27,
   "metadata": {},
   "outputs": [
    {
     "name": "stdout",
     "output_type": "stream",
     "text": [
      "Modelo Arbol de  decisiones\n",
      "La calidad de la prediccion es RECM es de (max_depth = 15): 0.2100\n",
      "Tiempo de ejecución del entrenamiento : 3.2559 segundos\n",
      "Tiempo de ejecución de la prediccion: 0.0426 segundos\n"
     ]
    }
   ],
   "source": [
    "best_result = 10000\n",
    "best_depth = 0\n",
    "# selecciona el rango del hiperparámetro\n",
    "for depth in range(5,25):\n",
    "    # inicio de tiempo de entrenamiento\n",
    "    start_time_train = time.time()\n",
    "\n",
    "    model = DecisionTreeRegressor(random_state=12345,max_depth=depth)\n",
    "    model.fit(features_train, target_train) \n",
    "    #tiempo de entrenamiento\n",
    "    time_train = time.time() - start_time_train\n",
    "\n",
    "     # inicio de tiempo de prediccion \n",
    "    start_time_predic = time.time()\n",
    "\n",
    "    predictions_valid = model.predict(features_valid) \n",
    "    \n",
    "    #tiempo de prediccion\n",
    "    time_predic = time.time() -start_time_predic\n",
    "\n",
    "    \n",
    "    result = mean_squared_error(target_valid, predictions_valid)**0.5\n",
    "    if result < best_result:\n",
    "        best_result = result\n",
    "        best_depth = depth\n",
    "        \n",
    "# resultados obtenidos \n",
    " \n",
    "print('Modelo Arbol de  decisiones')\n",
    "print(f'La calidad de la prediccion es RECM es de (max_depth = {best_depth}): {best_result:.4f}')\n",
    "\n",
    "#  Calcular el tiempo de ejecución\n",
    "\n",
    "print(f'Tiempo de ejecución del entrenamiento : {time_train:.4f} segundos')\n",
    "print(f'Tiempo de ejecución de la prediccion: {time_predic:.4f} segundos')"
   ]
  },
  {
   "cell_type": "markdown",
   "metadata": {},
   "source": [
    "### Modelos de  potenciación del gradiente"
   ]
  },
  {
   "cell_type": "markdown",
   "metadata": {},
   "source": [
    "####  XGBoost"
   ]
  },
  {
   "cell_type": "code",
   "execution_count": 32,
   "metadata": {},
   "outputs": [
    {
     "name": "stdout",
     "output_type": "stream",
     "text": [
      "Modelo XGBoost\n",
      "La calidad de la prediccion es RECM es de 0.2478\n",
      "Tiempo de ejecución del entrenamiento : 21.6321 segundos\n",
      "Tiempo de ejecución de la prediccion: 0.3135 segundos\n"
     ]
    }
   ],
   "source": [
    "# inicio de tiempo de entrenamiento\n",
    "start_time_train = time.time()\n",
    " \n",
    "model = XGBClassifier(objective='binary:logistic', eval_metric='logloss',n_estimators=10, seed=12345 ,use_label_encoder=False)\n",
    "model.fit(features_train, target_train)\n",
    "\n",
    "#tiempo de entrenamiento\n",
    "time_train = time.time() -start_time_train\n",
    "\n",
    "\n",
    "# inicio de tiempo de prediccion \n",
    "start_time_predic= time.time()\n",
    "\n",
    "predicted_valid= model.predict(features_valid)\n",
    "\n",
    "#tiempo de prediccion\n",
    "time_predic = time.time() -start_time_predic\n",
    "\n",
    "# Muestra de resultados obtenidos \n",
    "recm = mean_squared_error(target_valid, predicted_valid)**0.5\n",
    "print('Modelo XGBoost')\n",
    "print(f\"La calidad de la prediccion es RECM es de {recm:.4f}\")\n",
    "\n",
    "# Calcular el tiempo de ejecución\n",
    "\n",
    "print(f\"Tiempo de ejecución del entrenamiento : {time_train:.4f} segundos\")\n",
    "print(f\"Tiempo de ejecución de la prediccion: {time_predic:.4f} segundos\")"
   ]
  },
  {
   "cell_type": "markdown",
   "metadata": {},
   "source": [
    "#### LightGBM"
   ]
  },
  {
   "cell_type": "code",
   "execution_count": 29,
   "metadata": {},
   "outputs": [
    {
     "name": "stdout",
     "output_type": "stream",
     "text": [
      "Modelo LightGBM\n",
      "La calidad de la prediccion es RECM es de 0.2298\n",
      "Tiempo de ejecución del entrenamiento : 3.0813 segundos\n",
      "Tiempo de ejecución de la prediccion: 0.4099 segundos\n"
     ]
    }
   ],
   "source": [
    "\n",
    "# inicio de tiempo de entrenamiento\n",
    "start_time_train = time.time()\n",
    "\n",
    "\n",
    "# Crear el modelo LightGBM\n",
    "model = lgb.LGBMClassifier(objective='binary', metric='binary_logloss', n_estimators=100, seed=12345)\n",
    "model.fit(features_train, target_train)\n",
    "#tiempo de entrenamiento\n",
    "time_train = time.time() -start_time_train\n",
    "\n",
    "\n",
    " # inicio de tiempo de prediccion \n",
    "start_time_predic = time.time()\n",
    "\n",
    "predicted_valid = model.predict(features_valid)\n",
    "\n",
    "#tiempo de prediccion\n",
    "time_predic = time.time() -start_time_predic\n",
    "\n",
    "recm = mean_squared_error(target_valid, predicted_valid) ** 0.5\n",
    "\n",
    "print('Modelo LightGBM')\n",
    "print(f'La calidad de la prediccion es RECM es de {recm:.4f}')\n",
    "\n",
    "#  Calcular el tiempo de ejecución\n",
    "\n",
    "print(f'Tiempo de ejecución del entrenamiento : {time_train:.4f} segundos')\n",
    "print(f'Tiempo de ejecución de la prediccion: {time_predic:.4f} segundos')\n"
   ]
  },
  {
   "cell_type": "markdown",
   "metadata": {},
   "source": [
    "#### CatBoost"
   ]
  },
  {
   "cell_type": "code",
   "execution_count": 30,
   "metadata": {},
   "outputs": [
    {
     "name": "stdout",
     "output_type": "stream",
     "text": [
      "Learning rate set to 0.273983\n",
      "0:\tlearn: 0.3455138\ttotal: 73.4ms\tremaining: 21.9s\n",
      "30:\tlearn: 0.1458106\ttotal: 782ms\tremaining: 6.79s\n",
      "60:\tlearn: 0.1353142\ttotal: 1.49s\tremaining: 5.85s\n",
      "90:\tlearn: 0.1295587\ttotal: 2.2s\tremaining: 5.05s\n",
      "120:\tlearn: 0.1251322\ttotal: 2.91s\tremaining: 4.3s\n",
      "150:\tlearn: 0.1219474\ttotal: 3.62s\tremaining: 3.57s\n",
      "180:\tlearn: 0.1192052\ttotal: 4.33s\tremaining: 2.85s\n",
      "210:\tlearn: 0.1170036\ttotal: 5.04s\tremaining: 2.13s\n",
      "240:\tlearn: 0.1152637\ttotal: 5.77s\tremaining: 1.41s\n",
      "270:\tlearn: 0.1134899\ttotal: 6.48s\tremaining: 693ms\n",
      "299:\tlearn: 0.1119467\ttotal: 7.16s\tremaining: 0us\n",
      "Modelo CatBoost\n",
      "La calidad de la prediccion es RECM es de 0.1916\n",
      "Tiempo de ejecución del entrenamiento : 7.9074 segundos\n",
      "Tiempo de ejecución de la prediccion: 0.0368 segundos\n"
     ]
    }
   ],
   "source": [
    "\n",
    "# inicio de tiempo de entrenamiento\n",
    "start_time_train = time.time()\n",
    "\n",
    "\n",
    "model = CatBoostClassifier(loss_function=\"Logloss\", iterations=300,random_seed=12345)\n",
    "model.fit(features_train, target_train, verbose=30)\n",
    "\n",
    "#tiempo de entrenamiento\n",
    "time_train = time.time() -start_time_train\n",
    "\n",
    "\n",
    " # inicio de tiempo de prediccion \n",
    "start_time_predic = time.time()\n",
    "\n",
    "probabilities_valid = model.predict_proba(features_valid)\n",
    "probabilities_one_valid = probabilities_valid[:, 1]\n",
    "\n",
    "#tiempo de prediccion\n",
    "time_predic = time.time() -start_time_predic\n",
    "\n",
    "\n",
    "# resultados obtenidos \n",
    "recm = mean_squared_error(target_valid, probabilities_one_valid)**0.5\n",
    "print('Modelo CatBoost')\n",
    "print(f'La calidad de la prediccion es RECM es de {recm:.4f}')\n",
    "\n",
    "#  Calcular el tiempo de ejecución\n",
    "\n",
    "print(f'Tiempo de ejecución del entrenamiento : {time_train:.4f} segundos')\n",
    "print(f'Tiempo de ejecución de la prediccion: {time_predic:.4f} segundos')\n",
    "\n"
   ]
  },
  {
   "cell_type": "markdown",
   "metadata": {},
   "source": [
    "## Análisis del modelo"
   ]
  },
  {
   "cell_type": "code",
   "execution_count": 31,
   "metadata": {},
   "outputs": [
    {
     "data": {
      "text/html": [
       "<div>\n",
       "<style scoped>\n",
       "    .dataframe tbody tr th:only-of-type {\n",
       "        vertical-align: middle;\n",
       "    }\n",
       "\n",
       "    .dataframe tbody tr th {\n",
       "        vertical-align: top;\n",
       "    }\n",
       "\n",
       "    .dataframe thead th {\n",
       "        text-align: right;\n",
       "    }\n",
       "</style>\n",
       "<table border=\"1\" class=\"dataframe\">\n",
       "  <thead>\n",
       "    <tr style=\"text-align: right;\">\n",
       "      <th></th>\n",
       "      <th>modelo</th>\n",
       "      <th>recm</th>\n",
       "      <th>tiempo_entrenamiento</th>\n",
       "      <th>tiempo_prediccion</th>\n",
       "    </tr>\n",
       "  </thead>\n",
       "  <tbody>\n",
       "    <tr>\n",
       "      <th>0</th>\n",
       "      <td>linear_regression</td>\n",
       "      <td>0.2417</td>\n",
       "      <td>6.1554</td>\n",
       "      <td>0.1024</td>\n",
       "    </tr>\n",
       "    <tr>\n",
       "      <th>1</th>\n",
       "      <td>Random_forestClassifier</td>\n",
       "      <td>0.4660</td>\n",
       "      <td>0.8246</td>\n",
       "      <td>0.1011</td>\n",
       "    </tr>\n",
       "    <tr>\n",
       "      <th>2</th>\n",
       "      <td>Decision_tree_classifier</td>\n",
       "      <td>0.2100</td>\n",
       "      <td>3.2771</td>\n",
       "      <td>0.0419</td>\n",
       "    </tr>\n",
       "    <tr>\n",
       "      <th>3</th>\n",
       "      <td>XGBoost</td>\n",
       "      <td>0.0614</td>\n",
       "      <td>21.8428</td>\n",
       "      <td>0.3486</td>\n",
       "    </tr>\n",
       "    <tr>\n",
       "      <th>4</th>\n",
       "      <td>LightGBM</td>\n",
       "      <td>0.2298</td>\n",
       "      <td>3.0501</td>\n",
       "      <td>0.4150</td>\n",
       "    </tr>\n",
       "    <tr>\n",
       "      <th>5</th>\n",
       "      <td>CatBoost</td>\n",
       "      <td>0.1916</td>\n",
       "      <td>7.8994</td>\n",
       "      <td>0.0369</td>\n",
       "    </tr>\n",
       "  </tbody>\n",
       "</table>\n",
       "</div>"
      ],
      "text/plain": [
       "                     modelo    recm  tiempo_entrenamiento  tiempo_prediccion\n",
       "0         linear_regression  0.2417                6.1554             0.1024\n",
       "1   Random_forestClassifier  0.4660                0.8246             0.1011\n",
       "2  Decision_tree_classifier  0.2100                3.2771             0.0419\n",
       "3                   XGBoost  0.0614               21.8428             0.3486\n",
       "4                  LightGBM  0.2298                3.0501             0.4150\n",
       "5                  CatBoost  0.1916                7.8994             0.0369"
      ]
     },
     "execution_count": 31,
     "metadata": {},
     "output_type": "execute_result"
    }
   ],
   "source": [
    "\n",
    "\n",
    "# validacion de datos\n",
    "data_valid = pd.DataFrame() \n",
    " \n",
    "data_valid['modelo'] = ['linear_regression','Random_forestClassifier', 'Decision_tree_classifier','XGBoost','LightGBM','CatBoost']\n",
    "data_valid['recm'] = [0.2417,0.4660,0.2100,0.0614,0.2298,0.1916]\n",
    "data_valid['tiempo_entrenamiento'] = [6.1554,0.8246,3.2771,21.8428 ,3.0501 ,7.8994]\n",
    "data_valid['tiempo_prediccion'] = [0.1024 ,0.1011,0.0419,0.3486,0.4150,0.0369]\n",
    "\n",
    "\n",
    "data_valid"
   ]
  },
  {
   "cell_type": "code",
   "execution_count": 32,
   "metadata": {
    "scrolled": true
   },
   "outputs": [
    {
     "data": {
      "text/html": [
       "<div>\n",
       "<style scoped>\n",
       "    .dataframe tbody tr th:only-of-type {\n",
       "        vertical-align: middle;\n",
       "    }\n",
       "\n",
       "    .dataframe tbody tr th {\n",
       "        vertical-align: top;\n",
       "    }\n",
       "\n",
       "    .dataframe thead th {\n",
       "        text-align: right;\n",
       "    }\n",
       "</style>\n",
       "<table border=\"1\" class=\"dataframe\">\n",
       "  <thead>\n",
       "    <tr style=\"text-align: right;\">\n",
       "      <th></th>\n",
       "      <th>modelo</th>\n",
       "      <th>recm</th>\n",
       "      <th>tiempo_entrenamiento</th>\n",
       "      <th>tiempo_prediccion</th>\n",
       "    </tr>\n",
       "  </thead>\n",
       "  <tbody>\n",
       "    <tr>\n",
       "      <th>3</th>\n",
       "      <td>XGBoost</td>\n",
       "      <td>0.0614</td>\n",
       "      <td>21.8428</td>\n",
       "      <td>0.3486</td>\n",
       "    </tr>\n",
       "  </tbody>\n",
       "</table>\n",
       "</div>"
      ],
      "text/plain": [
       "    modelo    recm  tiempo_entrenamiento  tiempo_prediccion\n",
       "3  XGBoost  0.0614               21.8428             0.3486"
      ]
     },
     "execution_count": 32,
     "metadata": {},
     "output_type": "execute_result"
    }
   ],
   "source": [
    "# Revisando que valor de redm tiene mejor calidad \n",
    "data_valid[data_valid['recm'] == (data_valid['recm'].min())]"
   ]
  },
  {
   "cell_type": "code",
   "execution_count": 33,
   "metadata": {},
   "outputs": [
    {
     "data": {
      "text/html": [
       "<div>\n",
       "<style scoped>\n",
       "    .dataframe tbody tr th:only-of-type {\n",
       "        vertical-align: middle;\n",
       "    }\n",
       "\n",
       "    .dataframe tbody tr th {\n",
       "        vertical-align: top;\n",
       "    }\n",
       "\n",
       "    .dataframe thead th {\n",
       "        text-align: right;\n",
       "    }\n",
       "</style>\n",
       "<table border=\"1\" class=\"dataframe\">\n",
       "  <thead>\n",
       "    <tr style=\"text-align: right;\">\n",
       "      <th></th>\n",
       "      <th>modelo</th>\n",
       "      <th>recm</th>\n",
       "      <th>tiempo_entrenamiento</th>\n",
       "      <th>tiempo_prediccion</th>\n",
       "    </tr>\n",
       "  </thead>\n",
       "  <tbody>\n",
       "    <tr>\n",
       "      <th>1</th>\n",
       "      <td>Random_forestClassifier</td>\n",
       "      <td>0.466</td>\n",
       "      <td>0.8246</td>\n",
       "      <td>0.1011</td>\n",
       "    </tr>\n",
       "  </tbody>\n",
       "</table>\n",
       "</div>"
      ],
      "text/plain": [
       "                    modelo   recm  tiempo_entrenamiento  tiempo_prediccion\n",
       "1  Random_forestClassifier  0.466                0.8246             0.1011"
      ]
     },
     "execution_count": 33,
     "metadata": {},
     "output_type": "execute_result"
    }
   ],
   "source": [
    "# Revisando mejor tiempo entrenamiento\n",
    "data_valid[data_valid['tiempo_entrenamiento'] == (data_valid['tiempo_entrenamiento'].min())]"
   ]
  },
  {
   "cell_type": "code",
   "execution_count": 34,
   "metadata": {},
   "outputs": [
    {
     "data": {
      "text/html": [
       "<div>\n",
       "<style scoped>\n",
       "    .dataframe tbody tr th:only-of-type {\n",
       "        vertical-align: middle;\n",
       "    }\n",
       "\n",
       "    .dataframe tbody tr th {\n",
       "        vertical-align: top;\n",
       "    }\n",
       "\n",
       "    .dataframe thead th {\n",
       "        text-align: right;\n",
       "    }\n",
       "</style>\n",
       "<table border=\"1\" class=\"dataframe\">\n",
       "  <thead>\n",
       "    <tr style=\"text-align: right;\">\n",
       "      <th></th>\n",
       "      <th>modelo</th>\n",
       "      <th>recm</th>\n",
       "      <th>tiempo_entrenamiento</th>\n",
       "      <th>tiempo_prediccion</th>\n",
       "    </tr>\n",
       "  </thead>\n",
       "  <tbody>\n",
       "    <tr>\n",
       "      <th>5</th>\n",
       "      <td>CatBoost</td>\n",
       "      <td>0.1916</td>\n",
       "      <td>7.8994</td>\n",
       "      <td>0.0369</td>\n",
       "    </tr>\n",
       "  </tbody>\n",
       "</table>\n",
       "</div>"
      ],
      "text/plain": [
       "     modelo    recm  tiempo_entrenamiento  tiempo_prediccion\n",
       "5  CatBoost  0.1916                7.8994             0.0369"
      ]
     },
     "execution_count": 34,
     "metadata": {},
     "output_type": "execute_result"
    }
   ],
   "source": [
    "# Revisando mejor tiempo prediccion\n",
    "data_valid[data_valid['tiempo_prediccion'] == (data_valid['tiempo_prediccion'].min())]"
   ]
  },
  {
   "cell_type": "markdown",
   "metadata": {},
   "source": [
    "### Observaciones"
   ]
  },
  {
   "cell_type": "markdown",
   "metadata": {},
   "source": [
    "Se observo que el mejor modelo para la predicciones de los datos es XGBoost aunque en tiempo de entrenamiento y prediccion no es  el mas efiente sus resultado es el mejor en comparacion con los otro modelos, en cuanto mejor tiempo de entrenamiento es el modelo de  Random forestClassifier y mejor tiempo de prediccion es el modelo de  CatBoost, con lo que concluimos que el utilizar los modelos de potenciación del gradiente se obtienen mejor resultados "
   ]
  },
  {
   "cell_type": "markdown",
   "metadata": {},
   "source": [
    "# Lista de control"
   ]
  },
  {
   "cell_type": "markdown",
   "metadata": {},
   "source": [
    "Escribe 'x' para verificar. Luego presiona Shift+Enter"
   ]
  },
  {
   "cell_type": "markdown",
   "metadata": {},
   "source": [
    "- [x]  Jupyter Notebook está abierto\n",
    "- [x]  El código no tiene errores\n",
    "- [x]  Las celdas con el código han sido colocadas en orden de ejecución\n",
    "- [x]  Los datos han sido descargados y preparados\n",
    "- [x]  Los modelos han sido entrenados\n",
    "- [x]  Se realizó el análisis de velocidad y calidad de los modelos"
   ]
  }
 ],
 "metadata": {
  "ExecuteTimeLog": [
   {
    "duration": 273,
    "start_time": "2024-10-05T19:25:28.998Z"
   },
   {
    "duration": 2329,
    "start_time": "2024-10-05T19:26:29.171Z"
   },
   {
    "duration": 474,
    "start_time": "2024-10-05T19:27:40.449Z"
   },
   {
    "duration": 90,
    "start_time": "2024-10-05T19:27:59.156Z"
   },
   {
    "duration": 139,
    "start_time": "2024-10-05T19:29:57.167Z"
   },
   {
    "duration": 13,
    "start_time": "2024-10-05T19:30:11.862Z"
   },
   {
    "duration": 64,
    "start_time": "2024-10-05T19:32:21.581Z"
   },
   {
    "duration": 3,
    "start_time": "2024-10-05T20:00:59.663Z"
   },
   {
    "duration": 166,
    "start_time": "2024-10-05T20:02:15.795Z"
   },
   {
    "duration": 4,
    "start_time": "2024-10-05T20:02:23.815Z"
   },
   {
    "duration": 2,
    "start_time": "2024-10-05T20:03:02.621Z"
   },
   {
    "duration": 12,
    "start_time": "2024-10-05T20:04:46.013Z"
   },
   {
    "duration": 4,
    "start_time": "2024-10-05T20:05:45.092Z"
   },
   {
    "duration": 13,
    "start_time": "2024-10-05T20:06:25.089Z"
   },
   {
    "duration": 14,
    "start_time": "2024-10-05T20:06:55.158Z"
   },
   {
    "duration": 4,
    "start_time": "2024-10-05T20:06:58.491Z"
   },
   {
    "duration": 4,
    "start_time": "2024-10-05T20:10:36.724Z"
   },
   {
    "duration": 13,
    "start_time": "2024-10-05T20:11:52.925Z"
   },
   {
    "duration": 12,
    "start_time": "2024-10-05T20:12:04.249Z"
   },
   {
    "duration": 13,
    "start_time": "2024-10-05T20:14:42.725Z"
   },
   {
    "duration": 2,
    "start_time": "2024-10-05T20:14:50.477Z"
   },
   {
    "duration": 14,
    "start_time": "2024-10-05T20:14:55.525Z"
   },
   {
    "duration": 15,
    "start_time": "2024-10-05T20:15:06.013Z"
   },
   {
    "duration": 13,
    "start_time": "2024-10-05T20:15:26.357Z"
   },
   {
    "duration": 4,
    "start_time": "2024-10-05T20:15:33.791Z"
   },
   {
    "duration": 4,
    "start_time": "2024-10-05T20:16:36.253Z"
   },
   {
    "duration": 13,
    "start_time": "2024-10-05T20:16:38.191Z"
   },
   {
    "duration": 3,
    "start_time": "2024-10-05T20:17:25.502Z"
   },
   {
    "duration": 13,
    "start_time": "2024-10-05T20:17:42.149Z"
   },
   {
    "duration": 3,
    "start_time": "2024-10-05T20:18:30.383Z"
   },
   {
    "duration": 3,
    "start_time": "2024-10-05T20:18:39.334Z"
   },
   {
    "duration": 4,
    "start_time": "2024-10-05T20:18:50.206Z"
   },
   {
    "duration": 2,
    "start_time": "2024-10-05T20:19:00.682Z"
   },
   {
    "duration": 5,
    "start_time": "2024-10-05T20:19:03.542Z"
   },
   {
    "duration": 2,
    "start_time": "2024-10-05T20:19:09.173Z"
   },
   {
    "duration": 4,
    "start_time": "2024-10-05T20:19:11.492Z"
   },
   {
    "duration": 2,
    "start_time": "2024-10-05T20:19:37.578Z"
   },
   {
    "duration": 3,
    "start_time": "2024-10-05T20:24:03.935Z"
   },
   {
    "duration": 3,
    "start_time": "2024-10-05T20:24:08.352Z"
   },
   {
    "duration": 4,
    "start_time": "2024-10-05T20:24:50.336Z"
   },
   {
    "duration": 4,
    "start_time": "2024-10-05T20:25:01.119Z"
   },
   {
    "duration": 13,
    "start_time": "2024-10-05T20:25:33.331Z"
   },
   {
    "duration": 2,
    "start_time": "2024-10-05T20:25:44.682Z"
   },
   {
    "duration": 2,
    "start_time": "2024-10-05T20:27:21.410Z"
   },
   {
    "duration": 4,
    "start_time": "2024-10-05T20:27:23.630Z"
   },
   {
    "duration": 3,
    "start_time": "2024-10-05T20:28:10.950Z"
   },
   {
    "duration": 140,
    "start_time": "2024-10-05T20:28:53.375Z"
   },
   {
    "duration": 3,
    "start_time": "2024-10-05T20:31:28.784Z"
   },
   {
    "duration": 18,
    "start_time": "2024-10-05T20:31:32.015Z"
   },
   {
    "duration": 57,
    "start_time": "2024-10-05T20:32:04.306Z"
   },
   {
    "duration": 15,
    "start_time": "2024-10-05T20:34:53.251Z"
   },
   {
    "duration": 15,
    "start_time": "2024-10-05T20:34:58.253Z"
   },
   {
    "duration": 11,
    "start_time": "2024-10-05T20:35:05.856Z"
   },
   {
    "duration": 396,
    "start_time": "2024-10-05T20:35:20.505Z"
   },
   {
    "duration": 4,
    "start_time": "2024-10-05T20:35:23.855Z"
   },
   {
    "duration": 4,
    "start_time": "2024-10-05T20:35:38.073Z"
   },
   {
    "duration": 56,
    "start_time": "2024-10-05T20:39:37.201Z"
   },
   {
    "duration": 192,
    "start_time": "2024-10-05T20:49:13.138Z"
   },
   {
    "duration": 380,
    "start_time": "2024-10-05T20:49:54.914Z"
   },
   {
    "duration": 380,
    "start_time": "2024-10-05T20:51:52.514Z"
   },
   {
    "duration": 189,
    "start_time": "2024-10-05T20:52:45.178Z"
   },
   {
    "duration": 198,
    "start_time": "2024-10-05T20:52:50.812Z"
   },
   {
    "duration": 217,
    "start_time": "2024-10-05T20:53:17.425Z"
   },
   {
    "duration": 221,
    "start_time": "2024-10-05T20:59:56.512Z"
   },
   {
    "duration": 8,
    "start_time": "2024-10-05T21:01:04.866Z"
   },
   {
    "duration": 8,
    "start_time": "2024-10-05T21:01:31.499Z"
   },
   {
    "duration": 5,
    "start_time": "2024-10-05T21:01:41.388Z"
   },
   {
    "duration": 6,
    "start_time": "2024-10-05T21:01:51.162Z"
   },
   {
    "duration": 1037,
    "start_time": "2024-10-05T21:02:07.557Z"
   },
   {
    "duration": 409,
    "start_time": "2024-10-05T21:02:08.596Z"
   },
   {
    "duration": 106,
    "start_time": "2024-10-05T21:02:09.007Z"
   },
   {
    "duration": 13,
    "start_time": "2024-10-05T21:02:09.115Z"
   },
   {
    "duration": 60,
    "start_time": "2024-10-05T21:02:09.131Z"
   },
   {
    "duration": 259,
    "start_time": "2024-10-05T21:02:09.192Z"
   },
   {
    "duration": 457,
    "start_time": "2024-10-05T21:02:09.453Z"
   },
   {
    "duration": 0,
    "start_time": "2024-10-05T21:02:09.911Z"
   },
   {
    "duration": 7,
    "start_time": "2024-10-05T21:02:19.601Z"
   },
   {
    "duration": 4,
    "start_time": "2024-10-05T21:02:24.164Z"
   },
   {
    "duration": 4,
    "start_time": "2024-10-05T21:07:03.999Z"
   },
   {
    "duration": 3,
    "start_time": "2024-10-05T21:07:12.215Z"
   },
   {
    "duration": 3,
    "start_time": "2024-10-05T21:07:23.603Z"
   },
   {
    "duration": 18,
    "start_time": "2024-10-05T21:07:26.089Z"
   },
   {
    "duration": 422,
    "start_time": "2024-10-05T21:07:37.479Z"
   },
   {
    "duration": 99,
    "start_time": "2024-10-05T21:07:39.925Z"
   },
   {
    "duration": 4,
    "start_time": "2024-10-05T21:07:44.154Z"
   },
   {
    "duration": 55,
    "start_time": "2024-10-05T21:07:45.930Z"
   },
   {
    "duration": 201,
    "start_time": "2024-10-05T21:07:48.394Z"
   },
   {
    "duration": 197,
    "start_time": "2024-10-05T21:17:18.258Z"
   },
   {
    "duration": 211,
    "start_time": "2024-10-05T21:17:35.541Z"
   },
   {
    "duration": 215,
    "start_time": "2024-10-05T21:17:46.119Z"
   },
   {
    "duration": 212,
    "start_time": "2024-10-05T21:19:45.619Z"
   },
   {
    "duration": 362,
    "start_time": "2024-10-05T21:20:00.092Z"
   },
   {
    "duration": 91,
    "start_time": "2024-10-05T21:20:01.837Z"
   },
   {
    "duration": 4,
    "start_time": "2024-10-05T21:20:04.138Z"
   },
   {
    "duration": 188,
    "start_time": "2024-10-05T21:20:06.797Z"
   },
   {
    "duration": 204,
    "start_time": "2024-10-05T21:20:40.364Z"
   },
   {
    "duration": 184,
    "start_time": "2024-10-05T21:22:25.052Z"
   },
   {
    "duration": 379,
    "start_time": "2024-10-05T21:25:06.062Z"
   },
   {
    "duration": 182,
    "start_time": "2024-10-05T21:25:12.507Z"
   },
   {
    "duration": 196,
    "start_time": "2024-10-05T21:31:12.762Z"
   },
   {
    "duration": 388,
    "start_time": "2024-10-05T21:31:27.247Z"
   },
   {
    "duration": 369,
    "start_time": "2024-10-05T21:31:40.441Z"
   },
   {
    "duration": 394,
    "start_time": "2024-10-05T21:31:48.068Z"
   },
   {
    "duration": 194,
    "start_time": "2024-10-05T21:32:43.586Z"
   },
   {
    "duration": 186,
    "start_time": "2024-10-05T21:32:48.525Z"
   },
   {
    "duration": 3,
    "start_time": "2024-10-05T21:40:55.369Z"
   },
   {
    "duration": 3,
    "start_time": "2024-10-05T21:41:03.823Z"
   },
   {
    "duration": 3,
    "start_time": "2024-10-05T21:41:20.566Z"
   },
   {
    "duration": 3,
    "start_time": "2024-10-05T21:41:30.856Z"
   },
   {
    "duration": 199,
    "start_time": "2024-10-05T21:41:43.854Z"
   },
   {
    "duration": 186,
    "start_time": "2024-10-05T21:41:47.091Z"
   },
   {
    "duration": 195,
    "start_time": "2024-10-05T21:41:48.998Z"
   },
   {
    "duration": 3,
    "start_time": "2024-10-05T21:41:52.942Z"
   },
   {
    "duration": 9,
    "start_time": "2024-10-05T21:43:53.445Z"
   },
   {
    "duration": 3,
    "start_time": "2024-10-05T21:46:39.799Z"
   },
   {
    "duration": 7,
    "start_time": "2024-10-05T21:46:45.504Z"
   },
   {
    "duration": 7,
    "start_time": "2024-10-05T21:46:59.351Z"
   },
   {
    "duration": 210,
    "start_time": "2024-10-05T21:47:31.291Z"
   },
   {
    "duration": 4,
    "start_time": "2024-10-05T21:48:41.487Z"
   },
   {
    "duration": 198,
    "start_time": "2024-10-05T21:48:47.045Z"
   },
   {
    "duration": 197,
    "start_time": "2024-10-05T21:49:21.303Z"
   },
   {
    "duration": 4,
    "start_time": "2024-10-05T21:49:30.863Z"
   },
   {
    "duration": 186,
    "start_time": "2024-10-05T21:49:34.308Z"
   },
   {
    "duration": 188,
    "start_time": "2024-10-05T21:49:50.472Z"
   },
   {
    "duration": 191,
    "start_time": "2024-10-05T21:49:54.833Z"
   },
   {
    "duration": 222,
    "start_time": "2024-10-05T21:53:02.971Z"
   },
   {
    "duration": 457,
    "start_time": "2024-10-05T21:53:14.160Z"
   },
   {
    "duration": 97,
    "start_time": "2024-10-05T21:53:57.216Z"
   },
   {
    "duration": 16,
    "start_time": "2024-10-05T21:54:16.271Z"
   },
   {
    "duration": 10,
    "start_time": "2024-10-05T21:54:26.344Z"
   },
   {
    "duration": 90,
    "start_time": "2024-10-05T21:55:05.130Z"
   },
   {
    "duration": 366,
    "start_time": "2024-10-05T21:59:39.640Z"
   },
   {
    "duration": 11,
    "start_time": "2024-10-05T21:59:41.210Z"
   },
   {
    "duration": 3,
    "start_time": "2024-10-05T21:59:43.326Z"
   },
   {
    "duration": 7,
    "start_time": "2024-10-05T22:00:00.320Z"
   },
   {
    "duration": 11,
    "start_time": "2024-10-05T22:00:15.411Z"
   },
   {
    "duration": 11,
    "start_time": "2024-10-05T22:01:04.153Z"
   },
   {
    "duration": 3,
    "start_time": "2024-10-05T22:01:20.940Z"
   },
   {
    "duration": 224,
    "start_time": "2024-10-05T22:01:25.819Z"
   },
   {
    "duration": 193,
    "start_time": "2024-10-05T22:01:36.100Z"
   },
   {
    "duration": 197,
    "start_time": "2024-10-05T22:01:50.537Z"
   },
   {
    "duration": 92,
    "start_time": "2024-10-05T22:17:12.197Z"
   },
   {
    "duration": 15,
    "start_time": "2024-10-05T22:20:38.195Z"
   },
   {
    "duration": 93,
    "start_time": "2024-10-05T22:20:48.452Z"
   },
   {
    "duration": 92,
    "start_time": "2024-10-05T22:21:07.003Z"
   },
   {
    "duration": 92,
    "start_time": "2024-10-05T22:21:19.394Z"
   },
   {
    "duration": 425,
    "start_time": "2024-10-05T22:21:57.555Z"
   },
   {
    "duration": 25,
    "start_time": "2024-10-05T22:23:09.867Z"
   },
   {
    "duration": 93,
    "start_time": "2024-10-05T22:25:04.747Z"
   },
   {
    "duration": 92,
    "start_time": "2024-10-05T22:25:10.605Z"
   },
   {
    "duration": 166,
    "start_time": "2024-10-06T02:02:14.605Z"
   },
   {
    "duration": 2715,
    "start_time": "2024-10-06T02:02:24.745Z"
   },
   {
    "duration": 474,
    "start_time": "2024-10-06T02:02:27.463Z"
   },
   {
    "duration": 13,
    "start_time": "2024-10-06T02:02:27.938Z"
   },
   {
    "duration": 10,
    "start_time": "2024-10-06T02:02:27.953Z"
   },
   {
    "duration": 258,
    "start_time": "2024-10-06T02:02:27.966Z"
   },
   {
    "duration": 500,
    "start_time": "2024-10-06T02:02:28.226Z"
   },
   {
    "duration": 91,
    "start_time": "2024-10-06T02:02:28.728Z"
   },
   {
    "duration": 94,
    "start_time": "2024-10-06T02:02:28.821Z"
   },
   {
    "duration": 26,
    "start_time": "2024-10-06T02:02:28.917Z"
   },
   {
    "duration": 81,
    "start_time": "2024-10-06T02:02:28.945Z"
   },
   {
    "duration": 90,
    "start_time": "2024-10-06T02:39:10.968Z"
   },
   {
    "duration": 88,
    "start_time": "2024-10-06T02:39:22.114Z"
   },
   {
    "duration": 28,
    "start_time": "2024-10-06T02:39:53.564Z"
   },
   {
    "duration": 240,
    "start_time": "2024-10-06T02:41:48.482Z"
   },
   {
    "duration": 21,
    "start_time": "2024-10-06T02:42:04.763Z"
   },
   {
    "duration": 21,
    "start_time": "2024-10-06T02:42:15.601Z"
   },
   {
    "duration": 22,
    "start_time": "2024-10-06T02:44:00.194Z"
   },
   {
    "duration": 21,
    "start_time": "2024-10-06T02:44:17.873Z"
   },
   {
    "duration": 20,
    "start_time": "2024-10-06T02:45:38.434Z"
   },
   {
    "duration": 20,
    "start_time": "2024-10-06T02:45:58.034Z"
   },
   {
    "duration": 25,
    "start_time": "2024-10-06T02:46:08.963Z"
   },
   {
    "duration": 5,
    "start_time": "2024-10-06T02:46:20.089Z"
   },
   {
    "duration": 3,
    "start_time": "2024-10-06T02:46:29.752Z"
   },
   {
    "duration": 21,
    "start_time": "2024-10-06T02:46:33.290Z"
   },
   {
    "duration": 27,
    "start_time": "2024-10-06T02:47:44.292Z"
   },
   {
    "duration": 22,
    "start_time": "2024-10-06T02:47:55.153Z"
   },
   {
    "duration": 31,
    "start_time": "2024-10-06T02:48:38.373Z"
   },
   {
    "duration": 22,
    "start_time": "2024-10-06T02:49:04.473Z"
   },
   {
    "duration": 3,
    "start_time": "2024-10-06T02:50:09.516Z"
   },
   {
    "duration": 105,
    "start_time": "2024-10-06T02:50:15.555Z"
   },
   {
    "duration": 5,
    "start_time": "2024-10-06T02:53:15.639Z"
   },
   {
    "duration": 105,
    "start_time": "2024-10-06T02:54:54.519Z"
   },
   {
    "duration": 105,
    "start_time": "2024-10-06T02:55:30.428Z"
   },
   {
    "duration": 100,
    "start_time": "2024-10-06T02:57:11.652Z"
   },
   {
    "duration": 3,
    "start_time": "2024-10-06T02:57:23.237Z"
   },
   {
    "duration": 91,
    "start_time": "2024-10-06T02:57:35.283Z"
   },
   {
    "duration": 303,
    "start_time": "2024-10-06T02:58:54.044Z"
   },
   {
    "duration": 13,
    "start_time": "2024-10-06T02:59:14.661Z"
   },
   {
    "duration": 5,
    "start_time": "2024-10-06T02:59:26.428Z"
   },
   {
    "duration": 9,
    "start_time": "2024-10-06T02:59:37.559Z"
   },
   {
    "duration": 88,
    "start_time": "2024-10-06T03:00:11.511Z"
   },
   {
    "duration": 33,
    "start_time": "2024-10-06T03:00:45.144Z"
   },
   {
    "duration": 284,
    "start_time": "2024-10-06T03:08:01.848Z"
   },
   {
    "duration": 42,
    "start_time": "2024-10-06T03:11:52.937Z"
   },
   {
    "duration": 274,
    "start_time": "2024-10-06T03:14:07.504Z"
   },
   {
    "duration": 119,
    "start_time": "2024-10-06T03:30:27.525Z"
   },
   {
    "duration": 85,
    "start_time": "2024-10-06T03:34:05.181Z"
   },
   {
    "duration": 89,
    "start_time": "2024-10-06T03:34:17.698Z"
   },
   {
    "duration": 13,
    "start_time": "2024-10-06T03:36:09.753Z"
   },
   {
    "duration": 18,
    "start_time": "2024-10-06T03:36:38.168Z"
   },
   {
    "duration": 37,
    "start_time": "2024-10-06T03:37:40.307Z"
   },
   {
    "duration": 37,
    "start_time": "2024-10-06T03:37:54.687Z"
   },
   {
    "duration": 52,
    "start_time": "2024-10-06T03:38:41.024Z"
   },
   {
    "duration": 120,
    "start_time": "2024-10-06T03:38:56.825Z"
   },
   {
    "duration": 55,
    "start_time": "2024-10-06T03:39:04.151Z"
   },
   {
    "duration": 40,
    "start_time": "2024-10-06T03:40:00.218Z"
   },
   {
    "duration": 88,
    "start_time": "2024-10-06T03:40:03.051Z"
   },
   {
    "duration": 96,
    "start_time": "2024-10-06T03:40:51.483Z"
   },
   {
    "duration": 64,
    "start_time": "2024-10-06T03:40:53.163Z"
   },
   {
    "duration": 145,
    "start_time": "2024-10-06T03:41:12.353Z"
   },
   {
    "duration": 15,
    "start_time": "2024-10-06T03:56:36.941Z"
   },
   {
    "duration": 38,
    "start_time": "2024-10-06T03:57:05.024Z"
   },
   {
    "duration": 389,
    "start_time": "2024-10-06T03:57:29.604Z"
   },
   {
    "duration": 10,
    "start_time": "2024-10-06T03:57:31.987Z"
   },
   {
    "duration": 10,
    "start_time": "2024-10-06T03:57:35.463Z"
   },
   {
    "duration": 459,
    "start_time": "2024-10-06T03:57:42.732Z"
   },
   {
    "duration": 87,
    "start_time": "2024-10-06T03:57:48.564Z"
   },
   {
    "duration": 54,
    "start_time": "2024-10-06T03:57:53.076Z"
   },
   {
    "duration": 4,
    "start_time": "2024-10-06T03:59:10.707Z"
   },
   {
    "duration": 267,
    "start_time": "2024-10-06T03:59:28.098Z"
   },
   {
    "duration": 264,
    "start_time": "2024-10-06T04:16:01.111Z"
   },
   {
    "duration": 263,
    "start_time": "2024-10-06T04:16:25.568Z"
   },
   {
    "duration": 16,
    "start_time": "2024-10-06T04:17:43.540Z"
   },
   {
    "duration": 140,
    "start_time": "2024-10-06T04:18:16.119Z"
   },
   {
    "duration": 13,
    "start_time": "2024-10-06T04:23:06.224Z"
   },
   {
    "duration": 29,
    "start_time": "2024-10-06T04:23:17.071Z"
   },
   {
    "duration": 16,
    "start_time": "2024-10-06T04:24:03.367Z"
   },
   {
    "duration": 26,
    "start_time": "2024-10-06T04:24:23.015Z"
   },
   {
    "duration": 26,
    "start_time": "2024-10-06T04:28:00.680Z"
   },
   {
    "duration": 38,
    "start_time": "2024-10-06T04:29:48.440Z"
   },
   {
    "duration": 24,
    "start_time": "2024-10-06T04:31:03.017Z"
   },
   {
    "duration": 4,
    "start_time": "2024-10-06T04:31:25.624Z"
   },
   {
    "duration": 18,
    "start_time": "2024-10-06T04:31:29.168Z"
   },
   {
    "duration": 3,
    "start_time": "2024-10-06T04:31:36.099Z"
   },
   {
    "duration": 18,
    "start_time": "2024-10-06T04:31:38.841Z"
   },
   {
    "duration": 25,
    "start_time": "2024-10-06T04:32:04.361Z"
   },
   {
    "duration": 16,
    "start_time": "2024-10-06T04:32:42.241Z"
   },
   {
    "duration": 37,
    "start_time": "2024-10-06T04:33:00.464Z"
   },
   {
    "duration": 38,
    "start_time": "2024-10-06T04:33:05.473Z"
   },
   {
    "duration": 28,
    "start_time": "2024-10-06T04:33:11.220Z"
   },
   {
    "duration": 16,
    "start_time": "2024-10-06T04:36:25.921Z"
   },
   {
    "duration": 168,
    "start_time": "2024-10-06T06:18:32.960Z"
   },
   {
    "duration": 2707,
    "start_time": "2024-10-06T06:19:22.142Z"
   },
   {
    "duration": 482,
    "start_time": "2024-10-06T06:19:24.851Z"
   },
   {
    "duration": 14,
    "start_time": "2024-10-06T06:19:25.335Z"
   },
   {
    "duration": 11,
    "start_time": "2024-10-06T06:19:25.352Z"
   },
   {
    "duration": 258,
    "start_time": "2024-10-06T06:19:25.365Z"
   },
   {
    "duration": 566,
    "start_time": "2024-10-06T06:19:25.626Z"
   },
   {
    "duration": 141,
    "start_time": "2024-10-06T06:19:26.194Z"
   },
   {
    "duration": 122,
    "start_time": "2024-10-06T06:19:26.337Z"
   },
   {
    "duration": 261,
    "start_time": "2024-10-06T06:19:26.461Z"
   },
   {
    "duration": 6,
    "start_time": "2024-10-06T06:19:26.725Z"
   },
   {
    "duration": 0,
    "start_time": "2024-10-06T06:19:26.733Z"
   },
   {
    "duration": 297,
    "start_time": "2024-10-06T06:24:58.943Z"
   },
   {
    "duration": 122,
    "start_time": "2024-10-06T06:25:46.935Z"
   },
   {
    "duration": 128,
    "start_time": "2024-10-06T06:25:56.952Z"
   },
   {
    "duration": 222,
    "start_time": "2024-10-06T06:27:18.054Z"
   },
   {
    "duration": 214,
    "start_time": "2024-10-06T06:28:51.824Z"
   },
   {
    "duration": 191,
    "start_time": "2024-10-06T06:29:11.254Z"
   },
   {
    "duration": 210,
    "start_time": "2024-10-06T06:29:20.415Z"
   },
   {
    "duration": 210,
    "start_time": "2024-10-06T06:29:27.609Z"
   },
   {
    "duration": 16,
    "start_time": "2024-10-06T06:33:05.655Z"
   },
   {
    "duration": 156,
    "start_time": "2024-10-06T13:48:41.054Z"
   },
   {
    "duration": 11,
    "start_time": "2024-10-06T13:49:15.853Z"
   },
   {
    "duration": 12,
    "start_time": "2024-10-06T13:49:20.534Z"
   },
   {
    "duration": 2593,
    "start_time": "2024-10-06T13:49:27.149Z"
   },
   {
    "duration": 470,
    "start_time": "2024-10-06T13:49:29.745Z"
   },
   {
    "duration": 14,
    "start_time": "2024-10-06T13:49:30.216Z"
   },
   {
    "duration": 11,
    "start_time": "2024-10-06T13:49:30.232Z"
   },
   {
    "duration": 255,
    "start_time": "2024-10-06T13:49:30.246Z"
   },
   {
    "duration": 523,
    "start_time": "2024-10-06T13:49:30.503Z"
   },
   {
    "duration": 102,
    "start_time": "2024-10-06T13:49:31.027Z"
   },
   {
    "duration": 97,
    "start_time": "2024-10-06T13:49:31.131Z"
   },
   {
    "duration": 225,
    "start_time": "2024-10-06T13:49:31.230Z"
   },
   {
    "duration": 17,
    "start_time": "2024-10-06T13:49:31.457Z"
   },
   {
    "duration": 151,
    "start_time": "2024-10-06T13:49:31.476Z"
   },
   {
    "duration": 67,
    "start_time": "2024-10-06T13:49:31.629Z"
   },
   {
    "duration": 2,
    "start_time": "2024-10-06T13:50:53.265Z"
   },
   {
    "duration": 287,
    "start_time": "2024-10-06T13:53:16.615Z"
   },
   {
    "duration": 32,
    "start_time": "2024-10-06T13:53:30.087Z"
   },
   {
    "duration": 39,
    "start_time": "2024-10-06T13:53:39.800Z"
   },
   {
    "duration": 35,
    "start_time": "2024-10-06T13:54:22.669Z"
   },
   {
    "duration": 32,
    "start_time": "2024-10-06T13:57:12.954Z"
   },
   {
    "duration": 306,
    "start_time": "2024-10-06T13:57:46.383Z"
   },
   {
    "duration": 195,
    "start_time": "2024-10-06T14:11:45.313Z"
   },
   {
    "duration": 67,
    "start_time": "2024-10-06T14:13:47.715Z"
   },
   {
    "duration": 2,
    "start_time": "2024-10-06T14:15:53.751Z"
   },
   {
    "duration": 5,
    "start_time": "2024-10-06T14:16:11.571Z"
   },
   {
    "duration": 71,
    "start_time": "2024-10-06T14:16:24.741Z"
   },
   {
    "duration": 79,
    "start_time": "2024-10-06T14:16:47.165Z"
   },
   {
    "duration": 69,
    "start_time": "2024-10-06T14:17:20.243Z"
   },
   {
    "duration": 4,
    "start_time": "2024-10-06T14:17:28.006Z"
   },
   {
    "duration": 962,
    "start_time": "2024-10-06T14:17:59.137Z"
   },
   {
    "duration": 407,
    "start_time": "2024-10-06T14:18:00.102Z"
   },
   {
    "duration": 13,
    "start_time": "2024-10-06T14:18:00.511Z"
   },
   {
    "duration": 12,
    "start_time": "2024-10-06T14:18:00.526Z"
   },
   {
    "duration": 237,
    "start_time": "2024-10-06T14:18:00.540Z"
   },
   {
    "duration": 491,
    "start_time": "2024-10-06T14:18:00.779Z"
   },
   {
    "duration": 100,
    "start_time": "2024-10-06T14:18:01.272Z"
   },
   {
    "duration": 98,
    "start_time": "2024-10-06T14:18:01.374Z"
   },
   {
    "duration": 3,
    "start_time": "2024-10-06T14:18:01.474Z"
   },
   {
    "duration": 56,
    "start_time": "2024-10-06T14:18:01.480Z"
   },
   {
    "duration": 4,
    "start_time": "2024-10-06T14:18:01.538Z"
   },
   {
    "duration": 3,
    "start_time": "2024-10-06T14:19:08.003Z"
   },
   {
    "duration": 16,
    "start_time": "2024-10-06T14:19:21.435Z"
   },
   {
    "duration": 16,
    "start_time": "2024-10-06T14:19:32.965Z"
   },
   {
    "duration": 21,
    "start_time": "2024-10-06T14:19:46.750Z"
   },
   {
    "duration": 17,
    "start_time": "2024-10-06T14:20:07.303Z"
   },
   {
    "duration": 16,
    "start_time": "2024-10-06T14:20:16.259Z"
   },
   {
    "duration": 17,
    "start_time": "2024-10-06T14:20:25.108Z"
   },
   {
    "duration": 16,
    "start_time": "2024-10-06T14:20:34.465Z"
   },
   {
    "duration": 573,
    "start_time": "2024-10-06T14:22:27.725Z"
   },
   {
    "duration": 15,
    "start_time": "2024-10-06T14:22:39.245Z"
   },
   {
    "duration": 23,
    "start_time": "2024-10-06T14:23:06.757Z"
   },
   {
    "duration": 28,
    "start_time": "2024-10-06T14:23:15.091Z"
   },
   {
    "duration": 1046,
    "start_time": "2024-10-06T14:23:43.348Z"
   },
   {
    "duration": 1036,
    "start_time": "2024-10-06T14:23:54.968Z"
   },
   {
    "duration": 25,
    "start_time": "2024-10-06T14:24:16.841Z"
   },
   {
    "duration": 28,
    "start_time": "2024-10-06T14:24:28.516Z"
   },
   {
    "duration": 24,
    "start_time": "2024-10-06T14:25:10.393Z"
   },
   {
    "duration": 41,
    "start_time": "2024-10-06T14:25:43.542Z"
   },
   {
    "duration": 28,
    "start_time": "2024-10-06T14:25:46.765Z"
   },
   {
    "duration": 24,
    "start_time": "2024-10-06T14:27:18.651Z"
   },
   {
    "duration": 43,
    "start_time": "2024-10-06T14:27:26.276Z"
   },
   {
    "duration": 37,
    "start_time": "2024-10-06T14:28:15.876Z"
   },
   {
    "duration": 5,
    "start_time": "2024-10-06T14:28:40.363Z"
   },
   {
    "duration": 42,
    "start_time": "2024-10-06T14:28:45.419Z"
   },
   {
    "duration": 77,
    "start_time": "2024-10-06T14:32:06.264Z"
   },
   {
    "duration": 38,
    "start_time": "2024-10-06T14:52:45.284Z"
   },
   {
    "duration": 46,
    "start_time": "2024-10-06T14:54:51.792Z"
   },
   {
    "duration": 96,
    "start_time": "2024-10-06T14:58:03.232Z"
   },
   {
    "duration": 101,
    "start_time": "2024-10-06T14:58:25.463Z"
   },
   {
    "duration": 13,
    "start_time": "2024-10-06T15:04:50.162Z"
   },
   {
    "duration": 87,
    "start_time": "2024-10-06T15:05:07.218Z"
   },
   {
    "duration": 157,
    "start_time": "2024-10-06T20:04:33.590Z"
   },
   {
    "duration": 2666,
    "start_time": "2024-10-06T20:06:42.879Z"
   },
   {
    "duration": 461,
    "start_time": "2024-10-06T20:06:45.548Z"
   },
   {
    "duration": 18,
    "start_time": "2024-10-06T20:06:46.011Z"
   },
   {
    "duration": 11,
    "start_time": "2024-10-06T20:06:46.030Z"
   },
   {
    "duration": 250,
    "start_time": "2024-10-06T20:06:46.044Z"
   },
   {
    "duration": 494,
    "start_time": "2024-10-06T20:06:46.296Z"
   },
   {
    "duration": 95,
    "start_time": "2024-10-06T20:06:46.792Z"
   },
   {
    "duration": 97,
    "start_time": "2024-10-06T20:06:46.888Z"
   },
   {
    "duration": 13,
    "start_time": "2024-10-06T20:06:46.987Z"
   },
   {
    "duration": 225,
    "start_time": "2024-10-06T20:06:47.002Z"
   },
   {
    "duration": 34,
    "start_time": "2024-10-06T20:06:47.229Z"
   },
   {
    "duration": 91,
    "start_time": "2024-10-06T20:06:47.265Z"
   },
   {
    "duration": 219,
    "start_time": "2024-10-06T20:07:06.387Z"
   },
   {
    "duration": 5,
    "start_time": "2024-10-06T20:08:25.606Z"
   },
   {
    "duration": 71,
    "start_time": "2024-10-06T20:08:57.011Z"
   },
   {
    "duration": 968,
    "start_time": "2024-10-06T20:25:43.110Z"
   },
   {
    "duration": 404,
    "start_time": "2024-10-06T20:25:44.081Z"
   },
   {
    "duration": 13,
    "start_time": "2024-10-06T20:25:44.487Z"
   },
   {
    "duration": 22,
    "start_time": "2024-10-06T20:25:44.502Z"
   },
   {
    "duration": 223,
    "start_time": "2024-10-06T20:25:44.526Z"
   },
   {
    "duration": 500,
    "start_time": "2024-10-06T20:25:44.751Z"
   },
   {
    "duration": 92,
    "start_time": "2024-10-06T20:25:45.253Z"
   },
   {
    "duration": 96,
    "start_time": "2024-10-06T20:25:45.347Z"
   },
   {
    "duration": 13,
    "start_time": "2024-10-06T20:25:45.447Z"
   },
   {
    "duration": 98,
    "start_time": "2024-10-06T20:25:45.463Z"
   },
   {
    "duration": 39,
    "start_time": "2024-10-06T20:25:45.563Z"
   },
   {
    "duration": 98,
    "start_time": "2024-10-06T20:25:45.604Z"
   },
   {
    "duration": 93,
    "start_time": "2024-10-06T20:34:19.802Z"
   },
   {
    "duration": 213,
    "start_time": "2024-10-06T20:34:40.479Z"
   },
   {
    "duration": 85,
    "start_time": "2024-10-06T20:34:44.344Z"
   },
   {
    "duration": 967,
    "start_time": "2024-10-06T20:41:48.014Z"
   },
   {
    "duration": 407,
    "start_time": "2024-10-06T20:41:48.983Z"
   },
   {
    "duration": 13,
    "start_time": "2024-10-06T20:41:49.392Z"
   },
   {
    "duration": 21,
    "start_time": "2024-10-06T20:41:49.407Z"
   },
   {
    "duration": 237,
    "start_time": "2024-10-06T20:41:49.431Z"
   },
   {
    "duration": 515,
    "start_time": "2024-10-06T20:41:49.669Z"
   },
   {
    "duration": 101,
    "start_time": "2024-10-06T20:41:50.186Z"
   },
   {
    "duration": 96,
    "start_time": "2024-10-06T20:41:50.289Z"
   },
   {
    "duration": 14,
    "start_time": "2024-10-06T20:41:50.387Z"
   },
   {
    "duration": 222,
    "start_time": "2024-10-06T20:41:50.402Z"
   },
   {
    "duration": 35,
    "start_time": "2024-10-06T20:41:50.626Z"
   },
   {
    "duration": 85,
    "start_time": "2024-10-06T20:41:50.662Z"
   },
   {
    "duration": 70,
    "start_time": "2024-10-06T20:44:25.313Z"
   },
   {
    "duration": 6,
    "start_time": "2024-10-06T20:51:42.410Z"
   },
   {
    "duration": 4,
    "start_time": "2024-10-06T20:51:47.611Z"
   },
   {
    "duration": 232,
    "start_time": "2024-10-06T20:51:52.062Z"
   },
   {
    "duration": 4,
    "start_time": "2024-10-06T20:52:00.781Z"
   },
   {
    "duration": 3,
    "start_time": "2024-10-06T20:52:42.930Z"
   },
   {
    "duration": 4,
    "start_time": "2024-10-06T20:52:48.317Z"
   },
   {
    "duration": 3,
    "start_time": "2024-10-06T20:53:00.298Z"
   },
   {
    "duration": 69,
    "start_time": "2024-10-06T20:53:06.346Z"
   },
   {
    "duration": 74,
    "start_time": "2024-10-06T20:53:18.164Z"
   },
   {
    "duration": 69,
    "start_time": "2024-10-06T20:53:24.287Z"
   },
   {
    "duration": 69,
    "start_time": "2024-10-06T20:53:27.642Z"
   },
   {
    "duration": 75,
    "start_time": "2024-10-06T20:53:32.607Z"
   },
   {
    "duration": 76,
    "start_time": "2024-10-06T21:03:45.971Z"
   },
   {
    "duration": 10,
    "start_time": "2024-10-06T21:04:04.396Z"
   },
   {
    "duration": 4,
    "start_time": "2024-10-06T21:08:20.507Z"
   },
   {
    "duration": 11,
    "start_time": "2024-10-06T21:08:30.654Z"
   },
   {
    "duration": 37,
    "start_time": "2024-10-06T21:23:16.126Z"
   },
   {
    "duration": 8,
    "start_time": "2024-10-06T21:29:27.836Z"
   },
   {
    "duration": 91,
    "start_time": "2024-10-06T21:29:33.188Z"
   },
   {
    "duration": 49,
    "start_time": "2024-10-06T21:31:15.097Z"
   },
   {
    "duration": 943,
    "start_time": "2024-10-06T21:32:23.371Z"
   },
   {
    "duration": 408,
    "start_time": "2024-10-06T21:32:24.316Z"
   },
   {
    "duration": 13,
    "start_time": "2024-10-06T21:32:24.726Z"
   },
   {
    "duration": 10,
    "start_time": "2024-10-06T21:32:24.741Z"
   },
   {
    "duration": 243,
    "start_time": "2024-10-06T21:32:24.753Z"
   },
   {
    "duration": 526,
    "start_time": "2024-10-06T21:32:24.998Z"
   },
   {
    "duration": 104,
    "start_time": "2024-10-06T21:32:25.526Z"
   },
   {
    "duration": 95,
    "start_time": "2024-10-06T21:32:25.631Z"
   },
   {
    "duration": 14,
    "start_time": "2024-10-06T21:32:25.729Z"
   },
   {
    "duration": 221,
    "start_time": "2024-10-06T21:32:25.745Z"
   },
   {
    "duration": 75,
    "start_time": "2024-10-06T21:32:25.968Z"
   },
   {
    "duration": 86,
    "start_time": "2024-10-06T21:32:26.045Z"
   },
   {
    "duration": 10,
    "start_time": "2024-10-06T21:32:26.132Z"
   },
   {
    "duration": 3,
    "start_time": "2024-10-06T21:32:26.144Z"
   },
   {
    "duration": 953,
    "start_time": "2024-10-06T21:33:21.107Z"
   },
   {
    "duration": 393,
    "start_time": "2024-10-06T21:33:22.062Z"
   },
   {
    "duration": 12,
    "start_time": "2024-10-06T21:33:22.456Z"
   },
   {
    "duration": 10,
    "start_time": "2024-10-06T21:33:22.471Z"
   },
   {
    "duration": 15,
    "start_time": "2024-10-06T21:33:22.482Z"
   },
   {
    "duration": 147,
    "start_time": "2024-10-06T21:33:22.499Z"
   },
   {
    "duration": 254,
    "start_time": "2024-10-06T21:33:22.648Z"
   },
   {
    "duration": 54,
    "start_time": "2024-10-06T21:33:22.904Z"
   },
   {
    "duration": 50,
    "start_time": "2024-10-06T21:33:22.960Z"
   },
   {
    "duration": 12,
    "start_time": "2024-10-06T21:33:23.026Z"
   },
   {
    "duration": 109,
    "start_time": "2024-10-06T21:33:23.040Z"
   },
   {
    "duration": 36,
    "start_time": "2024-10-06T21:33:23.151Z"
   },
   {
    "duration": 49,
    "start_time": "2024-10-06T21:33:23.189Z"
   },
   {
    "duration": 8,
    "start_time": "2024-10-06T21:33:23.240Z"
   },
   {
    "duration": 4,
    "start_time": "2024-10-06T21:33:23.249Z"
   },
   {
    "duration": 897,
    "start_time": "2024-10-06T21:34:56.876Z"
   },
   {
    "duration": 929,
    "start_time": "2024-10-06T21:35:04.189Z"
   },
   {
    "duration": 413,
    "start_time": "2024-10-06T21:35:05.120Z"
   },
   {
    "duration": 13,
    "start_time": "2024-10-06T21:35:05.535Z"
   },
   {
    "duration": 10,
    "start_time": "2024-10-06T21:35:05.551Z"
   },
   {
    "duration": 16,
    "start_time": "2024-10-06T21:35:05.563Z"
   },
   {
    "duration": 154,
    "start_time": "2024-10-06T21:35:05.580Z"
   },
   {
    "duration": 273,
    "start_time": "2024-10-06T21:35:05.736Z"
   },
   {
    "duration": 61,
    "start_time": "2024-10-06T21:35:06.010Z"
   },
   {
    "duration": 62,
    "start_time": "2024-10-06T21:35:06.073Z"
   },
   {
    "duration": 13,
    "start_time": "2024-10-06T21:35:06.137Z"
   },
   {
    "duration": 119,
    "start_time": "2024-10-06T21:35:06.151Z"
   },
   {
    "duration": 40,
    "start_time": "2024-10-06T21:35:06.272Z"
   },
   {
    "duration": 46,
    "start_time": "2024-10-06T21:35:06.323Z"
   },
   {
    "duration": 8,
    "start_time": "2024-10-06T21:35:06.370Z"
   },
   {
    "duration": 4,
    "start_time": "2024-10-06T21:35:06.380Z"
   },
   {
    "duration": 886,
    "start_time": "2024-10-06T21:36:18.862Z"
   },
   {
    "duration": 1181,
    "start_time": "2024-10-06T21:36:24.561Z"
   },
   {
    "duration": 397,
    "start_time": "2024-10-06T21:36:25.744Z"
   },
   {
    "duration": 12,
    "start_time": "2024-10-06T21:36:26.143Z"
   },
   {
    "duration": 10,
    "start_time": "2024-10-06T21:36:26.157Z"
   },
   {
    "duration": 18,
    "start_time": "2024-10-06T21:36:26.170Z"
   },
   {
    "duration": 170,
    "start_time": "2024-10-06T21:36:26.190Z"
   },
   {
    "duration": 359,
    "start_time": "2024-10-06T21:36:26.361Z"
   },
   {
    "duration": 75,
    "start_time": "2024-10-06T21:36:26.724Z"
   },
   {
    "duration": 88,
    "start_time": "2024-10-06T21:36:26.801Z"
   },
   {
    "duration": 19,
    "start_time": "2024-10-06T21:36:26.891Z"
   },
   {
    "duration": 147,
    "start_time": "2024-10-06T21:36:26.924Z"
   },
   {
    "duration": 58,
    "start_time": "2024-10-06T21:36:27.073Z"
   },
   {
    "duration": 72,
    "start_time": "2024-10-06T21:36:27.133Z"
   },
   {
    "duration": 8,
    "start_time": "2024-10-06T21:36:27.224Z"
   },
   {
    "duration": 3,
    "start_time": "2024-10-06T21:36:27.234Z"
   },
   {
    "duration": 877,
    "start_time": "2024-10-06T21:36:45.592Z"
   },
   {
    "duration": 989,
    "start_time": "2024-10-06T21:36:50.980Z"
   },
   {
    "duration": 414,
    "start_time": "2024-10-06T21:36:51.971Z"
   },
   {
    "duration": 13,
    "start_time": "2024-10-06T21:36:52.387Z"
   },
   {
    "duration": 23,
    "start_time": "2024-10-06T21:36:52.401Z"
   },
   {
    "duration": 20,
    "start_time": "2024-10-06T21:36:52.428Z"
   },
   {
    "duration": 203,
    "start_time": "2024-10-06T21:36:52.450Z"
   },
   {
    "duration": 436,
    "start_time": "2024-10-06T21:36:52.655Z"
   },
   {
    "duration": 90,
    "start_time": "2024-10-06T21:36:53.093Z"
   },
   {
    "duration": 90,
    "start_time": "2024-10-06T21:36:53.184Z"
   },
   {
    "duration": 13,
    "start_time": "2024-10-06T21:36:53.275Z"
   },
   {
    "duration": 218,
    "start_time": "2024-10-06T21:36:53.290Z"
   },
   {
    "duration": 66,
    "start_time": "2024-10-06T21:36:53.510Z"
   },
   {
    "duration": 73,
    "start_time": "2024-10-06T21:36:53.578Z"
   },
   {
    "duration": 9,
    "start_time": "2024-10-06T21:36:53.654Z"
   },
   {
    "duration": 3,
    "start_time": "2024-10-06T21:36:53.665Z"
   },
   {
    "duration": 967,
    "start_time": "2024-10-06T21:38:24.998Z"
   },
   {
    "duration": 408,
    "start_time": "2024-10-06T21:38:25.968Z"
   },
   {
    "duration": 13,
    "start_time": "2024-10-06T21:38:26.378Z"
   },
   {
    "duration": 11,
    "start_time": "2024-10-06T21:38:26.392Z"
   },
   {
    "duration": 26,
    "start_time": "2024-10-06T21:38:26.406Z"
   },
   {
    "duration": 168,
    "start_time": "2024-10-06T21:38:26.434Z"
   },
   {
    "duration": 348,
    "start_time": "2024-10-06T21:38:26.604Z"
   },
   {
    "duration": 75,
    "start_time": "2024-10-06T21:38:26.954Z"
   },
   {
    "duration": 71,
    "start_time": "2024-10-06T21:38:27.030Z"
   },
   {
    "duration": 26,
    "start_time": "2024-10-06T21:38:27.102Z"
   },
   {
    "duration": 160,
    "start_time": "2024-10-06T21:38:27.130Z"
   },
   {
    "duration": 65,
    "start_time": "2024-10-06T21:38:27.292Z"
   },
   {
    "duration": 67,
    "start_time": "2024-10-06T21:38:27.359Z"
   },
   {
    "duration": 9,
    "start_time": "2024-10-06T21:38:27.428Z"
   },
   {
    "duration": 3,
    "start_time": "2024-10-06T21:38:27.439Z"
   },
   {
    "duration": 389,
    "start_time": "2024-10-06T21:41:47.584Z"
   },
   {
    "duration": 893,
    "start_time": "2024-10-06T21:41:52.184Z"
   },
   {
    "duration": 983,
    "start_time": "2024-10-06T21:42:15.146Z"
   },
   {
    "duration": 398,
    "start_time": "2024-10-06T21:42:16.132Z"
   },
   {
    "duration": 13,
    "start_time": "2024-10-06T21:42:16.532Z"
   },
   {
    "duration": 10,
    "start_time": "2024-10-06T21:42:16.546Z"
   },
   {
    "duration": 17,
    "start_time": "2024-10-06T21:42:16.559Z"
   },
   {
    "duration": 199,
    "start_time": "2024-10-06T21:42:16.578Z"
   },
   {
    "duration": 378,
    "start_time": "2024-10-06T21:42:16.779Z"
   },
   {
    "duration": 77,
    "start_time": "2024-10-06T21:42:17.159Z"
   },
   {
    "duration": 70,
    "start_time": "2024-10-06T21:42:17.238Z"
   },
   {
    "duration": 26,
    "start_time": "2024-10-06T21:42:17.310Z"
   },
   {
    "duration": 186,
    "start_time": "2024-10-06T21:42:17.339Z"
   },
   {
    "duration": 56,
    "start_time": "2024-10-06T21:42:17.527Z"
   },
   {
    "duration": 64,
    "start_time": "2024-10-06T21:42:17.585Z"
   },
   {
    "duration": 13,
    "start_time": "2024-10-06T21:42:17.652Z"
   },
   {
    "duration": 3,
    "start_time": "2024-10-06T21:42:17.667Z"
   },
   {
    "duration": 957,
    "start_time": "2024-10-06T21:43:31.288Z"
   },
   {
    "duration": 416,
    "start_time": "2024-10-06T21:43:32.247Z"
   },
   {
    "duration": 12,
    "start_time": "2024-10-06T21:43:32.665Z"
   },
   {
    "duration": 11,
    "start_time": "2024-10-06T21:43:32.679Z"
   },
   {
    "duration": 35,
    "start_time": "2024-10-06T21:43:32.692Z"
   },
   {
    "duration": 194,
    "start_time": "2024-10-06T21:43:32.730Z"
   },
   {
    "duration": 415,
    "start_time": "2024-10-06T21:43:32.925Z"
   },
   {
    "duration": 89,
    "start_time": "2024-10-06T21:43:33.342Z"
   },
   {
    "duration": 78,
    "start_time": "2024-10-06T21:43:33.433Z"
   },
   {
    "duration": 23,
    "start_time": "2024-10-06T21:43:33.512Z"
   },
   {
    "duration": 181,
    "start_time": "2024-10-06T21:43:33.536Z"
   },
   {
    "duration": 63,
    "start_time": "2024-10-06T21:43:33.719Z"
   },
   {
    "duration": 77,
    "start_time": "2024-10-06T21:43:33.783Z"
   },
   {
    "duration": 10,
    "start_time": "2024-10-06T21:43:33.863Z"
   },
   {
    "duration": 3,
    "start_time": "2024-10-06T21:43:33.875Z"
   },
   {
    "duration": 961,
    "start_time": "2024-10-06T21:44:38.414Z"
   },
   {
    "duration": 401,
    "start_time": "2024-10-06T21:44:39.377Z"
   },
   {
    "duration": 13,
    "start_time": "2024-10-06T21:44:39.780Z"
   },
   {
    "duration": 10,
    "start_time": "2024-10-06T21:44:39.795Z"
   },
   {
    "duration": 29,
    "start_time": "2024-10-06T21:44:39.807Z"
   },
   {
    "duration": 208,
    "start_time": "2024-10-06T21:44:39.837Z"
   },
   {
    "duration": 432,
    "start_time": "2024-10-06T21:44:40.047Z"
   },
   {
    "duration": 86,
    "start_time": "2024-10-06T21:44:40.481Z"
   },
   {
    "duration": 88,
    "start_time": "2024-10-06T21:44:40.568Z"
   },
   {
    "duration": 13,
    "start_time": "2024-10-06T21:44:40.659Z"
   },
   {
    "duration": 186,
    "start_time": "2024-10-06T21:44:40.673Z"
   },
   {
    "duration": 67,
    "start_time": "2024-10-06T21:44:40.861Z"
   },
   {
    "duration": 66,
    "start_time": "2024-10-06T21:44:40.929Z"
   },
   {
    "duration": 9,
    "start_time": "2024-10-06T21:44:40.996Z"
   },
   {
    "duration": 4,
    "start_time": "2024-10-06T21:44:41.024Z"
   },
   {
    "duration": 962,
    "start_time": "2024-10-06T21:47:49.517Z"
   },
   {
    "duration": 395,
    "start_time": "2024-10-06T21:47:50.481Z"
   },
   {
    "duration": 13,
    "start_time": "2024-10-06T21:47:50.878Z"
   },
   {
    "duration": 11,
    "start_time": "2024-10-06T21:47:50.892Z"
   },
   {
    "duration": 16,
    "start_time": "2024-10-06T21:47:50.923Z"
   },
   {
    "duration": 138,
    "start_time": "2024-10-06T21:47:50.940Z"
   },
   {
    "duration": 270,
    "start_time": "2024-10-06T21:47:51.079Z"
   },
   {
    "duration": 51,
    "start_time": "2024-10-06T21:47:51.352Z"
   },
   {
    "duration": 61,
    "start_time": "2024-10-06T21:47:51.404Z"
   },
   {
    "duration": 11,
    "start_time": "2024-10-06T21:47:51.467Z"
   },
   {
    "duration": 122,
    "start_time": "2024-10-06T21:47:51.480Z"
   },
   {
    "duration": 41,
    "start_time": "2024-10-06T21:47:51.604Z"
   },
   {
    "duration": 43,
    "start_time": "2024-10-06T21:47:51.647Z"
   },
   {
    "duration": 10,
    "start_time": "2024-10-06T21:47:51.693Z"
   },
   {
    "duration": 20,
    "start_time": "2024-10-06T21:47:51.704Z"
   },
   {
    "duration": 4,
    "start_time": "2024-10-06T23:04:55.594Z"
   },
   {
    "duration": 89,
    "start_time": "2024-10-06T23:29:20.826Z"
   },
   {
    "duration": 41,
    "start_time": "2024-10-06T23:29:24.429Z"
   },
   {
    "duration": 966,
    "start_time": "2024-10-07T00:32:42.412Z"
   },
   {
    "duration": 395,
    "start_time": "2024-10-07T00:32:43.380Z"
   },
   {
    "duration": 15,
    "start_time": "2024-10-07T00:32:43.777Z"
   },
   {
    "duration": 10,
    "start_time": "2024-10-07T00:32:43.794Z"
   },
   {
    "duration": 31,
    "start_time": "2024-10-07T00:32:43.806Z"
   },
   {
    "duration": 131,
    "start_time": "2024-10-07T00:32:43.839Z"
   },
   {
    "duration": 247,
    "start_time": "2024-10-07T00:32:43.971Z"
   },
   {
    "duration": 50,
    "start_time": "2024-10-07T00:32:44.223Z"
   },
   {
    "duration": 66,
    "start_time": "2024-10-07T00:32:44.275Z"
   },
   {
    "duration": 11,
    "start_time": "2024-10-07T00:32:44.343Z"
   },
   {
    "duration": 120,
    "start_time": "2024-10-07T00:32:44.356Z"
   },
   {
    "duration": 49,
    "start_time": "2024-10-07T00:32:44.478Z"
   },
   {
    "duration": 9,
    "start_time": "2024-10-07T00:32:44.528Z"
   },
   {
    "duration": 3,
    "start_time": "2024-10-07T00:32:44.538Z"
   },
   {
    "duration": 635,
    "start_time": "2024-10-07T00:37:06.913Z"
   },
   {
    "duration": 14,
    "start_time": "2024-10-07T00:37:23.207Z"
   },
   {
    "duration": 3,
    "start_time": "2024-10-07T00:39:19.691Z"
   },
   {
    "duration": 509,
    "start_time": "2024-10-07T00:43:39.876Z"
   },
   {
    "duration": 75,
    "start_time": "2024-10-07T00:43:50.041Z"
   },
   {
    "duration": 15,
    "start_time": "2024-10-07T00:43:55.152Z"
   },
   {
    "duration": 979,
    "start_time": "2024-10-07T00:44:24.075Z"
   },
   {
    "duration": 406,
    "start_time": "2024-10-07T00:44:25.057Z"
   },
   {
    "duration": 13,
    "start_time": "2024-10-07T00:44:25.465Z"
   },
   {
    "duration": 11,
    "start_time": "2024-10-07T00:44:25.479Z"
   },
   {
    "duration": 34,
    "start_time": "2024-10-07T00:44:25.494Z"
   },
   {
    "duration": 136,
    "start_time": "2024-10-07T00:44:25.529Z"
   },
   {
    "duration": 264,
    "start_time": "2024-10-07T00:44:25.667Z"
   },
   {
    "duration": 52,
    "start_time": "2024-10-07T00:44:25.932Z"
   },
   {
    "duration": 61,
    "start_time": "2024-10-07T00:44:25.986Z"
   },
   {
    "duration": 11,
    "start_time": "2024-10-07T00:44:26.049Z"
   },
   {
    "duration": 125,
    "start_time": "2024-10-07T00:44:26.062Z"
   },
   {
    "duration": 41,
    "start_time": "2024-10-07T00:44:26.189Z"
   },
   {
    "duration": 7,
    "start_time": "2024-10-07T00:44:26.232Z"
   },
   {
    "duration": 86,
    "start_time": "2024-10-07T00:44:26.242Z"
   },
   {
    "duration": 14,
    "start_time": "2024-10-07T00:44:39.870Z"
   },
   {
    "duration": 15,
    "start_time": "2024-10-07T00:48:45.713Z"
   },
   {
    "duration": 13,
    "start_time": "2024-10-07T02:59:07.790Z"
   },
   {
    "duration": 25,
    "start_time": "2024-10-07T02:59:13.140Z"
   },
   {
    "duration": 11197,
    "start_time": "2024-10-07T03:00:33.684Z"
   },
   {
    "duration": 15,
    "start_time": "2024-10-07T03:21:33.411Z"
   },
   {
    "duration": 585,
    "start_time": "2024-10-07T06:07:31.659Z"
   },
   {
    "duration": 16,
    "start_time": "2024-10-07T06:08:55.205Z"
   },
   {
    "duration": 3,
    "start_time": "2024-10-07T06:09:02.413Z"
   },
   {
    "duration": 15,
    "start_time": "2024-10-07T06:09:06.947Z"
   },
   {
    "duration": 56,
    "start_time": "2024-10-07T06:10:10.571Z"
   },
   {
    "duration": 5,
    "start_time": "2024-10-07T06:11:22.448Z"
   },
   {
    "duration": 20,
    "start_time": "2024-10-07T06:13:16.399Z"
   },
   {
    "duration": 13,
    "start_time": "2024-10-07T06:13:33.908Z"
   },
   {
    "duration": 3,
    "start_time": "2024-10-07T06:13:54.253Z"
   },
   {
    "duration": 15,
    "start_time": "2024-10-07T06:14:00.715Z"
   },
   {
    "duration": 52,
    "start_time": "2024-10-07T06:14:20.132Z"
   },
   {
    "duration": 45,
    "start_time": "2024-10-07T06:14:38.574Z"
   },
   {
    "duration": 52,
    "start_time": "2024-10-07T06:14:50.966Z"
   },
   {
    "duration": 6243,
    "start_time": "2024-10-07T06:21:22.096Z"
   },
   {
    "duration": 21,
    "start_time": "2024-10-07T06:29:25.110Z"
   },
   {
    "duration": 9,
    "start_time": "2024-10-07T06:29:31.446Z"
   },
   {
    "duration": 103,
    "start_time": "2024-10-07T06:29:33.311Z"
   },
   {
    "duration": 205,
    "start_time": "2024-10-07T06:29:43.448Z"
   },
   {
    "duration": 110,
    "start_time": "2024-10-07T06:39:57.698Z"
   },
   {
    "duration": 106,
    "start_time": "2024-10-07T06:40:12.080Z"
   },
   {
    "duration": 19,
    "start_time": "2024-10-07T06:40:16.656Z"
   },
   {
    "duration": 31971,
    "start_time": "2024-10-07T06:40:59.936Z"
   },
   {
    "duration": 3,
    "start_time": "2024-10-07T06:42:31.502Z"
   },
   {
    "duration": 4,
    "start_time": "2024-10-07T06:43:41.556Z"
   },
   {
    "duration": 155,
    "start_time": "2024-10-08T05:51:29.854Z"
   },
   {
    "duration": 2670,
    "start_time": "2024-10-08T05:51:46.619Z"
   },
   {
    "duration": 471,
    "start_time": "2024-10-08T05:51:49.292Z"
   },
   {
    "duration": 13,
    "start_time": "2024-10-08T05:51:49.765Z"
   },
   {
    "duration": 11,
    "start_time": "2024-10-08T05:51:49.780Z"
   },
   {
    "duration": 17,
    "start_time": "2024-10-08T05:51:49.805Z"
   },
   {
    "duration": 143,
    "start_time": "2024-10-08T05:51:49.824Z"
   },
   {
    "duration": 259,
    "start_time": "2024-10-08T05:51:49.970Z"
   },
   {
    "duration": 53,
    "start_time": "2024-10-08T05:51:50.231Z"
   },
   {
    "duration": 62,
    "start_time": "2024-10-08T05:51:50.287Z"
   },
   {
    "duration": 13,
    "start_time": "2024-10-08T05:51:50.350Z"
   },
   {
    "duration": 114,
    "start_time": "2024-10-08T05:51:50.365Z"
   },
   {
    "duration": 45,
    "start_time": "2024-10-08T05:51:50.481Z"
   },
   {
    "duration": 9,
    "start_time": "2024-10-08T05:51:50.528Z"
   },
   {
    "duration": 89,
    "start_time": "2024-10-08T05:51:50.540Z"
   },
   {
    "duration": 16,
    "start_time": "2024-10-08T05:51:50.631Z"
   },
   {
    "duration": 25,
    "start_time": "2024-10-08T05:51:50.650Z"
   },
   {
    "duration": 76,
    "start_time": "2024-10-08T05:51:50.676Z"
   },
   {
    "duration": 130,
    "start_time": "2024-10-08T05:51:50.754Z"
   },
   {
    "duration": 5,
    "start_time": "2024-10-08T05:51:50.885Z"
   },
   {
    "duration": 940,
    "start_time": "2024-10-08T05:51:50.892Z"
   },
   {
    "duration": 35,
    "start_time": "2024-10-08T05:53:19.065Z"
   },
   {
    "duration": 79,
    "start_time": "2024-10-08T05:53:44.487Z"
   },
   {
    "duration": 16,
    "start_time": "2024-10-08T06:03:01.220Z"
   },
   {
    "duration": 14,
    "start_time": "2024-10-08T06:03:10.720Z"
   },
   {
    "duration": 56,
    "start_time": "2024-10-08T06:03:23.663Z"
   },
   {
    "duration": 530,
    "start_time": "2024-10-08T06:03:25.479Z"
   },
   {
    "duration": 338,
    "start_time": "2024-10-08T06:05:39.846Z"
   },
   {
    "duration": 388,
    "start_time": "2024-10-08T06:07:05.240Z"
   },
   {
    "duration": 350,
    "start_time": "2024-10-08T06:08:47.806Z"
   },
   {
    "duration": 343,
    "start_time": "2024-10-08T06:08:53.823Z"
   },
   {
    "duration": 5735,
    "start_time": "2024-10-08T06:20:57.571Z"
   },
   {
    "duration": 3,
    "start_time": "2024-10-08T06:21:39.679Z"
   },
   {
    "duration": 5231,
    "start_time": "2024-10-08T06:21:46.788Z"
   },
   {
    "duration": 6,
    "start_time": "2024-10-08T06:34:26.039Z"
   },
   {
    "duration": 19,
    "start_time": "2024-10-08T06:34:46.665Z"
   },
   {
    "duration": 20,
    "start_time": "2024-10-08T06:34:51.201Z"
   },
   {
    "duration": 13,
    "start_time": "2024-10-08T06:36:30.009Z"
   },
   {
    "duration": 0,
    "start_time": "2024-10-08T06:42:34.195Z"
   },
   {
    "duration": 150,
    "start_time": "2024-10-08T06:43:00.505Z"
   },
   {
    "duration": 129,
    "start_time": "2024-10-08T06:43:10.170Z"
   },
   {
    "duration": 87661,
    "start_time": "2024-10-08T06:43:25.873Z"
   },
   {
    "duration": 19,
    "start_time": "2024-10-08T06:44:59.243Z"
   },
   {
    "duration": 4,
    "start_time": "2024-10-08T06:45:17.563Z"
   },
   {
    "duration": 3324,
    "start_time": "2024-10-08T06:45:26.281Z"
   },
   {
    "duration": 3459,
    "start_time": "2024-10-08T06:45:50.820Z"
   },
   {
    "duration": 2794,
    "start_time": "2024-10-09T02:50:35.988Z"
   },
   {
    "duration": 494,
    "start_time": "2024-10-09T02:50:38.784Z"
   },
   {
    "duration": 13,
    "start_time": "2024-10-09T02:50:39.280Z"
   },
   {
    "duration": 12,
    "start_time": "2024-10-09T02:50:39.296Z"
   },
   {
    "duration": 32,
    "start_time": "2024-10-09T02:50:39.310Z"
   },
   {
    "duration": 135,
    "start_time": "2024-10-09T02:50:39.344Z"
   },
   {
    "duration": 253,
    "start_time": "2024-10-09T02:50:39.481Z"
   },
   {
    "duration": 53,
    "start_time": "2024-10-09T02:50:39.736Z"
   },
   {
    "duration": 66,
    "start_time": "2024-10-09T02:50:39.791Z"
   },
   {
    "duration": 13,
    "start_time": "2024-10-09T02:50:39.861Z"
   },
   {
    "duration": 113,
    "start_time": "2024-10-09T02:50:39.876Z"
   },
   {
    "duration": 47,
    "start_time": "2024-10-09T02:50:39.991Z"
   },
   {
    "duration": 7,
    "start_time": "2024-10-09T02:50:40.040Z"
   },
   {
    "duration": 86,
    "start_time": "2024-10-09T02:50:40.050Z"
   },
   {
    "duration": 16,
    "start_time": "2024-10-09T02:50:40.138Z"
   },
   {
    "duration": 29,
    "start_time": "2024-10-09T02:50:40.156Z"
   },
   {
    "duration": 80,
    "start_time": "2024-10-09T02:50:40.187Z"
   },
   {
    "duration": 125,
    "start_time": "2024-10-09T02:50:40.269Z"
   },
   {
    "duration": 5,
    "start_time": "2024-10-09T02:50:40.395Z"
   },
   {
    "duration": 85,
    "start_time": "2024-10-09T02:50:40.402Z"
   },
   {
    "duration": 334,
    "start_time": "2024-10-09T02:50:40.489Z"
   },
   {
    "duration": 5908,
    "start_time": "2024-10-09T02:50:40.824Z"
   },
   {
    "duration": 154169,
    "start_time": "2024-10-09T02:50:46.734Z"
   },
   {
    "duration": 0,
    "start_time": "2024-10-09T02:53:20.905Z"
   },
   {
    "duration": 18,
    "start_time": "2024-10-09T02:53:45.999Z"
   },
   {
    "duration": 4,
    "start_time": "2024-10-09T02:54:36.400Z"
   },
   {
    "duration": 1722,
    "start_time": "2024-10-09T02:54:44.151Z"
   },
   {
    "duration": 4,
    "start_time": "2024-10-09T02:55:12.982Z"
   },
   {
    "duration": 597865,
    "start_time": "2024-10-09T02:55:21.907Z"
   },
   {
    "duration": 1145,
    "start_time": "2024-10-09T03:05:42.320Z"
   },
   {
    "duration": 523,
    "start_time": "2024-10-09T03:05:43.469Z"
   },
   {
    "duration": 15,
    "start_time": "2024-10-09T03:05:43.994Z"
   },
   {
    "duration": 20,
    "start_time": "2024-10-09T03:05:44.012Z"
   },
   {
    "duration": 15,
    "start_time": "2024-10-09T03:05:44.035Z"
   },
   {
    "duration": 147,
    "start_time": "2024-10-09T03:05:44.053Z"
   },
   {
    "duration": 282,
    "start_time": "2024-10-09T03:05:44.202Z"
   },
   {
    "duration": 62,
    "start_time": "2024-10-09T03:05:44.486Z"
   },
   {
    "duration": 52,
    "start_time": "2024-10-09T03:05:44.550Z"
   },
   {
    "duration": 32,
    "start_time": "2024-10-09T03:05:44.604Z"
   },
   {
    "duration": 113,
    "start_time": "2024-10-09T03:05:44.637Z"
   },
   {
    "duration": 56,
    "start_time": "2024-10-09T03:05:44.752Z"
   },
   {
    "duration": 23,
    "start_time": "2024-10-09T03:05:44.810Z"
   },
   {
    "duration": 84,
    "start_time": "2024-10-09T03:05:44.838Z"
   },
   {
    "duration": 18,
    "start_time": "2024-10-09T03:05:44.930Z"
   },
   {
    "duration": 29,
    "start_time": "2024-10-09T03:05:44.950Z"
   },
   {
    "duration": 98,
    "start_time": "2024-10-09T03:05:44.981Z"
   },
   {
    "duration": 131,
    "start_time": "2024-10-09T03:05:45.081Z"
   },
   {
    "duration": 3,
    "start_time": "2024-10-09T03:05:45.215Z"
   },
   {
    "duration": 93,
    "start_time": "2024-10-09T03:05:45.220Z"
   },
   {
    "duration": 383,
    "start_time": "2024-10-09T03:05:45.315Z"
   },
   {
    "duration": 6839,
    "start_time": "2024-10-09T03:05:45.699Z"
   },
   {
    "duration": 0,
    "start_time": "2024-10-09T03:05:52.540Z"
   },
   {
    "duration": 0,
    "start_time": "2024-10-09T03:05:52.541Z"
   },
   {
    "duration": 5940,
    "start_time": "2024-10-09T03:05:57.797Z"
   },
   {
    "duration": 3681,
    "start_time": "2024-10-09T03:06:08.252Z"
   },
   {
    "duration": 35573,
    "start_time": "2024-10-09T03:07:47.005Z"
   },
   {
    "duration": 128561,
    "start_time": "2024-10-09T03:08:52.882Z"
   },
   {
    "duration": 529,
    "start_time": "2024-10-09T03:12:13.233Z"
   },
   {
    "duration": 128164,
    "start_time": "2024-10-09T03:13:17.040Z"
   },
   {
    "duration": 127407,
    "start_time": "2024-10-09T03:18:22.383Z"
   },
   {
    "duration": 125990,
    "start_time": "2024-10-09T03:20:55.943Z"
   },
   {
    "duration": 125672,
    "start_time": "2024-10-09T03:23:20.131Z"
   },
   {
    "duration": 5,
    "start_time": "2024-10-09T03:26:41.057Z"
   },
   {
    "duration": 28,
    "start_time": "2024-10-09T03:26:43.529Z"
   },
   {
    "duration": 180,
    "start_time": "2024-10-09T03:26:52.917Z"
   },
   {
    "duration": 7,
    "start_time": "2024-10-09T03:27:16.474Z"
   },
   {
    "duration": 66,
    "start_time": "2024-10-09T03:27:26.809Z"
   },
   {
    "duration": 54,
    "start_time": "2024-10-09T03:27:41.499Z"
   },
   {
    "duration": 1230,
    "start_time": "2024-10-09T03:30:50.150Z"
   },
   {
    "duration": 425,
    "start_time": "2024-10-09T03:30:51.383Z"
   },
   {
    "duration": 22,
    "start_time": "2024-10-09T03:30:51.810Z"
   },
   {
    "duration": 13,
    "start_time": "2024-10-09T03:30:51.834Z"
   },
   {
    "duration": 12,
    "start_time": "2024-10-09T03:30:51.850Z"
   },
   {
    "duration": 161,
    "start_time": "2024-10-09T03:30:51.864Z"
   },
   {
    "duration": 322,
    "start_time": "2024-10-09T03:30:52.027Z"
   },
   {
    "duration": 55,
    "start_time": "2024-10-09T03:30:52.351Z"
   },
   {
    "duration": 59,
    "start_time": "2024-10-09T03:30:52.407Z"
   },
   {
    "duration": 12,
    "start_time": "2024-10-09T03:30:52.468Z"
   },
   {
    "duration": 160,
    "start_time": "2024-10-09T03:30:52.483Z"
   },
   {
    "duration": 57,
    "start_time": "2024-10-09T03:30:52.645Z"
   },
   {
    "duration": 11,
    "start_time": "2024-10-09T03:30:52.705Z"
   },
   {
    "duration": 108,
    "start_time": "2024-10-09T03:30:52.735Z"
   },
   {
    "duration": 21,
    "start_time": "2024-10-09T03:30:52.845Z"
   },
   {
    "duration": 33,
    "start_time": "2024-10-09T03:30:52.870Z"
   },
   {
    "duration": 95,
    "start_time": "2024-10-09T03:30:52.905Z"
   },
   {
    "duration": 136,
    "start_time": "2024-10-09T03:30:53.002Z"
   },
   {
    "duration": 5,
    "start_time": "2024-10-09T03:30:53.143Z"
   },
   {
    "duration": 7,
    "start_time": "2024-10-09T03:30:53.149Z"
   },
   {
    "duration": 37,
    "start_time": "2024-10-09T03:30:53.158Z"
   },
   {
    "duration": 474,
    "start_time": "2024-10-09T03:30:53.197Z"
   },
   {
    "duration": 0,
    "start_time": "2024-10-09T03:30:53.673Z"
   },
   {
    "duration": 0,
    "start_time": "2024-10-09T03:30:53.675Z"
   },
   {
    "duration": 1214,
    "start_time": "2024-10-09T03:31:33.079Z"
   },
   {
    "duration": 441,
    "start_time": "2024-10-09T03:31:34.296Z"
   },
   {
    "duration": 17,
    "start_time": "2024-10-09T03:31:34.739Z"
   },
   {
    "duration": 12,
    "start_time": "2024-10-09T03:31:34.758Z"
   },
   {
    "duration": 14,
    "start_time": "2024-10-09T03:31:34.773Z"
   },
   {
    "duration": 174,
    "start_time": "2024-10-09T03:31:34.789Z"
   },
   {
    "duration": 261,
    "start_time": "2024-10-09T03:31:34.966Z"
   },
   {
    "duration": 55,
    "start_time": "2024-10-09T03:31:35.231Z"
   },
   {
    "duration": 60,
    "start_time": "2024-10-09T03:31:35.288Z"
   },
   {
    "duration": 14,
    "start_time": "2024-10-09T03:31:35.350Z"
   },
   {
    "duration": 137,
    "start_time": "2024-10-09T03:31:35.366Z"
   },
   {
    "duration": 53,
    "start_time": "2024-10-09T03:31:35.505Z"
   },
   {
    "duration": 9,
    "start_time": "2024-10-09T03:31:35.560Z"
   },
   {
    "duration": 94,
    "start_time": "2024-10-09T03:31:35.573Z"
   },
   {
    "duration": 19,
    "start_time": "2024-10-09T03:31:35.668Z"
   },
   {
    "duration": 45,
    "start_time": "2024-10-09T03:31:35.689Z"
   },
   {
    "duration": 58,
    "start_time": "2024-10-09T03:31:35.735Z"
   },
   {
    "duration": 138,
    "start_time": "2024-10-09T03:31:35.795Z"
   },
   {
    "duration": 4,
    "start_time": "2024-10-09T03:31:35.935Z"
   },
   {
    "duration": 101,
    "start_time": "2024-10-09T03:31:35.941Z"
   },
   {
    "duration": 350,
    "start_time": "2024-10-09T03:31:36.044Z"
   },
   {
    "duration": 8039,
    "start_time": "2024-10-09T03:31:36.396Z"
   },
   {
    "duration": 125779,
    "start_time": "2024-10-09T03:31:44.439Z"
   },
   {
    "duration": 4512,
    "start_time": "2024-10-09T03:33:50.228Z"
   },
   {
    "duration": 126705,
    "start_time": "2024-10-09T03:34:18.586Z"
   },
   {
    "duration": 2838,
    "start_time": "2024-10-09T04:55:35.832Z"
   },
   {
    "duration": 566,
    "start_time": "2024-10-09T04:55:38.672Z"
   },
   {
    "duration": 18,
    "start_time": "2024-10-09T04:55:39.240Z"
   },
   {
    "duration": 11,
    "start_time": "2024-10-09T04:55:39.259Z"
   },
   {
    "duration": 14,
    "start_time": "2024-10-09T04:55:39.273Z"
   },
   {
    "duration": 180,
    "start_time": "2024-10-09T04:55:39.288Z"
   },
   {
    "duration": 255,
    "start_time": "2024-10-09T04:55:39.470Z"
   },
   {
    "duration": 82,
    "start_time": "2024-10-09T04:55:39.726Z"
   },
   {
    "duration": 62,
    "start_time": "2024-10-09T04:55:39.810Z"
   },
   {
    "duration": 12,
    "start_time": "2024-10-09T04:55:39.874Z"
   },
   {
    "duration": 113,
    "start_time": "2024-10-09T04:55:39.887Z"
   },
   {
    "duration": 64,
    "start_time": "2024-10-09T04:55:40.003Z"
   },
   {
    "duration": 8,
    "start_time": "2024-10-09T04:55:40.069Z"
   },
   {
    "duration": 84,
    "start_time": "2024-10-09T04:55:40.079Z"
   },
   {
    "duration": 16,
    "start_time": "2024-10-09T04:55:40.165Z"
   },
   {
    "duration": 28,
    "start_time": "2024-10-09T04:55:40.182Z"
   },
   {
    "duration": 51,
    "start_time": "2024-10-09T04:55:40.224Z"
   },
   {
    "duration": 122,
    "start_time": "2024-10-09T04:55:40.277Z"
   },
   {
    "duration": 4,
    "start_time": "2024-10-09T04:55:40.401Z"
   },
   {
    "duration": 90,
    "start_time": "2024-10-09T04:55:40.407Z"
   },
   {
    "duration": 369,
    "start_time": "2024-10-09T04:55:40.499Z"
   },
   {
    "duration": 6355,
    "start_time": "2024-10-09T04:55:40.870Z"
   },
   {
    "duration": 113248,
    "start_time": "2024-10-09T04:55:47.229Z"
   },
   {
    "duration": 3281,
    "start_time": "2024-10-09T04:57:40.480Z"
   },
   {
    "duration": 39590,
    "start_time": "2024-10-09T04:59:05.310Z"
   },
   {
    "duration": 21992,
    "start_time": "2024-10-09T05:00:09.832Z"
   },
   {
    "duration": 32089,
    "start_time": "2024-10-09T05:00:53.802Z"
   },
   {
    "duration": 33948,
    "start_time": "2024-10-09T05:02:17.357Z"
   },
   {
    "duration": 27522,
    "start_time": "2024-10-09T05:03:42.813Z"
   },
   {
    "duration": 14531,
    "start_time": "2024-10-09T05:05:12.070Z"
   },
   {
    "duration": 13121,
    "start_time": "2024-10-09T05:06:20.744Z"
   },
   {
    "duration": 23771,
    "start_time": "2024-10-09T05:09:03.099Z"
   },
   {
    "duration": 36820,
    "start_time": "2024-10-09T05:09:53.980Z"
   },
   {
    "duration": 17072,
    "start_time": "2024-10-09T05:10:52.567Z"
   },
   {
    "duration": 25559,
    "start_time": "2024-10-09T05:11:28.695Z"
   },
   {
    "duration": 25328,
    "start_time": "2024-10-09T05:13:20.500Z"
   },
   {
    "duration": 113186,
    "start_time": "2024-10-09T05:55:54.321Z"
   },
   {
    "duration": 113301,
    "start_time": "2024-10-09T05:58:16.858Z"
   },
   {
    "duration": 113045,
    "start_time": "2024-10-09T06:00:41.309Z"
   },
   {
    "duration": 113909,
    "start_time": "2024-10-09T06:03:01.319Z"
   },
   {
    "duration": 113317,
    "start_time": "2024-10-09T06:05:34.275Z"
   },
   {
    "duration": 25718,
    "start_time": "2024-10-09T06:08:07.728Z"
   },
   {
    "duration": 25171,
    "start_time": "2024-10-09T06:08:36.227Z"
   },
   {
    "duration": 56596,
    "start_time": "2024-10-09T06:09:17.463Z"
   },
   {
    "duration": 1006,
    "start_time": "2024-10-09T06:10:41.690Z"
   },
   {
    "duration": 467,
    "start_time": "2024-10-09T06:10:42.698Z"
   },
   {
    "duration": 14,
    "start_time": "2024-10-09T06:10:43.167Z"
   },
   {
    "duration": 10,
    "start_time": "2024-10-09T06:10:43.183Z"
   },
   {
    "duration": 10,
    "start_time": "2024-10-09T06:10:43.195Z"
   },
   {
    "duration": 144,
    "start_time": "2024-10-09T06:10:43.206Z"
   },
   {
    "duration": 246,
    "start_time": "2024-10-09T06:10:43.351Z"
   },
   {
    "duration": 55,
    "start_time": "2024-10-09T06:10:43.599Z"
   },
   {
    "duration": 49,
    "start_time": "2024-10-09T06:10:43.656Z"
   },
   {
    "duration": 11,
    "start_time": "2024-10-09T06:10:43.723Z"
   },
   {
    "duration": 107,
    "start_time": "2024-10-09T06:10:43.736Z"
   },
   {
    "duration": 46,
    "start_time": "2024-10-09T06:10:43.845Z"
   },
   {
    "duration": 10,
    "start_time": "2024-10-09T06:10:43.892Z"
   },
   {
    "duration": 80,
    "start_time": "2024-10-09T06:10:43.904Z"
   },
   {
    "duration": 18,
    "start_time": "2024-10-09T06:10:43.985Z"
   },
   {
    "duration": 38,
    "start_time": "2024-10-09T06:10:44.005Z"
   },
   {
    "duration": 53,
    "start_time": "2024-10-09T06:10:44.044Z"
   },
   {
    "duration": 126,
    "start_time": "2024-10-09T06:10:44.098Z"
   },
   {
    "duration": 4,
    "start_time": "2024-10-09T06:10:44.225Z"
   },
   {
    "duration": 94,
    "start_time": "2024-10-09T06:10:44.231Z"
   },
   {
    "duration": 328,
    "start_time": "2024-10-09T06:10:44.327Z"
   },
   {
    "duration": 5283,
    "start_time": "2024-10-09T06:10:44.657Z"
   },
   {
    "duration": 2010,
    "start_time": "2024-10-09T06:10:49.943Z"
   },
   {
    "duration": 0,
    "start_time": "2024-10-09T06:10:51.955Z"
   },
   {
    "duration": 1683,
    "start_time": "2024-10-09T06:11:35.387Z"
   },
   {
    "duration": 113303,
    "start_time": "2024-10-09T06:11:50.217Z"
   },
   {
    "duration": 6,
    "start_time": "2024-10-09T06:16:05.898Z"
   },
   {
    "duration": 4,
    "start_time": "2024-10-09T06:17:59.896Z"
   },
   {
    "duration": 327,
    "start_time": "2024-10-09T06:19:19.265Z"
   },
   {
    "duration": 188,
    "start_time": "2024-10-09T06:19:43.576Z"
   },
   {
    "duration": 962,
    "start_time": "2024-10-09T06:19:59.734Z"
   },
   {
    "duration": 405,
    "start_time": "2024-10-09T06:20:00.698Z"
   },
   {
    "duration": 19,
    "start_time": "2024-10-09T06:20:01.105Z"
   },
   {
    "duration": 10,
    "start_time": "2024-10-09T06:20:01.126Z"
   },
   {
    "duration": 15,
    "start_time": "2024-10-09T06:20:01.139Z"
   },
   {
    "duration": 148,
    "start_time": "2024-10-09T06:20:01.156Z"
   },
   {
    "duration": 264,
    "start_time": "2024-10-09T06:20:01.305Z"
   },
   {
    "duration": 61,
    "start_time": "2024-10-09T06:20:01.570Z"
   },
   {
    "duration": 48,
    "start_time": "2024-10-09T06:20:01.633Z"
   },
   {
    "duration": 11,
    "start_time": "2024-10-09T06:20:01.683Z"
   },
   {
    "duration": 114,
    "start_time": "2024-10-09T06:20:01.696Z"
   },
   {
    "duration": 45,
    "start_time": "2024-10-09T06:20:01.812Z"
   },
   {
    "duration": 8,
    "start_time": "2024-10-09T06:20:01.858Z"
   },
   {
    "duration": 86,
    "start_time": "2024-10-09T06:20:01.869Z"
   },
   {
    "duration": 17,
    "start_time": "2024-10-09T06:20:01.957Z"
   },
   {
    "duration": 25,
    "start_time": "2024-10-09T06:20:01.976Z"
   },
   {
    "duration": 72,
    "start_time": "2024-10-09T06:20:02.003Z"
   },
   {
    "duration": 120,
    "start_time": "2024-10-09T06:20:02.077Z"
   },
   {
    "duration": 4,
    "start_time": "2024-10-09T06:20:02.199Z"
   },
   {
    "duration": 94,
    "start_time": "2024-10-09T06:20:02.205Z"
   },
   {
    "duration": 4,
    "start_time": "2024-10-09T06:20:02.301Z"
   },
   {
    "duration": 339,
    "start_time": "2024-10-09T06:20:02.307Z"
   },
   {
    "duration": 5276,
    "start_time": "2024-10-09T06:20:02.648Z"
   },
   {
    "duration": 461,
    "start_time": "2024-10-09T06:20:07.927Z"
   },
   {
    "duration": 0,
    "start_time": "2024-10-09T06:20:08.390Z"
   },
   {
    "duration": 26262,
    "start_time": "2024-10-09T06:21:09.314Z"
   },
   {
    "duration": 27839,
    "start_time": "2024-10-09T06:22:20.793Z"
   },
   {
    "duration": 133,
    "start_time": "2024-10-09T06:22:57.175Z"
   },
   {
    "duration": 68173,
    "start_time": "2024-10-09T06:23:17.283Z"
   },
   {
    "duration": 26525,
    "start_time": "2024-10-09T06:25:42.195Z"
   },
   {
    "duration": 5,
    "start_time": "2024-10-09T06:26:51.680Z"
   },
   {
    "duration": 5,
    "start_time": "2024-10-09T06:27:00.842Z"
   },
   {
    "duration": 5,
    "start_time": "2024-10-09T06:27:25.761Z"
   },
   {
    "duration": 6,
    "start_time": "2024-10-09T06:27:42.546Z"
   },
   {
    "duration": 136,
    "start_time": "2024-10-09T06:27:47.917Z"
   },
   {
    "duration": 107,
    "start_time": "2024-10-09T06:30:51.616Z"
   },
   {
    "duration": 3,
    "start_time": "2024-10-09T06:30:53.016Z"
   },
   {
    "duration": 73,
    "start_time": "2024-10-09T06:30:54.184Z"
   },
   {
    "duration": 4,
    "start_time": "2024-10-09T06:30:55.672Z"
   },
   {
    "duration": 325,
    "start_time": "2024-10-09T06:30:57.058Z"
   },
   {
    "duration": 16,
    "start_time": "2024-10-09T06:31:26.712Z"
   },
   {
    "duration": 14,
    "start_time": "2024-10-09T06:31:31.832Z"
   },
   {
    "duration": 131,
    "start_time": "2024-10-09T06:32:20.456Z"
   },
   {
    "duration": 12,
    "start_time": "2024-10-09T06:32:51.608Z"
   },
   {
    "duration": 13,
    "start_time": "2024-10-09T06:33:01.776Z"
   },
   {
    "duration": 12,
    "start_time": "2024-10-09T06:33:08.199Z"
   },
   {
    "duration": 13,
    "start_time": "2024-10-09T06:33:41.840Z"
   },
   {
    "duration": 3,
    "start_time": "2024-10-09T06:33:55.859Z"
   },
   {
    "duration": 66,
    "start_time": "2024-10-09T06:34:01.552Z"
   },
   {
    "duration": 1022,
    "start_time": "2024-10-09T06:34:08.066Z"
   },
   {
    "duration": 397,
    "start_time": "2024-10-09T06:34:09.090Z"
   },
   {
    "duration": 13,
    "start_time": "2024-10-09T06:34:09.489Z"
   },
   {
    "duration": 21,
    "start_time": "2024-10-09T06:34:09.504Z"
   },
   {
    "duration": 15,
    "start_time": "2024-10-09T06:34:09.527Z"
   },
   {
    "duration": 138,
    "start_time": "2024-10-09T06:34:09.544Z"
   },
   {
    "duration": 253,
    "start_time": "2024-10-09T06:34:09.684Z"
   },
   {
    "duration": 50,
    "start_time": "2024-10-09T06:34:09.939Z"
   },
   {
    "duration": 61,
    "start_time": "2024-10-09T06:34:09.991Z"
   },
   {
    "duration": 11,
    "start_time": "2024-10-09T06:34:10.054Z"
   },
   {
    "duration": 112,
    "start_time": "2024-10-09T06:34:10.066Z"
   },
   {
    "duration": 45,
    "start_time": "2024-10-09T06:34:10.180Z"
   },
   {
    "duration": 10,
    "start_time": "2024-10-09T06:34:10.226Z"
   },
   {
    "duration": 69,
    "start_time": "2024-10-09T06:34:10.239Z"
   },
   {
    "duration": 28,
    "start_time": "2024-10-09T06:34:10.309Z"
   },
   {
    "duration": 24,
    "start_time": "2024-10-09T06:34:10.339Z"
   },
   {
    "duration": 74,
    "start_time": "2024-10-09T06:34:10.365Z"
   },
   {
    "duration": 113,
    "start_time": "2024-10-09T06:34:10.441Z"
   },
   {
    "duration": 4,
    "start_time": "2024-10-09T06:34:10.555Z"
   },
   {
    "duration": 92,
    "start_time": "2024-10-09T06:34:10.560Z"
   },
   {
    "duration": 4,
    "start_time": "2024-10-09T06:34:10.653Z"
   },
   {
    "duration": 331,
    "start_time": "2024-10-09T06:34:10.659Z"
   },
   {
    "duration": 285,
    "start_time": "2024-10-09T06:34:10.992Z"
   },
   {
    "duration": 0,
    "start_time": "2024-10-09T06:34:11.279Z"
   },
   {
    "duration": 0,
    "start_time": "2024-10-09T06:34:11.280Z"
   },
   {
    "duration": 0,
    "start_time": "2024-10-09T06:34:11.282Z"
   },
   {
    "duration": 5218,
    "start_time": "2024-10-09T06:38:12.935Z"
   },
   {
    "duration": 191,
    "start_time": "2024-10-09T06:38:34.252Z"
   },
   {
    "duration": 133,
    "start_time": "2024-10-09T06:38:50.459Z"
   },
   {
    "duration": 981,
    "start_time": "2024-10-09T06:42:51.367Z"
   },
   {
    "duration": 402,
    "start_time": "2024-10-09T06:42:52.350Z"
   },
   {
    "duration": 13,
    "start_time": "2024-10-09T06:42:52.753Z"
   },
   {
    "duration": 10,
    "start_time": "2024-10-09T06:42:52.768Z"
   },
   {
    "duration": 15,
    "start_time": "2024-10-09T06:42:52.780Z"
   },
   {
    "duration": 147,
    "start_time": "2024-10-09T06:42:52.797Z"
   },
   {
    "duration": 259,
    "start_time": "2024-10-09T06:42:52.946Z"
   },
   {
    "duration": 55,
    "start_time": "2024-10-09T06:42:53.207Z"
   },
   {
    "duration": 63,
    "start_time": "2024-10-09T06:42:53.263Z"
   },
   {
    "duration": 11,
    "start_time": "2024-10-09T06:42:53.329Z"
   },
   {
    "duration": 106,
    "start_time": "2024-10-09T06:42:53.342Z"
   },
   {
    "duration": 40,
    "start_time": "2024-10-09T06:42:53.449Z"
   },
   {
    "duration": 8,
    "start_time": "2024-10-09T06:42:53.491Z"
   },
   {
    "duration": 88,
    "start_time": "2024-10-09T06:42:53.501Z"
   },
   {
    "duration": 15,
    "start_time": "2024-10-09T06:42:53.591Z"
   },
   {
    "duration": 33,
    "start_time": "2024-10-09T06:42:53.608Z"
   },
   {
    "duration": 52,
    "start_time": "2024-10-09T06:42:53.643Z"
   },
   {
    "duration": 124,
    "start_time": "2024-10-09T06:42:53.697Z"
   },
   {
    "duration": 4,
    "start_time": "2024-10-09T06:42:53.823Z"
   },
   {
    "duration": 82,
    "start_time": "2024-10-09T06:42:53.828Z"
   },
   {
    "duration": 15,
    "start_time": "2024-10-09T06:42:53.911Z"
   },
   {
    "duration": 338,
    "start_time": "2024-10-09T06:42:53.928Z"
   },
   {
    "duration": 5166,
    "start_time": "2024-10-09T06:42:54.267Z"
   },
   {
    "duration": 4,
    "start_time": "2024-10-09T06:42:59.435Z"
   },
   {
    "duration": 0,
    "start_time": "2024-10-09T06:42:59.441Z"
   },
   {
    "duration": 400,
    "start_time": "2024-10-09T06:43:07.757Z"
   },
   {
    "duration": 343,
    "start_time": "2024-10-09T06:43:37.529Z"
   },
   {
    "duration": 5306,
    "start_time": "2024-10-09T06:43:40.538Z"
   },
   {
    "duration": 1687,
    "start_time": "2024-10-09T06:43:49.013Z"
   },
   {
    "duration": 113781,
    "start_time": "2024-10-09T06:44:16.653Z"
   },
   {
    "duration": 113645,
    "start_time": "2024-10-09T06:46:17.321Z"
   },
   {
    "duration": 113780,
    "start_time": "2024-10-09T06:49:00.203Z"
   },
   {
    "duration": 14,
    "start_time": "2024-10-09T06:51:25.706Z"
   },
   {
    "duration": 14,
    "start_time": "2024-10-09T06:51:40.176Z"
   },
   {
    "duration": 5,
    "start_time": "2024-10-09T06:51:49.248Z"
   },
   {
    "duration": 327,
    "start_time": "2024-10-09T06:52:14.192Z"
   },
   {
    "duration": 4,
    "start_time": "2024-10-09T06:52:17.496Z"
   },
   {
    "duration": 138,
    "start_time": "2024-10-09T06:54:33.800Z"
   },
   {
    "duration": 325,
    "start_time": "2024-10-09T06:54:54.672Z"
   },
   {
    "duration": 4,
    "start_time": "2024-10-09T06:54:56.857Z"
   },
   {
    "duration": 5358,
    "start_time": "2024-10-09T06:55:05.672Z"
   },
   {
    "duration": 112169,
    "start_time": "2024-10-09T06:56:42.321Z"
   },
   {
    "duration": 26448,
    "start_time": "2024-10-09T07:07:57.897Z"
   },
   {
    "duration": 2751,
    "start_time": "2024-10-10T04:12:07.559Z"
   },
   {
    "duration": 518,
    "start_time": "2024-10-10T04:12:10.314Z"
   },
   {
    "duration": 19,
    "start_time": "2024-10-10T04:12:10.834Z"
   },
   {
    "duration": 11,
    "start_time": "2024-10-10T04:12:10.857Z"
   },
   {
    "duration": 15,
    "start_time": "2024-10-10T04:12:10.870Z"
   },
   {
    "duration": 144,
    "start_time": "2024-10-10T04:12:10.887Z"
   },
   {
    "duration": 265,
    "start_time": "2024-10-10T04:12:11.033Z"
   },
   {
    "duration": 56,
    "start_time": "2024-10-10T04:12:11.299Z"
   },
   {
    "duration": 50,
    "start_time": "2024-10-10T04:12:11.357Z"
   },
   {
    "duration": 11,
    "start_time": "2024-10-10T04:12:11.410Z"
   },
   {
    "duration": 121,
    "start_time": "2024-10-10T04:12:11.423Z"
   },
   {
    "duration": 42,
    "start_time": "2024-10-10T04:12:11.546Z"
   },
   {
    "duration": 8,
    "start_time": "2024-10-10T04:12:11.589Z"
   },
   {
    "duration": 96,
    "start_time": "2024-10-10T04:12:11.599Z"
   },
   {
    "duration": 14,
    "start_time": "2024-10-10T04:12:11.697Z"
   },
   {
    "duration": 38,
    "start_time": "2024-10-10T04:12:11.714Z"
   },
   {
    "duration": 53,
    "start_time": "2024-10-10T04:12:11.754Z"
   },
   {
    "duration": 136,
    "start_time": "2024-10-10T04:12:11.809Z"
   },
   {
    "duration": 4,
    "start_time": "2024-10-10T04:12:11.947Z"
   },
   {
    "duration": 92,
    "start_time": "2024-10-10T04:12:11.953Z"
   },
   {
    "duration": 4,
    "start_time": "2024-10-10T04:12:12.047Z"
   },
   {
    "duration": 338,
    "start_time": "2024-10-10T04:12:12.052Z"
   },
   {
    "duration": 5752,
    "start_time": "2024-10-10T04:12:12.392Z"
   },
   {
    "duration": 116315,
    "start_time": "2024-10-10T04:12:18.146Z"
   },
   {
    "duration": 0,
    "start_time": "2024-10-10T04:14:14.463Z"
   },
   {
    "duration": 0,
    "start_time": "2024-10-10T04:14:14.464Z"
   },
   {
    "duration": 14,
    "start_time": "2024-10-10T04:23:39.901Z"
   },
   {
    "duration": 1051,
    "start_time": "2024-10-10T04:23:47.048Z"
   },
   {
    "duration": 406,
    "start_time": "2024-10-10T04:23:48.101Z"
   },
   {
    "duration": 13,
    "start_time": "2024-10-10T04:23:48.509Z"
   },
   {
    "duration": 19,
    "start_time": "2024-10-10T04:23:48.525Z"
   },
   {
    "duration": 10,
    "start_time": "2024-10-10T04:23:48.546Z"
   },
   {
    "duration": 142,
    "start_time": "2024-10-10T04:23:48.558Z"
   },
   {
    "duration": 254,
    "start_time": "2024-10-10T04:23:48.702Z"
   },
   {
    "duration": 54,
    "start_time": "2024-10-10T04:23:48.958Z"
   },
   {
    "duration": 62,
    "start_time": "2024-10-10T04:23:49.014Z"
   },
   {
    "duration": 13,
    "start_time": "2024-10-10T04:23:49.082Z"
   },
   {
    "duration": 120,
    "start_time": "2024-10-10T04:23:49.097Z"
   },
   {
    "duration": 51,
    "start_time": "2024-10-10T04:23:49.218Z"
   },
   {
    "duration": 8,
    "start_time": "2024-10-10T04:23:49.270Z"
   },
   {
    "duration": 87,
    "start_time": "2024-10-10T04:23:49.280Z"
   },
   {
    "duration": 14,
    "start_time": "2024-10-10T04:23:49.369Z"
   },
   {
    "duration": 26,
    "start_time": "2024-10-10T04:23:49.385Z"
   },
   {
    "duration": 243,
    "start_time": "2024-10-10T04:23:49.413Z"
   },
   {
    "duration": 0,
    "start_time": "2024-10-10T04:23:49.657Z"
   },
   {
    "duration": 0,
    "start_time": "2024-10-10T04:23:49.659Z"
   },
   {
    "duration": 0,
    "start_time": "2024-10-10T04:23:49.660Z"
   },
   {
    "duration": 0,
    "start_time": "2024-10-10T04:23:49.661Z"
   },
   {
    "duration": 0,
    "start_time": "2024-10-10T04:23:49.662Z"
   },
   {
    "duration": 0,
    "start_time": "2024-10-10T04:23:49.664Z"
   },
   {
    "duration": 0,
    "start_time": "2024-10-10T04:23:49.666Z"
   },
   {
    "duration": 0,
    "start_time": "2024-10-10T04:23:49.667Z"
   },
   {
    "duration": 0,
    "start_time": "2024-10-10T04:23:49.667Z"
   },
   {
    "duration": 0,
    "start_time": "2024-10-10T04:23:49.669Z"
   },
   {
    "duration": 0,
    "start_time": "2024-10-10T04:23:49.670Z"
   },
   {
    "duration": 8,
    "start_time": "2024-10-10T04:25:29.427Z"
   },
   {
    "duration": 181,
    "start_time": "2024-10-10T04:29:21.076Z"
   },
   {
    "duration": 7,
    "start_time": "2024-10-10T04:32:28.605Z"
   },
   {
    "duration": 7,
    "start_time": "2024-10-10T04:32:45.681Z"
   },
   {
    "duration": 22,
    "start_time": "2024-10-10T04:33:19.650Z"
   },
   {
    "duration": 104,
    "start_time": "2024-10-10T04:36:00.049Z"
   },
   {
    "duration": 378,
    "start_time": "2024-10-10T04:38:22.091Z"
   },
   {
    "duration": 88,
    "start_time": "2024-10-10T04:38:52.770Z"
   },
   {
    "duration": 62,
    "start_time": "2024-10-10T04:40:11.540Z"
   },
   {
    "duration": 54,
    "start_time": "2024-10-10T04:40:26.827Z"
   },
   {
    "duration": 54,
    "start_time": "2024-10-10T04:40:34.112Z"
   },
   {
    "duration": 54,
    "start_time": "2024-10-10T04:40:38.435Z"
   },
   {
    "duration": 19,
    "start_time": "2024-10-10T04:40:48.249Z"
   },
   {
    "duration": 1037,
    "start_time": "2024-10-10T04:41:03.989Z"
   },
   {
    "duration": 418,
    "start_time": "2024-10-10T04:41:05.028Z"
   },
   {
    "duration": 15,
    "start_time": "2024-10-10T04:41:05.447Z"
   },
   {
    "duration": 11,
    "start_time": "2024-10-10T04:41:05.464Z"
   },
   {
    "duration": 15,
    "start_time": "2024-10-10T04:41:05.477Z"
   },
   {
    "duration": 149,
    "start_time": "2024-10-10T04:41:05.494Z"
   },
   {
    "duration": 258,
    "start_time": "2024-10-10T04:41:05.645Z"
   },
   {
    "duration": 56,
    "start_time": "2024-10-10T04:41:05.905Z"
   },
   {
    "duration": 49,
    "start_time": "2024-10-10T04:41:05.964Z"
   },
   {
    "duration": 11,
    "start_time": "2024-10-10T04:41:06.016Z"
   },
   {
    "duration": 119,
    "start_time": "2024-10-10T04:41:06.043Z"
   },
   {
    "duration": 41,
    "start_time": "2024-10-10T04:41:06.164Z"
   },
   {
    "duration": 8,
    "start_time": "2024-10-10T04:41:06.206Z"
   },
   {
    "duration": 89,
    "start_time": "2024-10-10T04:41:06.216Z"
   },
   {
    "duration": 18,
    "start_time": "2024-10-10T04:41:06.306Z"
   },
   {
    "duration": 43,
    "start_time": "2024-10-10T04:41:06.325Z"
   },
   {
    "duration": 7,
    "start_time": "2024-10-10T04:41:06.370Z"
   },
   {
    "duration": 7,
    "start_time": "2024-10-10T04:41:06.378Z"
   },
   {
    "duration": 250,
    "start_time": "2024-10-10T04:41:06.386Z"
   },
   {
    "duration": 0,
    "start_time": "2024-10-10T04:41:06.637Z"
   },
   {
    "duration": 0,
    "start_time": "2024-10-10T04:41:06.643Z"
   },
   {
    "duration": 0,
    "start_time": "2024-10-10T04:41:06.644Z"
   },
   {
    "duration": 0,
    "start_time": "2024-10-10T04:41:06.645Z"
   },
   {
    "duration": 0,
    "start_time": "2024-10-10T04:41:06.646Z"
   },
   {
    "duration": 0,
    "start_time": "2024-10-10T04:41:06.648Z"
   },
   {
    "duration": 0,
    "start_time": "2024-10-10T04:41:06.650Z"
   },
   {
    "duration": 0,
    "start_time": "2024-10-10T04:41:06.651Z"
   },
   {
    "duration": 0,
    "start_time": "2024-10-10T04:41:06.652Z"
   },
   {
    "duration": 0,
    "start_time": "2024-10-10T04:41:06.654Z"
   },
   {
    "duration": 1,
    "start_time": "2024-10-10T04:41:06.654Z"
   },
   {
    "duration": 395,
    "start_time": "2024-10-10T04:41:20.396Z"
   },
   {
    "duration": 4,
    "start_time": "2024-10-10T04:41:35.339Z"
   },
   {
    "duration": 1081,
    "start_time": "2024-10-10T04:42:19.258Z"
   },
   {
    "duration": 402,
    "start_time": "2024-10-10T04:42:22.802Z"
   },
   {
    "duration": 15,
    "start_time": "2024-10-10T04:42:24.837Z"
   },
   {
    "duration": 10,
    "start_time": "2024-10-10T04:42:27.195Z"
   },
   {
    "duration": 14,
    "start_time": "2024-10-10T04:42:29.508Z"
   },
   {
    "duration": 128,
    "start_time": "2024-10-10T04:42:31.816Z"
   },
   {
    "duration": 246,
    "start_time": "2024-10-10T04:42:33.348Z"
   },
   {
    "duration": 55,
    "start_time": "2024-10-10T04:42:34.820Z"
   },
   {
    "duration": 50,
    "start_time": "2024-10-10T04:42:37.708Z"
   },
   {
    "duration": 11,
    "start_time": "2024-10-10T04:42:43.140Z"
   },
   {
    "duration": 104,
    "start_time": "2024-10-10T04:42:45.017Z"
   },
   {
    "duration": 42,
    "start_time": "2024-10-10T04:42:53.853Z"
   },
   {
    "duration": 9,
    "start_time": "2024-10-10T04:42:56.613Z"
   },
   {
    "duration": 71,
    "start_time": "2024-10-10T04:42:58.563Z"
   },
   {
    "duration": 6,
    "start_time": "2024-10-10T04:43:01.470Z"
   },
   {
    "duration": 15,
    "start_time": "2024-10-10T04:43:02.707Z"
   },
   {
    "duration": 27,
    "start_time": "2024-10-10T04:43:05.420Z"
   },
   {
    "duration": 7,
    "start_time": "2024-10-10T04:43:08.076Z"
   },
   {
    "duration": 8,
    "start_time": "2024-10-10T04:43:09.612Z"
   },
   {
    "duration": 19,
    "start_time": "2024-10-10T04:43:12.132Z"
   },
   {
    "duration": 114,
    "start_time": "2024-10-10T04:43:39.692Z"
   },
   {
    "duration": 99,
    "start_time": "2024-10-10T04:43:47.878Z"
   },
   {
    "duration": 590,
    "start_time": "2024-10-10T04:44:44.372Z"
   },
   {
    "duration": 1037,
    "start_time": "2024-10-10T04:45:10.991Z"
   },
   {
    "duration": 407,
    "start_time": "2024-10-10T04:45:12.030Z"
   },
   {
    "duration": 15,
    "start_time": "2024-10-10T04:45:12.438Z"
   },
   {
    "duration": 11,
    "start_time": "2024-10-10T04:45:12.455Z"
   },
   {
    "duration": 15,
    "start_time": "2024-10-10T04:45:12.469Z"
   },
   {
    "duration": 146,
    "start_time": "2024-10-10T04:45:12.485Z"
   },
   {
    "duration": 255,
    "start_time": "2024-10-10T04:45:12.632Z"
   },
   {
    "duration": 59,
    "start_time": "2024-10-10T04:45:12.889Z"
   },
   {
    "duration": 54,
    "start_time": "2024-10-10T04:45:12.950Z"
   },
   {
    "duration": 11,
    "start_time": "2024-10-10T04:45:13.006Z"
   },
   {
    "duration": 124,
    "start_time": "2024-10-10T04:45:13.019Z"
   },
   {
    "duration": 41,
    "start_time": "2024-10-10T04:45:13.146Z"
   },
   {
    "duration": 9,
    "start_time": "2024-10-10T04:45:13.188Z"
   },
   {
    "duration": 91,
    "start_time": "2024-10-10T04:45:13.201Z"
   },
   {
    "duration": 14,
    "start_time": "2024-10-10T04:45:13.294Z"
   },
   {
    "duration": 37,
    "start_time": "2024-10-10T04:45:13.310Z"
   },
   {
    "duration": 9,
    "start_time": "2024-10-10T04:45:13.349Z"
   },
   {
    "duration": 6,
    "start_time": "2024-10-10T04:45:13.360Z"
   },
   {
    "duration": 21,
    "start_time": "2024-10-10T04:45:13.368Z"
   },
   {
    "duration": 135,
    "start_time": "2024-10-10T04:45:13.391Z"
   },
   {
    "duration": 59,
    "start_time": "2024-10-10T04:45:13.529Z"
   },
   {
    "duration": 128,
    "start_time": "2024-10-10T04:45:13.590Z"
   },
   {
    "duration": 4,
    "start_time": "2024-10-10T04:45:13.720Z"
   },
   {
    "duration": 88,
    "start_time": "2024-10-10T04:45:13.726Z"
   },
   {
    "duration": 4,
    "start_time": "2024-10-10T04:45:13.816Z"
   },
   {
    "duration": 346,
    "start_time": "2024-10-10T04:45:13.822Z"
   },
   {
    "duration": 5486,
    "start_time": "2024-10-10T04:45:14.170Z"
   },
   {
    "duration": 116719,
    "start_time": "2024-10-10T04:45:19.658Z"
   },
   {
    "duration": 0,
    "start_time": "2024-10-10T04:47:16.379Z"
   },
   {
    "duration": 0,
    "start_time": "2024-10-10T04:47:16.381Z"
   },
   {
    "duration": 21,
    "start_time": "2024-10-10T04:55:49.265Z"
   },
   {
    "duration": 56,
    "start_time": "2024-10-10T04:56:00.863Z"
   },
   {
    "duration": 15,
    "start_time": "2024-10-10T04:56:36.544Z"
   },
   {
    "duration": 119,
    "start_time": "2024-10-10T04:56:41.664Z"
   },
   {
    "duration": 3,
    "start_time": "2024-10-10T04:56:43.698Z"
   },
   {
    "duration": 13,
    "start_time": "2024-10-10T04:56:45.704Z"
   },
   {
    "duration": 77,
    "start_time": "2024-10-10T04:58:16.029Z"
   },
   {
    "duration": 4,
    "start_time": "2024-10-10T04:58:19.497Z"
   },
   {
    "duration": 343,
    "start_time": "2024-10-10T04:58:32.544Z"
   },
   {
    "duration": 5628,
    "start_time": "2024-10-10T04:58:36.314Z"
   },
   {
    "duration": 16455,
    "start_time": "2024-10-10T04:58:49.840Z"
   },
   {
    "duration": 16301,
    "start_time": "2024-10-10T04:59:27.741Z"
   },
   {
    "duration": 40392,
    "start_time": "2024-10-10T04:59:54.536Z"
   },
   {
    "duration": 48213,
    "start_time": "2024-10-10T05:01:21.031Z"
   },
   {
    "duration": 16,
    "start_time": "2024-10-10T05:02:16.382Z"
   },
   {
    "duration": 24,
    "start_time": "2024-10-10T05:03:12.166Z"
   },
   {
    "duration": 4425,
    "start_time": "2024-10-10T05:03:19.744Z"
   },
   {
    "duration": 2,
    "start_time": "2024-10-10T05:05:26.199Z"
   },
   {
    "duration": 4340,
    "start_time": "2024-10-10T05:07:47.888Z"
   },
   {
    "duration": 4311,
    "start_time": "2024-10-10T05:08:21.176Z"
   },
   {
    "duration": 4323,
    "start_time": "2024-10-10T05:08:41.339Z"
   },
   {
    "duration": 4458,
    "start_time": "2024-10-10T05:08:51.696Z"
   },
   {
    "duration": 7961,
    "start_time": "2024-10-10T05:09:13.575Z"
   },
   {
    "duration": 45,
    "start_time": "2024-10-10T05:28:05.532Z"
   },
   {
    "duration": 22025,
    "start_time": "2024-10-10T05:36:52.431Z"
   },
   {
    "duration": 21947,
    "start_time": "2024-10-10T05:37:44.514Z"
   },
   {
    "duration": 22107,
    "start_time": "2024-10-10T05:41:33.555Z"
   },
   {
    "duration": 22000,
    "start_time": "2024-10-10T05:43:05.166Z"
   },
   {
    "duration": 0,
    "start_time": "2024-10-10T05:43:59.047Z"
   },
   {
    "duration": 22080,
    "start_time": "2024-10-10T05:44:38.380Z"
   },
   {
    "duration": 29,
    "start_time": "2024-10-10T05:55:06.052Z"
   },
   {
    "duration": 7,
    "start_time": "2024-10-10T05:57:29.246Z"
   },
   {
    "duration": 445,
    "start_time": "2024-10-10T05:57:39.212Z"
   },
   {
    "duration": 17,
    "start_time": "2024-10-10T06:09:06.231Z"
   },
   {
    "duration": 4,
    "start_time": "2024-10-10T06:09:40.075Z"
   },
   {
    "duration": 15,
    "start_time": "2024-10-10T06:09:48.251Z"
   },
   {
    "duration": 19,
    "start_time": "2024-10-10T06:16:06.537Z"
   },
   {
    "duration": 30336,
    "start_time": "2024-10-10T06:16:23.156Z"
   },
   {
    "duration": 18842,
    "start_time": "2024-10-10T06:17:06.715Z"
   },
   {
    "duration": 41257,
    "start_time": "2024-10-10T06:18:53.728Z"
   },
   {
    "duration": 4339,
    "start_time": "2024-10-10T06:19:35.112Z"
   },
   {
    "duration": 4,
    "start_time": "2024-10-10T06:21:39.697Z"
   },
   {
    "duration": 17,
    "start_time": "2024-10-10T06:22:16.460Z"
   },
   {
    "duration": 4,
    "start_time": "2024-10-10T06:22:23.510Z"
   },
   {
    "duration": 3,
    "start_time": "2024-10-10T06:22:26.021Z"
   },
   {
    "duration": 17,
    "start_time": "2024-10-10T06:22:33.505Z"
   },
   {
    "duration": 17,
    "start_time": "2024-10-10T06:22:46.015Z"
   },
   {
    "duration": 15,
    "start_time": "2024-10-10T06:23:01.557Z"
   },
   {
    "duration": 3,
    "start_time": "2024-10-10T06:23:15.337Z"
   },
   {
    "duration": 4,
    "start_time": "2024-10-10T06:23:26.870Z"
   },
   {
    "duration": 1350,
    "start_time": "2024-10-10T06:23:33.810Z"
   },
   {
    "duration": 4,
    "start_time": "2024-10-10T06:24:28.877Z"
   },
   {
    "duration": 1382,
    "start_time": "2024-10-10T06:24:55.668Z"
   },
   {
    "duration": 1404,
    "start_time": "2024-10-10T06:25:34.640Z"
   },
   {
    "duration": 1374,
    "start_time": "2024-10-10T06:26:04.085Z"
   },
   {
    "duration": 22310,
    "start_time": "2024-10-10T06:26:56.849Z"
   },
   {
    "duration": 22696,
    "start_time": "2024-10-10T06:27:30.568Z"
   },
   {
    "duration": 22141,
    "start_time": "2024-10-10T06:28:07.427Z"
   },
   {
    "duration": 22224,
    "start_time": "2024-10-10T06:28:36.037Z"
   },
   {
    "duration": 1413,
    "start_time": "2024-10-10T06:31:01.138Z"
   },
   {
    "duration": 1398,
    "start_time": "2024-10-10T06:31:18.860Z"
   },
   {
    "duration": 282,
    "start_time": "2024-10-10T06:32:38.815Z"
   },
   {
    "duration": 152,
    "start_time": "2024-10-10T06:33:18.769Z"
   },
   {
    "duration": 17,
    "start_time": "2024-10-10T06:33:35.672Z"
   },
   {
    "duration": 3,
    "start_time": "2024-10-10T06:33:49.627Z"
   },
   {
    "duration": 23527,
    "start_time": "2024-10-10T06:34:21.563Z"
   },
   {
    "duration": 6527,
    "start_time": "2024-10-10T06:34:55.660Z"
   },
   {
    "duration": 4346,
    "start_time": "2024-10-10T06:35:13.421Z"
   },
   {
    "duration": 148,
    "start_time": "2024-10-10T06:35:45.430Z"
   },
   {
    "duration": 1351,
    "start_time": "2024-10-10T06:36:02.511Z"
   },
   {
    "duration": 1416,
    "start_time": "2024-10-10T06:36:18.184Z"
   },
   {
    "duration": 5,
    "start_time": "2024-10-10T06:36:40.505Z"
   },
   {
    "duration": 2342,
    "start_time": "2024-10-10T06:36:46.219Z"
   },
   {
    "duration": 7644,
    "start_time": "2024-10-10T06:37:51.516Z"
   },
   {
    "duration": 4455,
    "start_time": "2024-10-10T06:38:20.905Z"
   },
   {
    "duration": 4502,
    "start_time": "2024-10-10T06:38:54.042Z"
   },
   {
    "duration": 1922,
    "start_time": "2024-10-10T06:39:12.823Z"
   },
   {
    "duration": 2210,
    "start_time": "2024-10-10T06:39:29.741Z"
   },
   {
    "duration": 1871,
    "start_time": "2024-10-10T06:39:50.673Z"
   },
   {
    "duration": 1901,
    "start_time": "2024-10-10T06:40:05.045Z"
   },
   {
    "duration": 1838,
    "start_time": "2024-10-10T06:40:22.005Z"
   },
   {
    "duration": 1927,
    "start_time": "2024-10-10T06:40:38.633Z"
   },
   {
    "duration": 1759,
    "start_time": "2024-10-10T06:40:57.290Z"
   },
   {
    "duration": 4,
    "start_time": "2024-10-10T06:41:10.160Z"
   },
   {
    "duration": 1831,
    "start_time": "2024-10-10T06:41:14.012Z"
   },
   {
    "duration": 2397,
    "start_time": "2024-10-10T06:41:21.150Z"
   },
   {
    "duration": 1379,
    "start_time": "2024-10-10T06:41:32.372Z"
   },
   {
    "duration": 1774,
    "start_time": "2024-10-10T06:42:08.081Z"
   },
   {
    "duration": 1660,
    "start_time": "2024-10-10T06:42:24.096Z"
   },
   {
    "duration": 1641,
    "start_time": "2024-10-10T06:42:33.717Z"
   },
   {
    "duration": 17,
    "start_time": "2024-10-10T06:42:48.522Z"
   },
   {
    "duration": 1823,
    "start_time": "2024-10-10T06:43:00.034Z"
   },
   {
    "duration": 1725,
    "start_time": "2024-10-10T06:43:12.417Z"
   },
   {
    "duration": 1745,
    "start_time": "2024-10-10T06:43:17.913Z"
   },
   {
    "duration": 1379,
    "start_time": "2024-10-10T06:46:16.484Z"
   },
   {
    "duration": 4963,
    "start_time": "2024-10-10T06:46:27.481Z"
   },
   {
    "duration": 1704,
    "start_time": "2024-10-10T06:47:52.343Z"
   },
   {
    "duration": 4582,
    "start_time": "2024-10-10T06:48:33.281Z"
   },
   {
    "duration": 1813,
    "start_time": "2024-10-10T06:48:54.538Z"
   },
   {
    "duration": 1796,
    "start_time": "2024-10-10T06:49:02.857Z"
   },
   {
    "duration": 8058,
    "start_time": "2024-10-10T06:54:06.366Z"
   },
   {
    "duration": 7963,
    "start_time": "2024-10-10T06:54:39.361Z"
   },
   {
    "duration": 3228,
    "start_time": "2024-10-11T02:21:57.531Z"
   },
   {
    "duration": 529,
    "start_time": "2024-10-11T02:22:00.761Z"
   },
   {
    "duration": 15,
    "start_time": "2024-10-11T02:22:01.292Z"
   },
   {
    "duration": 11,
    "start_time": "2024-10-11T02:22:01.309Z"
   },
   {
    "duration": 16,
    "start_time": "2024-10-11T02:22:01.323Z"
   },
   {
    "duration": 182,
    "start_time": "2024-10-11T02:22:01.341Z"
   },
   {
    "duration": 273,
    "start_time": "2024-10-11T02:22:01.525Z"
   },
   {
    "duration": 53,
    "start_time": "2024-10-11T02:22:01.800Z"
   },
   {
    "duration": 59,
    "start_time": "2024-10-11T02:22:01.855Z"
   },
   {
    "duration": 13,
    "start_time": "2024-10-11T02:22:01.916Z"
   },
   {
    "duration": 132,
    "start_time": "2024-10-11T02:22:01.931Z"
   },
   {
    "duration": 41,
    "start_time": "2024-10-11T02:22:02.071Z"
   },
   {
    "duration": 10,
    "start_time": "2024-10-11T02:22:02.114Z"
   },
   {
    "duration": 90,
    "start_time": "2024-10-11T02:22:02.127Z"
   },
   {
    "duration": 16,
    "start_time": "2024-10-11T02:22:02.219Z"
   },
   {
    "duration": 48,
    "start_time": "2024-10-11T02:22:02.237Z"
   },
   {
    "duration": 6,
    "start_time": "2024-10-11T02:22:02.287Z"
   },
   {
    "duration": 8,
    "start_time": "2024-10-11T02:22:02.295Z"
   },
   {
    "duration": 23,
    "start_time": "2024-10-11T02:22:02.304Z"
   },
   {
    "duration": 84,
    "start_time": "2024-10-11T02:22:02.329Z"
   },
   {
    "duration": 137,
    "start_time": "2024-10-11T02:22:02.415Z"
   },
   {
    "duration": 5,
    "start_time": "2024-10-11T02:22:02.555Z"
   },
   {
    "duration": 81,
    "start_time": "2024-10-11T02:22:02.570Z"
   },
   {
    "duration": 347,
    "start_time": "2024-10-11T02:22:02.653Z"
   },
   {
    "duration": 5992,
    "start_time": "2024-10-11T02:22:03.002Z"
   },
   {
    "duration": 17162,
    "start_time": "2024-10-11T02:22:08.999Z"
   },
   {
    "duration": 49840,
    "start_time": "2024-10-11T02:22:26.163Z"
   },
   {
    "duration": 36127,
    "start_time": "2024-10-11T02:23:16.005Z"
   },
   {
    "duration": 0,
    "start_time": "2024-10-11T02:23:52.134Z"
   },
   {
    "duration": 0,
    "start_time": "2024-10-11T02:23:52.136Z"
   },
   {
    "duration": 0,
    "start_time": "2024-10-11T02:23:52.137Z"
   },
   {
    "duration": 0,
    "start_time": "2024-10-11T02:23:52.138Z"
   },
   {
    "duration": 0,
    "start_time": "2024-10-11T02:23:52.139Z"
   },
   {
    "duration": 2686,
    "start_time": "2024-10-11T03:30:19.148Z"
   },
   {
    "duration": 488,
    "start_time": "2024-10-11T03:30:21.836Z"
   },
   {
    "duration": 13,
    "start_time": "2024-10-11T03:30:22.326Z"
   },
   {
    "duration": 10,
    "start_time": "2024-10-11T03:30:22.340Z"
   },
   {
    "duration": 15,
    "start_time": "2024-10-11T03:30:22.353Z"
   },
   {
    "duration": 151,
    "start_time": "2024-10-11T03:30:22.369Z"
   },
   {
    "duration": 265,
    "start_time": "2024-10-11T03:30:22.522Z"
   },
   {
    "duration": 52,
    "start_time": "2024-10-11T03:30:22.788Z"
   },
   {
    "duration": 61,
    "start_time": "2024-10-11T03:30:22.842Z"
   },
   {
    "duration": 12,
    "start_time": "2024-10-11T03:30:22.904Z"
   },
   {
    "duration": 126,
    "start_time": "2024-10-11T03:30:22.917Z"
   },
   {
    "duration": 47,
    "start_time": "2024-10-11T03:30:23.045Z"
   },
   {
    "duration": 8,
    "start_time": "2024-10-11T03:30:23.093Z"
   },
   {
    "duration": 100,
    "start_time": "2024-10-11T03:30:23.105Z"
   },
   {
    "duration": 17,
    "start_time": "2024-10-11T03:30:23.207Z"
   },
   {
    "duration": 26,
    "start_time": "2024-10-11T03:30:23.226Z"
   },
   {
    "duration": 6,
    "start_time": "2024-10-11T03:30:23.254Z"
   },
   {
    "duration": 9,
    "start_time": "2024-10-11T03:30:23.287Z"
   },
   {
    "duration": 20,
    "start_time": "2024-10-11T03:30:23.298Z"
   },
   {
    "duration": 71,
    "start_time": "2024-10-11T03:30:23.320Z"
   },
   {
    "duration": 131,
    "start_time": "2024-10-11T03:30:23.392Z"
   },
   {
    "duration": 3,
    "start_time": "2024-10-11T03:30:23.525Z"
   },
   {
    "duration": 88,
    "start_time": "2024-10-11T03:30:23.530Z"
   },
   {
    "duration": 347,
    "start_time": "2024-10-11T03:30:23.620Z"
   },
   {
    "duration": 5235,
    "start_time": "2024-10-11T03:30:23.969Z"
   },
   {
    "duration": 16035,
    "start_time": "2024-10-11T03:30:29.207Z"
   },
   {
    "duration": 45257,
    "start_time": "2024-10-11T03:30:45.244Z"
   },
   {
    "duration": 23162,
    "start_time": "2024-10-11T03:31:30.503Z"
   },
   {
    "duration": 0,
    "start_time": "2024-10-11T03:31:53.666Z"
   },
   {
    "duration": 0,
    "start_time": "2024-10-11T03:31:53.667Z"
   },
   {
    "duration": 0,
    "start_time": "2024-10-11T03:31:53.668Z"
   },
   {
    "duration": 0,
    "start_time": "2024-10-11T03:31:53.669Z"
   },
   {
    "duration": 0,
    "start_time": "2024-10-11T03:31:53.670Z"
   },
   {
    "duration": 8,
    "start_time": "2024-10-11T03:57:46.374Z"
   },
   {
    "duration": 4,
    "start_time": "2024-10-11T04:06:23.250Z"
   },
   {
    "duration": 1079,
    "start_time": "2024-10-11T04:06:30.595Z"
   },
   {
    "duration": 403,
    "start_time": "2024-10-11T04:06:31.677Z"
   },
   {
    "duration": 16,
    "start_time": "2024-10-11T04:06:32.082Z"
   },
   {
    "duration": 12,
    "start_time": "2024-10-11T04:06:32.099Z"
   },
   {
    "duration": 15,
    "start_time": "2024-10-11T04:06:32.114Z"
   },
   {
    "duration": 144,
    "start_time": "2024-10-11T04:06:32.131Z"
   },
   {
    "duration": 243,
    "start_time": "2024-10-11T04:06:32.277Z"
   },
   {
    "duration": 50,
    "start_time": "2024-10-11T04:06:32.522Z"
   },
   {
    "duration": 53,
    "start_time": "2024-10-11T04:06:32.586Z"
   },
   {
    "duration": 12,
    "start_time": "2024-10-11T04:06:32.640Z"
   },
   {
    "duration": 114,
    "start_time": "2024-10-11T04:06:32.654Z"
   },
   {
    "duration": 44,
    "start_time": "2024-10-11T04:06:32.770Z"
   },
   {
    "duration": 7,
    "start_time": "2024-10-11T04:06:32.816Z"
   },
   {
    "duration": 87,
    "start_time": "2024-10-11T04:06:32.826Z"
   },
   {
    "duration": 17,
    "start_time": "2024-10-11T04:06:32.914Z"
   },
   {
    "duration": 26,
    "start_time": "2024-10-11T04:06:32.933Z"
   },
   {
    "duration": 25,
    "start_time": "2024-10-11T04:06:32.960Z"
   },
   {
    "duration": 8,
    "start_time": "2024-10-11T04:06:32.987Z"
   },
   {
    "duration": 24,
    "start_time": "2024-10-11T04:06:32.996Z"
   },
   {
    "duration": 71,
    "start_time": "2024-10-11T04:06:33.022Z"
   },
   {
    "duration": 135,
    "start_time": "2024-10-11T04:06:33.097Z"
   },
   {
    "duration": 4,
    "start_time": "2024-10-11T04:06:33.233Z"
   },
   {
    "duration": 87,
    "start_time": "2024-10-11T04:06:33.239Z"
   },
   {
    "duration": 346,
    "start_time": "2024-10-11T04:06:33.327Z"
   },
   {
    "duration": 5212,
    "start_time": "2024-10-11T04:06:33.675Z"
   },
   {
    "duration": 15992,
    "start_time": "2024-10-11T04:06:38.889Z"
   },
   {
    "duration": 45325,
    "start_time": "2024-10-11T04:06:54.886Z"
   },
   {
    "duration": 6,
    "start_time": "2024-10-11T04:07:40.213Z"
   },
   {
    "duration": 0,
    "start_time": "2024-10-11T04:07:40.221Z"
   },
   {
    "duration": 0,
    "start_time": "2024-10-11T04:07:40.221Z"
   },
   {
    "duration": 0,
    "start_time": "2024-10-11T04:07:40.223Z"
   },
   {
    "duration": 0,
    "start_time": "2024-10-11T04:07:40.224Z"
   },
   {
    "duration": 0,
    "start_time": "2024-10-11T04:07:40.225Z"
   },
   {
    "duration": 4,
    "start_time": "2024-10-11T04:08:00.899Z"
   },
   {
    "duration": 4,
    "start_time": "2024-10-11T04:08:09.959Z"
   },
   {
    "duration": 22218,
    "start_time": "2024-10-11T04:08:27.758Z"
   },
   {
    "duration": 21848,
    "start_time": "2024-10-11T04:09:08.452Z"
   },
   {
    "duration": 22059,
    "start_time": "2024-10-11T04:09:57.445Z"
   },
   {
    "duration": 4505,
    "start_time": "2024-10-11T04:10:43.488Z"
   },
   {
    "duration": 7928,
    "start_time": "2024-10-11T04:11:04.796Z"
   },
   {
    "duration": 21979,
    "start_time": "2024-10-11T04:11:25.830Z"
   },
   {
    "duration": 21969,
    "start_time": "2024-10-11T04:15:14.727Z"
   },
   {
    "duration": 3,
    "start_time": "2024-10-11T04:16:01.223Z"
   },
   {
    "duration": 22687,
    "start_time": "2024-10-11T04:16:12.025Z"
   },
   {
    "duration": 2771,
    "start_time": "2024-10-11T04:57:52.893Z"
   },
   {
    "duration": 464,
    "start_time": "2024-10-11T04:57:55.667Z"
   },
   {
    "duration": 14,
    "start_time": "2024-10-11T04:57:56.133Z"
   },
   {
    "duration": 11,
    "start_time": "2024-10-11T04:57:56.149Z"
   },
   {
    "duration": 23,
    "start_time": "2024-10-11T04:57:56.161Z"
   },
   {
    "duration": 148,
    "start_time": "2024-10-11T04:57:56.186Z"
   },
   {
    "duration": 286,
    "start_time": "2024-10-11T04:57:56.336Z"
   },
   {
    "duration": 55,
    "start_time": "2024-10-11T04:57:56.623Z"
   },
   {
    "duration": 51,
    "start_time": "2024-10-11T04:57:56.680Z"
   },
   {
    "duration": 11,
    "start_time": "2024-10-11T04:57:56.734Z"
   },
   {
    "duration": 139,
    "start_time": "2024-10-11T04:57:56.747Z"
   },
   {
    "duration": 41,
    "start_time": "2024-10-11T04:57:56.888Z"
   },
   {
    "duration": 9,
    "start_time": "2024-10-11T04:57:56.930Z"
   },
   {
    "duration": 91,
    "start_time": "2024-10-11T04:57:56.941Z"
   },
   {
    "duration": 14,
    "start_time": "2024-10-11T04:57:57.034Z"
   },
   {
    "duration": 36,
    "start_time": "2024-10-11T04:57:57.049Z"
   },
   {
    "duration": 7,
    "start_time": "2024-10-11T04:57:57.087Z"
   },
   {
    "duration": 6,
    "start_time": "2024-10-11T04:57:57.096Z"
   },
   {
    "duration": 19,
    "start_time": "2024-10-11T04:57:57.104Z"
   },
   {
    "duration": 91,
    "start_time": "2024-10-11T04:57:57.124Z"
   },
   {
    "duration": 127,
    "start_time": "2024-10-11T04:57:57.217Z"
   },
   {
    "duration": 4,
    "start_time": "2024-10-11T04:57:57.346Z"
   },
   {
    "duration": 93,
    "start_time": "2024-10-11T04:57:57.352Z"
   },
   {
    "duration": 330,
    "start_time": "2024-10-11T04:57:57.447Z"
   },
   {
    "duration": 5491,
    "start_time": "2024-10-11T04:57:57.779Z"
   },
   {
    "duration": 16031,
    "start_time": "2024-10-11T04:58:03.272Z"
   },
   {
    "duration": 45388,
    "start_time": "2024-10-11T04:58:19.305Z"
   },
   {
    "duration": 21987,
    "start_time": "2024-10-11T04:59:04.696Z"
   },
   {
    "duration": 22186,
    "start_time": "2024-10-11T04:59:26.685Z"
   },
   {
    "duration": 5,
    "start_time": "2024-10-11T04:59:48.872Z"
   },
   {
    "duration": 0,
    "start_time": "2024-10-11T04:59:48.878Z"
   },
   {
    "duration": 0,
    "start_time": "2024-10-11T04:59:48.879Z"
   },
   {
    "duration": 0,
    "start_time": "2024-10-11T04:59:48.881Z"
   },
   {
    "duration": 5,
    "start_time": "2024-10-11T05:10:43.180Z"
   },
   {
    "duration": 22001,
    "start_time": "2024-10-11T05:10:47.686Z"
   },
   {
    "duration": 22102,
    "start_time": "2024-10-11T05:11:46.077Z"
   },
   {
    "duration": 22015,
    "start_time": "2024-10-11T05:12:18.876Z"
   },
   {
    "duration": 21938,
    "start_time": "2024-10-11T05:32:40.232Z"
   },
   {
    "duration": 22085,
    "start_time": "2024-10-11T05:44:15.494Z"
   },
   {
    "duration": 21973,
    "start_time": "2024-10-11T05:45:37.900Z"
   },
   {
    "duration": 5809,
    "start_time": "2024-10-11T05:55:46.675Z"
   },
   {
    "duration": 6264,
    "start_time": "2024-10-11T05:56:26.315Z"
   },
   {
    "duration": 2853,
    "start_time": "2024-10-12T01:50:49.729Z"
   },
   {
    "duration": 457,
    "start_time": "2024-10-12T01:50:52.584Z"
   },
   {
    "duration": 13,
    "start_time": "2024-10-12T01:50:53.043Z"
   },
   {
    "duration": 11,
    "start_time": "2024-10-12T01:50:53.059Z"
   },
   {
    "duration": 36,
    "start_time": "2024-10-12T01:50:53.072Z"
   },
   {
    "duration": 131,
    "start_time": "2024-10-12T01:50:53.110Z"
   },
   {
    "duration": 257,
    "start_time": "2024-10-12T01:50:53.242Z"
   },
   {
    "duration": 57,
    "start_time": "2024-10-12T01:50:53.500Z"
   },
   {
    "duration": 57,
    "start_time": "2024-10-12T01:50:53.558Z"
   },
   {
    "duration": 11,
    "start_time": "2024-10-12T01:50:53.618Z"
   },
   {
    "duration": 114,
    "start_time": "2024-10-12T01:50:53.631Z"
   },
   {
    "duration": 47,
    "start_time": "2024-10-12T01:50:53.748Z"
   },
   {
    "duration": 18,
    "start_time": "2024-10-12T01:50:53.797Z"
   },
   {
    "duration": 69,
    "start_time": "2024-10-12T01:50:53.818Z"
   },
   {
    "duration": 30,
    "start_time": "2024-10-12T01:50:53.889Z"
   },
   {
    "duration": 25,
    "start_time": "2024-10-12T01:50:53.921Z"
   },
   {
    "duration": 7,
    "start_time": "2024-10-12T01:50:53.948Z"
   },
   {
    "duration": 6,
    "start_time": "2024-10-12T01:50:53.957Z"
   },
   {
    "duration": 49,
    "start_time": "2024-10-12T01:50:53.965Z"
   },
   {
    "duration": 54,
    "start_time": "2024-10-12T01:50:54.016Z"
   },
   {
    "duration": 134,
    "start_time": "2024-10-12T01:50:54.072Z"
   },
   {
    "duration": 4,
    "start_time": "2024-10-12T01:50:54.208Z"
   },
   {
    "duration": 78,
    "start_time": "2024-10-12T01:50:54.214Z"
   },
   {
    "duration": 340,
    "start_time": "2024-10-12T01:50:54.294Z"
   },
   {
    "duration": 5481,
    "start_time": "2024-10-12T01:50:54.636Z"
   },
   {
    "duration": 22002,
    "start_time": "2024-10-12T01:51:00.123Z"
   },
   {
    "duration": 16152,
    "start_time": "2024-10-12T01:51:22.127Z"
   },
   {
    "duration": 45671,
    "start_time": "2024-10-12T01:51:38.284Z"
   },
   {
    "duration": 22167,
    "start_time": "2024-10-12T01:52:23.957Z"
   },
   {
    "duration": 21904,
    "start_time": "2024-10-12T01:52:46.125Z"
   },
   {
    "duration": 80,
    "start_time": "2024-10-12T01:53:08.031Z"
   },
   {
    "duration": 0,
    "start_time": "2024-10-12T01:53:08.113Z"
   },
   {
    "duration": 0,
    "start_time": "2024-10-12T01:53:08.114Z"
   },
   {
    "duration": 0,
    "start_time": "2024-10-12T01:53:08.116Z"
   },
   {
    "duration": 4,
    "start_time": "2024-10-12T01:54:57.819Z"
   },
   {
    "duration": 16051,
    "start_time": "2024-10-12T01:55:48.658Z"
   },
   {
    "duration": 16102,
    "start_time": "2024-10-12T01:57:00.040Z"
   },
   {
    "duration": 16096,
    "start_time": "2024-10-12T02:03:15.999Z"
   },
   {
    "duration": 16169,
    "start_time": "2024-10-12T02:04:03.208Z"
   },
   {
    "duration": 10665,
    "start_time": "2024-10-12T02:07:40.520Z"
   },
   {
    "duration": 3,
    "start_time": "2024-10-12T02:26:53.199Z"
   },
   {
    "duration": 45509,
    "start_time": "2024-10-12T02:42:14.552Z"
   },
   {
    "duration": 45594,
    "start_time": "2024-10-12T02:45:27.352Z"
   },
   {
    "duration": 22197,
    "start_time": "2024-10-12T02:47:15.720Z"
   },
   {
    "duration": 21756,
    "start_time": "2024-10-12T02:48:59.073Z"
   },
   {
    "duration": 21980,
    "start_time": "2024-10-12T02:59:11.944Z"
   },
   {
    "duration": 21802,
    "start_time": "2024-10-12T02:59:39.724Z"
   },
   {
    "duration": 159,
    "start_time": "2024-10-12T03:51:59.072Z"
   },
   {
    "duration": 2701,
    "start_time": "2024-10-12T03:52:30.954Z"
   },
   {
    "duration": 487,
    "start_time": "2024-10-12T03:52:33.657Z"
   },
   {
    "duration": 15,
    "start_time": "2024-10-12T03:52:34.145Z"
   },
   {
    "duration": 12,
    "start_time": "2024-10-12T03:52:34.163Z"
   },
   {
    "duration": 19,
    "start_time": "2024-10-12T03:52:34.176Z"
   },
   {
    "duration": 138,
    "start_time": "2024-10-12T03:52:34.197Z"
   },
   {
    "duration": 251,
    "start_time": "2024-10-12T03:52:34.337Z"
   },
   {
    "duration": 51,
    "start_time": "2024-10-12T03:52:34.590Z"
   },
   {
    "duration": 59,
    "start_time": "2024-10-12T03:52:34.644Z"
   },
   {
    "duration": 11,
    "start_time": "2024-10-12T03:52:34.706Z"
   },
   {
    "duration": 113,
    "start_time": "2024-10-12T03:52:34.719Z"
   },
   {
    "duration": 40,
    "start_time": "2024-10-12T03:52:34.834Z"
   },
   {
    "duration": 8,
    "start_time": "2024-10-12T03:52:34.887Z"
   },
   {
    "duration": 69,
    "start_time": "2024-10-12T03:52:34.897Z"
   },
   {
    "duration": 26,
    "start_time": "2024-10-12T03:52:34.967Z"
   },
   {
    "duration": 25,
    "start_time": "2024-10-12T03:52:34.995Z"
   },
   {
    "duration": 6,
    "start_time": "2024-10-12T03:52:35.021Z"
   },
   {
    "duration": 6,
    "start_time": "2024-10-12T03:52:35.029Z"
   },
   {
    "duration": 21,
    "start_time": "2024-10-12T03:52:35.037Z"
   },
   {
    "duration": 57,
    "start_time": "2024-10-12T03:52:35.086Z"
   },
   {
    "duration": 136,
    "start_time": "2024-10-12T03:52:35.144Z"
   },
   {
    "duration": 5,
    "start_time": "2024-10-12T03:52:35.282Z"
   },
   {
    "duration": 80,
    "start_time": "2024-10-12T03:52:35.289Z"
   },
   {
    "duration": 336,
    "start_time": "2024-10-12T03:52:35.371Z"
   },
   {
    "duration": 5201,
    "start_time": "2024-10-12T03:52:35.709Z"
   },
   {
    "duration": 561,
    "start_time": "2024-10-12T03:52:40.987Z"
   },
   {
    "duration": 0,
    "start_time": "2024-10-12T03:52:41.551Z"
   },
   {
    "duration": 0,
    "start_time": "2024-10-12T03:52:41.553Z"
   },
   {
    "duration": 0,
    "start_time": "2024-10-12T03:52:41.554Z"
   },
   {
    "duration": 0,
    "start_time": "2024-10-12T03:52:41.556Z"
   },
   {
    "duration": 0,
    "start_time": "2024-10-12T03:52:41.557Z"
   },
   {
    "duration": 0,
    "start_time": "2024-10-12T03:52:41.559Z"
   },
   {
    "duration": 2,
    "start_time": "2024-10-12T03:53:57.375Z"
   },
   {
    "duration": 222,
    "start_time": "2024-10-12T03:55:42.389Z"
   },
   {
    "duration": 10666,
    "start_time": "2024-10-12T03:55:51.564Z"
   },
   {
    "duration": 1692,
    "start_time": "2024-10-12T04:03:50.522Z"
   },
   {
    "duration": 1732,
    "start_time": "2024-10-12T04:04:18.861Z"
   },
   {
    "duration": 1682,
    "start_time": "2024-10-12T04:04:24.320Z"
   },
   {
    "duration": 4492,
    "start_time": "2024-10-12T04:04:33.395Z"
   },
   {
    "duration": 1354,
    "start_time": "2024-10-12T04:07:34.154Z"
   },
   {
    "duration": 3491,
    "start_time": "2024-10-12T04:07:47.812Z"
   },
   {
    "duration": 3372,
    "start_time": "2024-10-12T04:08:24.534Z"
   },
   {
    "duration": 2585,
    "start_time": "2024-10-12T04:08:35.621Z"
   },
   {
    "duration": 3386,
    "start_time": "2024-10-12T04:08:54.711Z"
   },
   {
    "duration": 3515,
    "start_time": "2024-10-12T04:09:12.473Z"
   },
   {
    "duration": 3088,
    "start_time": "2024-10-12T04:09:24.423Z"
   },
   {
    "duration": 2029,
    "start_time": "2024-10-12T04:09:36.758Z"
   },
   {
    "duration": 2622,
    "start_time": "2024-10-12T04:10:17.893Z"
   },
   {
    "duration": 2380,
    "start_time": "2024-10-12T04:10:23.312Z"
   },
   {
    "duration": 2045,
    "start_time": "2024-10-12T04:10:34.063Z"
   },
   {
    "duration": 21946,
    "start_time": "2024-10-12T04:10:46.461Z"
   },
   {
    "duration": 2006,
    "start_time": "2024-10-12T04:11:53.695Z"
   },
   {
    "duration": 3498,
    "start_time": "2024-10-12T04:12:00.404Z"
   },
   {
    "duration": 3461,
    "start_time": "2024-10-12T04:12:09.239Z"
   },
   {
    "duration": 22095,
    "start_time": "2024-10-12T04:12:40.112Z"
   },
   {
    "duration": 10,
    "start_time": "2024-10-12T04:18:02.325Z"
   },
   {
    "duration": 3397,
    "start_time": "2024-10-12T04:18:09.902Z"
   },
   {
    "duration": 45145,
    "start_time": "2024-10-12T04:33:47.298Z"
   },
   {
    "duration": 3544,
    "start_time": "2024-10-12T04:35:53.744Z"
   },
   {
    "duration": 5,
    "start_time": "2024-10-12T04:39:21.577Z"
   },
   {
    "duration": 7941,
    "start_time": "2024-10-12T04:39:31.209Z"
   },
   {
    "duration": 1047,
    "start_time": "2024-10-12T04:40:46.073Z"
   },
   {
    "duration": 417,
    "start_time": "2024-10-12T04:40:47.122Z"
   },
   {
    "duration": 17,
    "start_time": "2024-10-12T04:40:47.540Z"
   },
   {
    "duration": 19,
    "start_time": "2024-10-12T04:40:47.560Z"
   },
   {
    "duration": 10,
    "start_time": "2024-10-12T04:40:47.592Z"
   },
   {
    "duration": 134,
    "start_time": "2024-10-12T04:40:47.603Z"
   },
   {
    "duration": 257,
    "start_time": "2024-10-12T04:40:47.739Z"
   },
   {
    "duration": 53,
    "start_time": "2024-10-12T04:40:47.998Z"
   },
   {
    "duration": 63,
    "start_time": "2024-10-12T04:40:48.053Z"
   },
   {
    "duration": 19,
    "start_time": "2024-10-12T04:40:48.121Z"
   },
   {
    "duration": 111,
    "start_time": "2024-10-12T04:40:48.142Z"
   },
   {
    "duration": 49,
    "start_time": "2024-10-12T04:40:48.255Z"
   },
   {
    "duration": 8,
    "start_time": "2024-10-12T04:40:48.306Z"
   },
   {
    "duration": 80,
    "start_time": "2024-10-12T04:40:48.316Z"
   },
   {
    "duration": 17,
    "start_time": "2024-10-12T04:40:48.397Z"
   },
   {
    "duration": 24,
    "start_time": "2024-10-12T04:40:48.416Z"
   },
   {
    "duration": 6,
    "start_time": "2024-10-12T04:40:48.442Z"
   },
   {
    "duration": 6,
    "start_time": "2024-10-12T04:40:48.450Z"
   },
   {
    "duration": 45,
    "start_time": "2024-10-12T04:40:48.458Z"
   },
   {
    "duration": 52,
    "start_time": "2024-10-12T04:40:48.505Z"
   },
   {
    "duration": 138,
    "start_time": "2024-10-12T04:40:48.559Z"
   },
   {
    "duration": 4,
    "start_time": "2024-10-12T04:40:48.698Z"
   },
   {
    "duration": 93,
    "start_time": "2024-10-12T04:40:48.704Z"
   },
   {
    "duration": 330,
    "start_time": "2024-10-12T04:40:48.799Z"
   },
   {
    "duration": 5171,
    "start_time": "2024-10-12T04:40:49.132Z"
   },
   {
    "duration": 10832,
    "start_time": "2024-10-12T04:40:54.305Z"
   },
   {
    "duration": 44911,
    "start_time": "2024-10-12T04:41:05.139Z"
   },
   {
    "duration": 22043,
    "start_time": "2024-10-12T04:41:50.054Z"
   },
   {
    "duration": 3607,
    "start_time": "2024-10-12T04:42:12.098Z"
   },
   {
    "duration": 7989,
    "start_time": "2024-10-12T04:42:15.707Z"
   },
   {
    "duration": 5,
    "start_time": "2024-10-12T04:42:23.698Z"
   },
   {
    "duration": 3,
    "start_time": "2024-10-12T04:50:19.187Z"
   },
   {
    "duration": 268,
    "start_time": "2024-10-12T05:08:23.058Z"
   },
   {
    "duration": 10,
    "start_time": "2024-10-12T05:08:50.448Z"
   },
   {
    "duration": 4,
    "start_time": "2024-10-12T05:10:19.828Z"
   },
   {
    "duration": 10,
    "start_time": "2024-10-12T05:10:48.773Z"
   },
   {
    "duration": 4,
    "start_time": "2024-10-12T05:10:53.059Z"
   },
   {
    "duration": 11,
    "start_time": "2024-10-12T05:11:31.108Z"
   },
   {
    "duration": 4,
    "start_time": "2024-10-12T05:11:34.979Z"
   },
   {
    "duration": 417,
    "start_time": "2024-10-12T05:11:59.843Z"
   },
   {
    "duration": 44,
    "start_time": "2024-10-12T05:12:05.106Z"
   },
   {
    "duration": 10,
    "start_time": "2024-10-12T05:12:21.660Z"
   },
   {
    "duration": 45,
    "start_time": "2024-10-12T05:12:23.670Z"
   },
   {
    "duration": 4,
    "start_time": "2024-10-12T05:12:35.843Z"
   },
   {
    "duration": 15,
    "start_time": "2024-10-12T05:12:51.811Z"
   },
   {
    "duration": 45,
    "start_time": "2024-10-12T05:12:56.787Z"
   },
   {
    "duration": 4,
    "start_time": "2024-10-12T05:16:08.078Z"
   },
   {
    "duration": 9,
    "start_time": "2024-10-12T05:16:24.584Z"
   },
   {
    "duration": 8,
    "start_time": "2024-10-12T05:18:35.611Z"
   },
   {
    "duration": 8,
    "start_time": "2024-10-12T05:18:39.619Z"
   },
   {
    "duration": 7,
    "start_time": "2024-10-12T05:24:09.894Z"
   },
   {
    "duration": 8,
    "start_time": "2024-10-12T05:24:12.443Z"
   },
   {
    "duration": 3,
    "start_time": "2024-10-12T05:44:01.439Z"
   },
   {
    "duration": 1014,
    "start_time": "2024-10-12T05:51:58.147Z"
   },
   {
    "duration": 400,
    "start_time": "2024-10-12T05:51:59.163Z"
   },
   {
    "duration": 24,
    "start_time": "2024-10-12T05:51:59.564Z"
   },
   {
    "duration": 11,
    "start_time": "2024-10-12T05:51:59.590Z"
   },
   {
    "duration": 14,
    "start_time": "2024-10-12T05:51:59.603Z"
   },
   {
    "duration": 147,
    "start_time": "2024-10-12T05:51:59.619Z"
   },
   {
    "duration": 252,
    "start_time": "2024-10-12T05:51:59.767Z"
   },
   {
    "duration": 50,
    "start_time": "2024-10-12T05:52:00.022Z"
   },
   {
    "duration": 59,
    "start_time": "2024-10-12T05:52:00.074Z"
   },
   {
    "duration": 11,
    "start_time": "2024-10-12T05:52:00.136Z"
   },
   {
    "duration": 110,
    "start_time": "2024-10-12T05:52:00.149Z"
   },
   {
    "duration": 44,
    "start_time": "2024-10-12T05:52:00.261Z"
   },
   {
    "duration": 8,
    "start_time": "2024-10-12T05:52:00.307Z"
   },
   {
    "duration": 84,
    "start_time": "2024-10-12T05:52:00.316Z"
   },
   {
    "duration": 13,
    "start_time": "2024-10-12T05:52:00.402Z"
   },
   {
    "duration": 25,
    "start_time": "2024-10-12T05:52:00.417Z"
   },
   {
    "duration": 6,
    "start_time": "2024-10-12T05:52:00.443Z"
   },
   {
    "duration": 5,
    "start_time": "2024-10-12T05:52:00.452Z"
   },
   {
    "duration": 43,
    "start_time": "2024-10-12T05:52:00.459Z"
   },
   {
    "duration": 54,
    "start_time": "2024-10-12T05:52:00.503Z"
   },
   {
    "duration": 134,
    "start_time": "2024-10-12T05:52:00.559Z"
   },
   {
    "duration": 7,
    "start_time": "2024-10-12T05:52:00.696Z"
   },
   {
    "duration": 91,
    "start_time": "2024-10-12T05:52:00.705Z"
   },
   {
    "duration": 334,
    "start_time": "2024-10-12T05:52:00.798Z"
   },
   {
    "duration": 5259,
    "start_time": "2024-10-12T05:52:01.134Z"
   },
   {
    "duration": 10593,
    "start_time": "2024-10-12T05:52:06.395Z"
   },
   {
    "duration": 44865,
    "start_time": "2024-10-12T05:52:16.990Z"
   },
   {
    "duration": 21943,
    "start_time": "2024-10-12T05:53:01.859Z"
   },
   {
    "duration": 3496,
    "start_time": "2024-10-12T05:53:23.804Z"
   },
   {
    "duration": 7950,
    "start_time": "2024-10-12T05:53:27.302Z"
   },
   {
    "duration": 10,
    "start_time": "2024-10-12T05:53:35.254Z"
   },
   {
    "duration": 7,
    "start_time": "2024-10-12T05:53:35.266Z"
   },
   {
    "duration": 6,
    "start_time": "2024-10-12T05:53:35.275Z"
   },
   {
    "duration": 7,
    "start_time": "2024-10-12T05:53:35.283Z"
   },
   {
    "duration": 2869,
    "start_time": "2024-10-12T06:58:26.825Z"
   },
   {
    "duration": 484,
    "start_time": "2024-10-12T06:58:29.697Z"
   },
   {
    "duration": 23,
    "start_time": "2024-10-12T06:58:30.182Z"
   },
   {
    "duration": 12,
    "start_time": "2024-10-12T06:58:30.206Z"
   },
   {
    "duration": 10,
    "start_time": "2024-10-12T06:58:30.222Z"
   },
   {
    "duration": 143,
    "start_time": "2024-10-12T06:58:30.233Z"
   },
   {
    "duration": 257,
    "start_time": "2024-10-12T06:58:30.378Z"
   },
   {
    "duration": 51,
    "start_time": "2024-10-12T06:58:30.637Z"
   },
   {
    "duration": 69,
    "start_time": "2024-10-12T06:58:30.690Z"
   },
   {
    "duration": 11,
    "start_time": "2024-10-12T06:58:30.761Z"
   },
   {
    "duration": 115,
    "start_time": "2024-10-12T06:58:30.774Z"
   },
   {
    "duration": 46,
    "start_time": "2024-10-12T06:58:30.890Z"
   },
   {
    "duration": 8,
    "start_time": "2024-10-12T06:58:30.938Z"
   },
   {
    "duration": 84,
    "start_time": "2024-10-12T06:58:30.949Z"
   },
   {
    "duration": 15,
    "start_time": "2024-10-12T06:58:31.035Z"
   },
   {
    "duration": 26,
    "start_time": "2024-10-12T06:58:31.052Z"
   },
   {
    "duration": 31,
    "start_time": "2024-10-12T06:58:31.079Z"
   },
   {
    "duration": 6,
    "start_time": "2024-10-12T06:58:31.112Z"
   },
   {
    "duration": 6,
    "start_time": "2024-10-12T06:59:05.481Z"
   },
   {
    "duration": 22,
    "start_time": "2024-10-12T06:59:44.146Z"
   },
   {
    "duration": 56,
    "start_time": "2024-10-12T07:00:18.870Z"
   },
   {
    "duration": 55,
    "start_time": "2024-10-12T07:01:05.202Z"
   },
   {
    "duration": 116,
    "start_time": "2024-10-12T07:01:08.388Z"
   },
   {
    "duration": 240,
    "start_time": "2024-10-12T07:04:22.625Z"
   },
   {
    "duration": 4,
    "start_time": "2024-10-12T07:04:32.970Z"
   },
   {
    "duration": 80,
    "start_time": "2024-10-12T07:04:33.882Z"
   },
   {
    "duration": 332,
    "start_time": "2024-10-12T07:04:34.751Z"
   },
   {
    "duration": 5550,
    "start_time": "2024-10-12T07:04:37.856Z"
   },
   {
    "duration": 5514,
    "start_time": "2024-10-12T07:13:03.594Z"
   },
   {
    "duration": 5523,
    "start_time": "2024-10-12T07:13:24.882Z"
   },
   {
    "duration": 21,
    "start_time": "2024-10-12T07:14:34.564Z"
   },
   {
    "duration": 21950,
    "start_time": "2024-10-12T07:16:15.982Z"
   },
   {
    "duration": 15,
    "start_time": "2024-10-12T07:23:38.413Z"
   },
   {
    "duration": 5,
    "start_time": "2024-10-12T07:23:46.881Z"
   },
   {
    "duration": 4,
    "start_time": "2024-10-12T07:24:02.527Z"
   },
   {
    "duration": 12,
    "start_time": "2024-10-12T07:24:13.145Z"
   }
  ],
  "kernelspec": {
   "display_name": "Python 3 (ipykernel)",
   "language": "python",
   "name": "python3"
  },
  "language_info": {
   "codemirror_mode": {
    "name": "ipython",
    "version": 3
   },
   "file_extension": ".py",
   "mimetype": "text/x-python",
   "name": "python",
   "nbconvert_exporter": "python",
   "pygments_lexer": "ipython3",
   "version": "3.9.19"
  },
  "toc": {
   "base_numbering": 1,
   "nav_menu": {},
   "number_sections": true,
   "sideBar": true,
   "skip_h1_title": true,
   "title_cell": "Table of Contents",
   "title_sidebar": "Contents",
   "toc_cell": false,
   "toc_position": {},
   "toc_section_display": true,
   "toc_window_display": false
  }
 },
 "nbformat": 4,
 "nbformat_minor": 2
}
